{
 "cells": [
  {
   "cell_type": "code",
   "execution_count": 3,
   "id": "9288a619",
   "metadata": {},
   "outputs": [],
   "source": [
    "# Импорт библиотек\n",
    "import pandas as pd\n",
    "import numpy as np\n",
    "from catboost import CatBoostRegressor, Pool, cv\n",
    "from sklearn.model_selection import train_test_split\n",
    "from sklearn.metrics import root_mean_squared_error, r2_score, mean_absolute_error, mean_squared_error\n",
    "import optuna\n",
    "import matplotlib.pyplot as plt\n",
    "import seaborn as sns\n",
    "import joblib\n",
    "from sklearn.preprocessing import PolynomialFeatures\n",
    "import plotly.express as px\n",
    "import optuna\n",
    "\n",
    "# Установка максимального количества отображаемых строк и столбцов\n",
    "\n",
    "pd.set_option('display.max_columns', None)  # Показать все столбцы\n",
    "\n",
    "\n"
   ]
  },
  {
   "cell_type": "code",
   "execution_count": null,
   "id": "936d207f",
   "metadata": {},
   "outputs": [],
   "source": [
    "#  Загрузка данных\n",
    "df = pd.read_csv(r\"data\\avito_clean_final.csv\")  \n",
    "\n",
    "#  Целевая переменная\n",
    "TARGET = \"Цена\"\n",
    "\n",
    "#  Признаки\n",
    "features = df.drop(columns=[TARGET]).columns.tolist()\n",
    "cat_features = df[features].select_dtypes(include=[\"object\", \"category\"]).columns.tolist()\n",
    "\n",
    "# Рандом стейт \n",
    "random_state=42\n",
    "\n",
    "model_results = []\n",
    "\n"
   ]
  },
  {
   "cell_type": "code",
   "execution_count": 5,
   "id": "4ecefce5",
   "metadata": {},
   "outputs": [],
   "source": [
    "def fit_and_save_model_results(model, model_name, df, log_target=False):\n",
    "    \"\"\"\n",
    "    Обучает модель, вычисляет метрики и сохраняет результаты\n",
    "    \n",
    "    Параметры:\n",
    "    model - модель для обучения\n",
    "    model_name - название модели (для сохранения результатов)\n",
    "    X_train - признаки обучающей выборки\n",
    "    y_train - целевая переменная обучающей выборки\n",
    "    X_test - признаки тестовой выборки (для предсказания)\n",
    "    y_test - целевая переменная тестовой выборки (для оценки)\n",
    "    log_target - использовать ли логарифмирование целевой переменной\n",
    "    \"\"\"\n",
    "    # Инициализация списка результатов, если он не существует\n",
    "    if 'model_results' not in globals():\n",
    "        global model_results\n",
    "        model_results = []\n",
    "\n",
    "        #  Разделение на train / test\n",
    "    X_train, X_test, y_train, y_test = train_test_split(\n",
    "        df[features], df[TARGET], test_size=0.2, random_state=random_state\n",
    "    )\n",
    "    \n",
    "    if log_target:\n",
    "        # Логарифмирование целевой переменной\n",
    "        log_y_train = np.log1p(y_train)\n",
    "        model.fit(X_train, log_y_train)\n",
    "        log_y_pred = model.predict(X_test)  \n",
    "        y_pred = np.expm1(log_y_pred)\n",
    "    else:\n",
    "        model.fit(X_train, y_train)\n",
    "        y_pred = model.predict(X_test)  \n",
    "    \n",
    "    # Вычисление метрик\n",
    "    mae = mean_absolute_error(y_test, y_pred)\n",
    "    rmse = root_mean_squared_error(y_test, y_pred)\n",
    "    r2 = r2_score(y_test, y_pred)\n",
    "    mape = np.mean(np.abs((y_test - y_pred) / np.clip(y_test, 1e-6, None))) * 100  # Защита от деления на 0\n",
    "    \n",
    "    # Вывод результатов\n",
    "    print(f'\\nModel: {model_name}')\n",
    "    print(f'Mean Absolute Error (MAE): {mae:.2f}')\n",
    "    print(f'R-squared (R^2): {r2:.4f}')\n",
    "    print(f'RMSE: {rmse:.2f}')\n",
    "\n",
    "    # Сохранение результатов\n",
    "    model_results.append({\n",
    "        'model_name': model_name,\n",
    "        'MAE': mae,\n",
    "        'R2': r2,\n",
    "        'RMSE': rmse,\n",
    "\n",
    "    })\n",
    "\n"
   ]
  },
  {
   "cell_type": "code",
   "execution_count": 6,
   "id": "93cd6cb0",
   "metadata": {},
   "outputs": [],
   "source": [
    "def feature_importance_plot(feature_inportance):\n",
    "    \"\"\"\n",
    "    Создает горизонтальную столбчатую диаграмму, отображающую важность признаков из модели CatBoost.\n",
    "    \n",
    "    Параметры:\n",
    "    -----------\n",
    "    feature_importance : pandas.DataFrame\n",
    "        Датафрейм, содержащий значения важности признаков с двумя колонками:\n",
    "        - 'Feature Id': str - названия признаков\n",
    "        - 'Importances': float - значения важности для каждого признака\n",
    "        \n",
    "    Возвращает:\n",
    "\n",
    "        Отображает интерактивный график plotly, но не возвращает значение   \n",
    "    \"\"\"\n",
    "    fig = px.bar(\n",
    "        feature_inportance.sort_values(\"Importances\", ascending=True),  # перевернём для горизонтального графика\n",
    "        x=\"Importances\",\n",
    "        y=\"Feature Id\",\n",
    "        orientation=\"h\",\n",
    "        title=\" Важнейшие признаки (бейзлайн CatBoost)\",\n",
    "    )\n",
    "\n",
    "    fig.update_layout(\n",
    "        xaxis_title=\"Влияние\",\n",
    "        yaxis_title=\"Признак\",\n",
    "        height=800\n",
    "    )\n",
    "\n",
    "    fig.show()"
   ]
  },
  {
   "cell_type": "code",
   "execution_count": 7,
   "id": "ed9640a4",
   "metadata": {},
   "outputs": [
    {
     "name": "stdout",
     "output_type": "stream",
     "text": [
      "\n",
      "Model: Бейзлайн\n",
      "Mean Absolute Error (MAE): 2393178.00\n",
      "R-squared (R^2): 0.8487\n",
      "RMSE: 3490289.69\n"
     ]
    }
   ],
   "source": [
    "#  Бейзлайн-модель с дефолтными параметрами\n",
    "baseline_model = CatBoostRegressor(\n",
    "    verbose=0,\n",
    "    random_state=random_state,\n",
    "    cat_features=cat_features\n",
    ")\n",
    "fit_and_save_model_results(model = baseline_model, model_name='Бейзлайн', df=df)"
   ]
  },
  {
   "cell_type": "code",
   "execution_count": 8,
   "id": "9c9649aa",
   "metadata": {},
   "outputs": [
    {
     "data": {
      "application/vnd.plotly.v1+json": {
       "config": {
        "plotlyServerURL": "https://plot.ly"
       },
       "data": [
        {
         "alignmentgroup": "True",
         "hovertemplate": "Importances=%{x}<br>Feature Id=%{y}<extra></extra>",
         "legendgroup": "",
         "marker": {
          "color": "#636efa",
          "pattern": {
           "shape": ""
          }
         },
         "name": "",
         "offsetgroup": "",
         "orientation": "h",
         "showlegend": false,
         "textposition": "auto",
         "type": "bar",
         "x": [
          0.08079115128994206,
          0.08334697430519766,
          0.12968302183847036,
          0.17584402326989929,
          0.21213153409481664,
          0.3563514451274947,
          0.5182118853754201,
          0.6250628593910705,
          0.7188724159281231,
          0.7531331324354972,
          0.8655455433562756,
          0.9517996215938516,
          1.0825733533328608,
          1.3066104596452808,
          1.386559179287204,
          1.3894207000752261,
          2.0677385207087418,
          2.2393596764913126,
          2.2932956218002847,
          2.697557911665261,
          3.4522550807778503,
          4.781370033004195,
          4.837396298634028,
          5.211954747295297,
          5.9593184541627355,
          6.18720234050233,
          12.684353110250465,
          36.95226090436083
         ],
         "xaxis": "x",
         "y": [
          "Есть мусоропровод",
          "Детская площадка",
          "Есть газ",
          "Есть консьерж",
          "Спорт площадка",
          "Грузовой лифт",
          "Закрытая территория",
          "Пассажирский лифт",
          "Способ продажи",
          "Парковка",
          "Доля жилой площади",
          "Метро (минут)",
          "В доме",
          "Район",
          "Год постройки",
          "Тип комнат",
          "Санузел",
          "Этаж (текущий)",
          "Двор",
          "Количество комнат",
          "Этажей в доме",
          "Широта",
          "Площадь кухни",
          "Долгота",
          "Тип дома",
          "Ремонт",
          "Расстояние до центра",
          "Общая площадь"
         ],
         "yaxis": "y"
        }
       ],
       "layout": {
        "barmode": "relative",
        "height": 800,
        "legend": {
         "tracegroupgap": 0
        },
        "template": {
         "data": {
          "bar": [
           {
            "error_x": {
             "color": "#2a3f5f"
            },
            "error_y": {
             "color": "#2a3f5f"
            },
            "marker": {
             "line": {
              "color": "#E5ECF6",
              "width": 0.5
             },
             "pattern": {
              "fillmode": "overlay",
              "size": 10,
              "solidity": 0.2
             }
            },
            "type": "bar"
           }
          ],
          "barpolar": [
           {
            "marker": {
             "line": {
              "color": "#E5ECF6",
              "width": 0.5
             },
             "pattern": {
              "fillmode": "overlay",
              "size": 10,
              "solidity": 0.2
             }
            },
            "type": "barpolar"
           }
          ],
          "carpet": [
           {
            "aaxis": {
             "endlinecolor": "#2a3f5f",
             "gridcolor": "white",
             "linecolor": "white",
             "minorgridcolor": "white",
             "startlinecolor": "#2a3f5f"
            },
            "baxis": {
             "endlinecolor": "#2a3f5f",
             "gridcolor": "white",
             "linecolor": "white",
             "minorgridcolor": "white",
             "startlinecolor": "#2a3f5f"
            },
            "type": "carpet"
           }
          ],
          "choropleth": [
           {
            "colorbar": {
             "outlinewidth": 0,
             "ticks": ""
            },
            "type": "choropleth"
           }
          ],
          "contour": [
           {
            "colorbar": {
             "outlinewidth": 0,
             "ticks": ""
            },
            "colorscale": [
             [
              0,
              "#0d0887"
             ],
             [
              0.1111111111111111,
              "#46039f"
             ],
             [
              0.2222222222222222,
              "#7201a8"
             ],
             [
              0.3333333333333333,
              "#9c179e"
             ],
             [
              0.4444444444444444,
              "#bd3786"
             ],
             [
              0.5555555555555556,
              "#d8576b"
             ],
             [
              0.6666666666666666,
              "#ed7953"
             ],
             [
              0.7777777777777778,
              "#fb9f3a"
             ],
             [
              0.8888888888888888,
              "#fdca26"
             ],
             [
              1,
              "#f0f921"
             ]
            ],
            "type": "contour"
           }
          ],
          "contourcarpet": [
           {
            "colorbar": {
             "outlinewidth": 0,
             "ticks": ""
            },
            "type": "contourcarpet"
           }
          ],
          "heatmap": [
           {
            "colorbar": {
             "outlinewidth": 0,
             "ticks": ""
            },
            "colorscale": [
             [
              0,
              "#0d0887"
             ],
             [
              0.1111111111111111,
              "#46039f"
             ],
             [
              0.2222222222222222,
              "#7201a8"
             ],
             [
              0.3333333333333333,
              "#9c179e"
             ],
             [
              0.4444444444444444,
              "#bd3786"
             ],
             [
              0.5555555555555556,
              "#d8576b"
             ],
             [
              0.6666666666666666,
              "#ed7953"
             ],
             [
              0.7777777777777778,
              "#fb9f3a"
             ],
             [
              0.8888888888888888,
              "#fdca26"
             ],
             [
              1,
              "#f0f921"
             ]
            ],
            "type": "heatmap"
           }
          ],
          "heatmapgl": [
           {
            "colorbar": {
             "outlinewidth": 0,
             "ticks": ""
            },
            "colorscale": [
             [
              0,
              "#0d0887"
             ],
             [
              0.1111111111111111,
              "#46039f"
             ],
             [
              0.2222222222222222,
              "#7201a8"
             ],
             [
              0.3333333333333333,
              "#9c179e"
             ],
             [
              0.4444444444444444,
              "#bd3786"
             ],
             [
              0.5555555555555556,
              "#d8576b"
             ],
             [
              0.6666666666666666,
              "#ed7953"
             ],
             [
              0.7777777777777778,
              "#fb9f3a"
             ],
             [
              0.8888888888888888,
              "#fdca26"
             ],
             [
              1,
              "#f0f921"
             ]
            ],
            "type": "heatmapgl"
           }
          ],
          "histogram": [
           {
            "marker": {
             "pattern": {
              "fillmode": "overlay",
              "size": 10,
              "solidity": 0.2
             }
            },
            "type": "histogram"
           }
          ],
          "histogram2d": [
           {
            "colorbar": {
             "outlinewidth": 0,
             "ticks": ""
            },
            "colorscale": [
             [
              0,
              "#0d0887"
             ],
             [
              0.1111111111111111,
              "#46039f"
             ],
             [
              0.2222222222222222,
              "#7201a8"
             ],
             [
              0.3333333333333333,
              "#9c179e"
             ],
             [
              0.4444444444444444,
              "#bd3786"
             ],
             [
              0.5555555555555556,
              "#d8576b"
             ],
             [
              0.6666666666666666,
              "#ed7953"
             ],
             [
              0.7777777777777778,
              "#fb9f3a"
             ],
             [
              0.8888888888888888,
              "#fdca26"
             ],
             [
              1,
              "#f0f921"
             ]
            ],
            "type": "histogram2d"
           }
          ],
          "histogram2dcontour": [
           {
            "colorbar": {
             "outlinewidth": 0,
             "ticks": ""
            },
            "colorscale": [
             [
              0,
              "#0d0887"
             ],
             [
              0.1111111111111111,
              "#46039f"
             ],
             [
              0.2222222222222222,
              "#7201a8"
             ],
             [
              0.3333333333333333,
              "#9c179e"
             ],
             [
              0.4444444444444444,
              "#bd3786"
             ],
             [
              0.5555555555555556,
              "#d8576b"
             ],
             [
              0.6666666666666666,
              "#ed7953"
             ],
             [
              0.7777777777777778,
              "#fb9f3a"
             ],
             [
              0.8888888888888888,
              "#fdca26"
             ],
             [
              1,
              "#f0f921"
             ]
            ],
            "type": "histogram2dcontour"
           }
          ],
          "mesh3d": [
           {
            "colorbar": {
             "outlinewidth": 0,
             "ticks": ""
            },
            "type": "mesh3d"
           }
          ],
          "parcoords": [
           {
            "line": {
             "colorbar": {
              "outlinewidth": 0,
              "ticks": ""
             }
            },
            "type": "parcoords"
           }
          ],
          "pie": [
           {
            "automargin": true,
            "type": "pie"
           }
          ],
          "scatter": [
           {
            "fillpattern": {
             "fillmode": "overlay",
             "size": 10,
             "solidity": 0.2
            },
            "type": "scatter"
           }
          ],
          "scatter3d": [
           {
            "line": {
             "colorbar": {
              "outlinewidth": 0,
              "ticks": ""
             }
            },
            "marker": {
             "colorbar": {
              "outlinewidth": 0,
              "ticks": ""
             }
            },
            "type": "scatter3d"
           }
          ],
          "scattercarpet": [
           {
            "marker": {
             "colorbar": {
              "outlinewidth": 0,
              "ticks": ""
             }
            },
            "type": "scattercarpet"
           }
          ],
          "scattergeo": [
           {
            "marker": {
             "colorbar": {
              "outlinewidth": 0,
              "ticks": ""
             }
            },
            "type": "scattergeo"
           }
          ],
          "scattergl": [
           {
            "marker": {
             "colorbar": {
              "outlinewidth": 0,
              "ticks": ""
             }
            },
            "type": "scattergl"
           }
          ],
          "scattermapbox": [
           {
            "marker": {
             "colorbar": {
              "outlinewidth": 0,
              "ticks": ""
             }
            },
            "type": "scattermapbox"
           }
          ],
          "scatterpolar": [
           {
            "marker": {
             "colorbar": {
              "outlinewidth": 0,
              "ticks": ""
             }
            },
            "type": "scatterpolar"
           }
          ],
          "scatterpolargl": [
           {
            "marker": {
             "colorbar": {
              "outlinewidth": 0,
              "ticks": ""
             }
            },
            "type": "scatterpolargl"
           }
          ],
          "scatterternary": [
           {
            "marker": {
             "colorbar": {
              "outlinewidth": 0,
              "ticks": ""
             }
            },
            "type": "scatterternary"
           }
          ],
          "surface": [
           {
            "colorbar": {
             "outlinewidth": 0,
             "ticks": ""
            },
            "colorscale": [
             [
              0,
              "#0d0887"
             ],
             [
              0.1111111111111111,
              "#46039f"
             ],
             [
              0.2222222222222222,
              "#7201a8"
             ],
             [
              0.3333333333333333,
              "#9c179e"
             ],
             [
              0.4444444444444444,
              "#bd3786"
             ],
             [
              0.5555555555555556,
              "#d8576b"
             ],
             [
              0.6666666666666666,
              "#ed7953"
             ],
             [
              0.7777777777777778,
              "#fb9f3a"
             ],
             [
              0.8888888888888888,
              "#fdca26"
             ],
             [
              1,
              "#f0f921"
             ]
            ],
            "type": "surface"
           }
          ],
          "table": [
           {
            "cells": {
             "fill": {
              "color": "#EBF0F8"
             },
             "line": {
              "color": "white"
             }
            },
            "header": {
             "fill": {
              "color": "#C8D4E3"
             },
             "line": {
              "color": "white"
             }
            },
            "type": "table"
           }
          ]
         },
         "layout": {
          "annotationdefaults": {
           "arrowcolor": "#2a3f5f",
           "arrowhead": 0,
           "arrowwidth": 1
          },
          "autotypenumbers": "strict",
          "coloraxis": {
           "colorbar": {
            "outlinewidth": 0,
            "ticks": ""
           }
          },
          "colorscale": {
           "diverging": [
            [
             0,
             "#8e0152"
            ],
            [
             0.1,
             "#c51b7d"
            ],
            [
             0.2,
             "#de77ae"
            ],
            [
             0.3,
             "#f1b6da"
            ],
            [
             0.4,
             "#fde0ef"
            ],
            [
             0.5,
             "#f7f7f7"
            ],
            [
             0.6,
             "#e6f5d0"
            ],
            [
             0.7,
             "#b8e186"
            ],
            [
             0.8,
             "#7fbc41"
            ],
            [
             0.9,
             "#4d9221"
            ],
            [
             1,
             "#276419"
            ]
           ],
           "sequential": [
            [
             0,
             "#0d0887"
            ],
            [
             0.1111111111111111,
             "#46039f"
            ],
            [
             0.2222222222222222,
             "#7201a8"
            ],
            [
             0.3333333333333333,
             "#9c179e"
            ],
            [
             0.4444444444444444,
             "#bd3786"
            ],
            [
             0.5555555555555556,
             "#d8576b"
            ],
            [
             0.6666666666666666,
             "#ed7953"
            ],
            [
             0.7777777777777778,
             "#fb9f3a"
            ],
            [
             0.8888888888888888,
             "#fdca26"
            ],
            [
             1,
             "#f0f921"
            ]
           ],
           "sequentialminus": [
            [
             0,
             "#0d0887"
            ],
            [
             0.1111111111111111,
             "#46039f"
            ],
            [
             0.2222222222222222,
             "#7201a8"
            ],
            [
             0.3333333333333333,
             "#9c179e"
            ],
            [
             0.4444444444444444,
             "#bd3786"
            ],
            [
             0.5555555555555556,
             "#d8576b"
            ],
            [
             0.6666666666666666,
             "#ed7953"
            ],
            [
             0.7777777777777778,
             "#fb9f3a"
            ],
            [
             0.8888888888888888,
             "#fdca26"
            ],
            [
             1,
             "#f0f921"
            ]
           ]
          },
          "colorway": [
           "#636efa",
           "#EF553B",
           "#00cc96",
           "#ab63fa",
           "#FFA15A",
           "#19d3f3",
           "#FF6692",
           "#B6E880",
           "#FF97FF",
           "#FECB52"
          ],
          "font": {
           "color": "#2a3f5f"
          },
          "geo": {
           "bgcolor": "white",
           "lakecolor": "white",
           "landcolor": "#E5ECF6",
           "showlakes": true,
           "showland": true,
           "subunitcolor": "white"
          },
          "hoverlabel": {
           "align": "left"
          },
          "hovermode": "closest",
          "mapbox": {
           "style": "light"
          },
          "paper_bgcolor": "white",
          "plot_bgcolor": "#E5ECF6",
          "polar": {
           "angularaxis": {
            "gridcolor": "white",
            "linecolor": "white",
            "ticks": ""
           },
           "bgcolor": "#E5ECF6",
           "radialaxis": {
            "gridcolor": "white",
            "linecolor": "white",
            "ticks": ""
           }
          },
          "scene": {
           "xaxis": {
            "backgroundcolor": "#E5ECF6",
            "gridcolor": "white",
            "gridwidth": 2,
            "linecolor": "white",
            "showbackground": true,
            "ticks": "",
            "zerolinecolor": "white"
           },
           "yaxis": {
            "backgroundcolor": "#E5ECF6",
            "gridcolor": "white",
            "gridwidth": 2,
            "linecolor": "white",
            "showbackground": true,
            "ticks": "",
            "zerolinecolor": "white"
           },
           "zaxis": {
            "backgroundcolor": "#E5ECF6",
            "gridcolor": "white",
            "gridwidth": 2,
            "linecolor": "white",
            "showbackground": true,
            "ticks": "",
            "zerolinecolor": "white"
           }
          },
          "shapedefaults": {
           "line": {
            "color": "#2a3f5f"
           }
          },
          "ternary": {
           "aaxis": {
            "gridcolor": "white",
            "linecolor": "white",
            "ticks": ""
           },
           "baxis": {
            "gridcolor": "white",
            "linecolor": "white",
            "ticks": ""
           },
           "bgcolor": "#E5ECF6",
           "caxis": {
            "gridcolor": "white",
            "linecolor": "white",
            "ticks": ""
           }
          },
          "title": {
           "x": 0.05
          },
          "xaxis": {
           "automargin": true,
           "gridcolor": "white",
           "linecolor": "white",
           "ticks": "",
           "title": {
            "standoff": 15
           },
           "zerolinecolor": "white",
           "zerolinewidth": 2
          },
          "yaxis": {
           "automargin": true,
           "gridcolor": "white",
           "linecolor": "white",
           "ticks": "",
           "title": {
            "standoff": 15
           },
           "zerolinecolor": "white",
           "zerolinewidth": 2
          }
         }
        },
        "title": {
         "text": " Важнейшие признаки (бейзлайн CatBoost)"
        },
        "xaxis": {
         "anchor": "y",
         "domain": [
          0,
          1
         ],
         "title": {
          "text": "Влияние"
         }
        },
        "yaxis": {
         "anchor": "x",
         "domain": [
          0,
          1
         ],
         "title": {
          "text": "Признак"
         }
        }
       }
      }
     },
     "metadata": {},
     "output_type": "display_data"
    }
   ],
   "source": [
    "# Важность признаков от бейзлайн-модели\n",
    "base_importances = baseline_model.get_feature_importance(prettified=True)\n",
    "top_base = base_importances.sort_values(\"Importances\", ascending=False)\n",
    "feature_importance_plot(top_base)"
   ]
  },
  {
   "cell_type": "markdown",
   "id": "3edeea06",
   "metadata": {},
   "source": [
    "## Отбор признаков\n",
    "Значение менее 0.5 имеют признаки: Пассажирский лифт, Есть мусоропровод, Есть консьерж, Спорт площадка,Детская площадка,Есть газ. Их информативность низкая, но поскольку это dummy переменные и часть их значений вносит больший вклад в модель удалить их нельзя(информативность по данным переменным размыта в модели и должна быть оценена в накопленном  значении) "
   ]
  },
  {
   "cell_type": "code",
   "execution_count": 9,
   "id": "788d4d6d",
   "metadata": {},
   "outputs": [
    {
     "name": "stdout",
     "output_type": "stream",
     "text": [
      "\n",
      "Model: Бейзлайн с логарифмированием\n",
      "Mean Absolute Error (MAE): 2326205.42\n",
      "R-squared (R^2): 0.8441\n",
      "RMSE: 3543010.24\n"
     ]
    }
   ],
   "source": [
    "model_with_log= CatBoostRegressor(\n",
    "    verbose=0,\n",
    "    random_state=random_state,\n",
    "    cat_features=cat_features\n",
    ")\n",
    "fit_and_save_model_results(model = model_with_log, model_name='Бейзлайн с логарифмированием', df=df, log_target=True)"
   ]
  },
  {
   "cell_type": "markdown",
   "id": "84c6f277",
   "metadata": {},
   "source": [
    "# При логарифмировании целевой переменной произошло ухудшение метрик R^2 и RMSE, поэтомe при использовании Optuna возьмем обчные значения целевой переменной"
   ]
  },
  {
   "cell_type": "code",
   "execution_count": 10,
   "id": "c211cd91",
   "metadata": {},
   "outputs": [
    {
     "data": {
      "application/vnd.plotly.v1+json": {
       "config": {
        "plotlyServerURL": "https://plot.ly"
       },
       "data": [
        {
         "alignmentgroup": "True",
         "hovertemplate": "Importances=%{x}<br>Feature Id=%{y}<extra></extra>",
         "legendgroup": "",
         "marker": {
          "color": "#636efa",
          "pattern": {
           "shape": ""
          }
         },
         "name": "",
         "offsetgroup": "",
         "orientation": "h",
         "showlegend": false,
         "textposition": "auto",
         "type": "bar",
         "x": [
          0.08997519429883323,
          0.09562158291311909,
          0.12005327893936892,
          0.16231963318856316,
          0.28895159201781584,
          0.39533751896522273,
          0.41349097987051214,
          0.6887198009392858,
          0.843811728933729,
          0.8703313859404082,
          0.9829480312572341,
          0.9869094004596557,
          1.0143506125318642,
          1.204789138401806,
          1.284427859502392,
          1.3074166167363594,
          1.3528497569464686,
          1.7897726669721716,
          2.3688595885696957,
          3.078013895509342,
          3.2297130985474523,
          4.011745260722615,
          4.651268551681447,
          5.550212741815323,
          6.220163886962988,
          9.890262759899318,
          10.402911217873854,
          36.70477221960315
         ],
         "xaxis": "x",
         "y": [
          "Есть газ",
          "Есть мусоропровод",
          "Есть консьерж",
          "Спорт площадка",
          "Детская площадка",
          "Способ продажи",
          "Грузовой лифт",
          "Пассажирский лифт",
          "В доме",
          "Закрытая территория",
          "Парковка",
          "Двор",
          "Район",
          "Метро (минут)",
          "Санузел",
          "Доля жилой площади",
          "Год постройки",
          "Площадь кухни",
          "Этажей в доме",
          "Этаж (текущий)",
          "Тип комнат",
          "Широта",
          "Долгота",
          "Тип дома",
          "Ремонт",
          "Количество комнат",
          "Расстояние до центра",
          "Общая площадь"
         ],
         "yaxis": "y"
        }
       ],
       "layout": {
        "barmode": "relative",
        "height": 800,
        "legend": {
         "tracegroupgap": 0
        },
        "template": {
         "data": {
          "bar": [
           {
            "error_x": {
             "color": "#2a3f5f"
            },
            "error_y": {
             "color": "#2a3f5f"
            },
            "marker": {
             "line": {
              "color": "#E5ECF6",
              "width": 0.5
             },
             "pattern": {
              "fillmode": "overlay",
              "size": 10,
              "solidity": 0.2
             }
            },
            "type": "bar"
           }
          ],
          "barpolar": [
           {
            "marker": {
             "line": {
              "color": "#E5ECF6",
              "width": 0.5
             },
             "pattern": {
              "fillmode": "overlay",
              "size": 10,
              "solidity": 0.2
             }
            },
            "type": "barpolar"
           }
          ],
          "carpet": [
           {
            "aaxis": {
             "endlinecolor": "#2a3f5f",
             "gridcolor": "white",
             "linecolor": "white",
             "minorgridcolor": "white",
             "startlinecolor": "#2a3f5f"
            },
            "baxis": {
             "endlinecolor": "#2a3f5f",
             "gridcolor": "white",
             "linecolor": "white",
             "minorgridcolor": "white",
             "startlinecolor": "#2a3f5f"
            },
            "type": "carpet"
           }
          ],
          "choropleth": [
           {
            "colorbar": {
             "outlinewidth": 0,
             "ticks": ""
            },
            "type": "choropleth"
           }
          ],
          "contour": [
           {
            "colorbar": {
             "outlinewidth": 0,
             "ticks": ""
            },
            "colorscale": [
             [
              0,
              "#0d0887"
             ],
             [
              0.1111111111111111,
              "#46039f"
             ],
             [
              0.2222222222222222,
              "#7201a8"
             ],
             [
              0.3333333333333333,
              "#9c179e"
             ],
             [
              0.4444444444444444,
              "#bd3786"
             ],
             [
              0.5555555555555556,
              "#d8576b"
             ],
             [
              0.6666666666666666,
              "#ed7953"
             ],
             [
              0.7777777777777778,
              "#fb9f3a"
             ],
             [
              0.8888888888888888,
              "#fdca26"
             ],
             [
              1,
              "#f0f921"
             ]
            ],
            "type": "contour"
           }
          ],
          "contourcarpet": [
           {
            "colorbar": {
             "outlinewidth": 0,
             "ticks": ""
            },
            "type": "contourcarpet"
           }
          ],
          "heatmap": [
           {
            "colorbar": {
             "outlinewidth": 0,
             "ticks": ""
            },
            "colorscale": [
             [
              0,
              "#0d0887"
             ],
             [
              0.1111111111111111,
              "#46039f"
             ],
             [
              0.2222222222222222,
              "#7201a8"
             ],
             [
              0.3333333333333333,
              "#9c179e"
             ],
             [
              0.4444444444444444,
              "#bd3786"
             ],
             [
              0.5555555555555556,
              "#d8576b"
             ],
             [
              0.6666666666666666,
              "#ed7953"
             ],
             [
              0.7777777777777778,
              "#fb9f3a"
             ],
             [
              0.8888888888888888,
              "#fdca26"
             ],
             [
              1,
              "#f0f921"
             ]
            ],
            "type": "heatmap"
           }
          ],
          "heatmapgl": [
           {
            "colorbar": {
             "outlinewidth": 0,
             "ticks": ""
            },
            "colorscale": [
             [
              0,
              "#0d0887"
             ],
             [
              0.1111111111111111,
              "#46039f"
             ],
             [
              0.2222222222222222,
              "#7201a8"
             ],
             [
              0.3333333333333333,
              "#9c179e"
             ],
             [
              0.4444444444444444,
              "#bd3786"
             ],
             [
              0.5555555555555556,
              "#d8576b"
             ],
             [
              0.6666666666666666,
              "#ed7953"
             ],
             [
              0.7777777777777778,
              "#fb9f3a"
             ],
             [
              0.8888888888888888,
              "#fdca26"
             ],
             [
              1,
              "#f0f921"
             ]
            ],
            "type": "heatmapgl"
           }
          ],
          "histogram": [
           {
            "marker": {
             "pattern": {
              "fillmode": "overlay",
              "size": 10,
              "solidity": 0.2
             }
            },
            "type": "histogram"
           }
          ],
          "histogram2d": [
           {
            "colorbar": {
             "outlinewidth": 0,
             "ticks": ""
            },
            "colorscale": [
             [
              0,
              "#0d0887"
             ],
             [
              0.1111111111111111,
              "#46039f"
             ],
             [
              0.2222222222222222,
              "#7201a8"
             ],
             [
              0.3333333333333333,
              "#9c179e"
             ],
             [
              0.4444444444444444,
              "#bd3786"
             ],
             [
              0.5555555555555556,
              "#d8576b"
             ],
             [
              0.6666666666666666,
              "#ed7953"
             ],
             [
              0.7777777777777778,
              "#fb9f3a"
             ],
             [
              0.8888888888888888,
              "#fdca26"
             ],
             [
              1,
              "#f0f921"
             ]
            ],
            "type": "histogram2d"
           }
          ],
          "histogram2dcontour": [
           {
            "colorbar": {
             "outlinewidth": 0,
             "ticks": ""
            },
            "colorscale": [
             [
              0,
              "#0d0887"
             ],
             [
              0.1111111111111111,
              "#46039f"
             ],
             [
              0.2222222222222222,
              "#7201a8"
             ],
             [
              0.3333333333333333,
              "#9c179e"
             ],
             [
              0.4444444444444444,
              "#bd3786"
             ],
             [
              0.5555555555555556,
              "#d8576b"
             ],
             [
              0.6666666666666666,
              "#ed7953"
             ],
             [
              0.7777777777777778,
              "#fb9f3a"
             ],
             [
              0.8888888888888888,
              "#fdca26"
             ],
             [
              1,
              "#f0f921"
             ]
            ],
            "type": "histogram2dcontour"
           }
          ],
          "mesh3d": [
           {
            "colorbar": {
             "outlinewidth": 0,
             "ticks": ""
            },
            "type": "mesh3d"
           }
          ],
          "parcoords": [
           {
            "line": {
             "colorbar": {
              "outlinewidth": 0,
              "ticks": ""
             }
            },
            "type": "parcoords"
           }
          ],
          "pie": [
           {
            "automargin": true,
            "type": "pie"
           }
          ],
          "scatter": [
           {
            "fillpattern": {
             "fillmode": "overlay",
             "size": 10,
             "solidity": 0.2
            },
            "type": "scatter"
           }
          ],
          "scatter3d": [
           {
            "line": {
             "colorbar": {
              "outlinewidth": 0,
              "ticks": ""
             }
            },
            "marker": {
             "colorbar": {
              "outlinewidth": 0,
              "ticks": ""
             }
            },
            "type": "scatter3d"
           }
          ],
          "scattercarpet": [
           {
            "marker": {
             "colorbar": {
              "outlinewidth": 0,
              "ticks": ""
             }
            },
            "type": "scattercarpet"
           }
          ],
          "scattergeo": [
           {
            "marker": {
             "colorbar": {
              "outlinewidth": 0,
              "ticks": ""
             }
            },
            "type": "scattergeo"
           }
          ],
          "scattergl": [
           {
            "marker": {
             "colorbar": {
              "outlinewidth": 0,
              "ticks": ""
             }
            },
            "type": "scattergl"
           }
          ],
          "scattermapbox": [
           {
            "marker": {
             "colorbar": {
              "outlinewidth": 0,
              "ticks": ""
             }
            },
            "type": "scattermapbox"
           }
          ],
          "scatterpolar": [
           {
            "marker": {
             "colorbar": {
              "outlinewidth": 0,
              "ticks": ""
             }
            },
            "type": "scatterpolar"
           }
          ],
          "scatterpolargl": [
           {
            "marker": {
             "colorbar": {
              "outlinewidth": 0,
              "ticks": ""
             }
            },
            "type": "scatterpolargl"
           }
          ],
          "scatterternary": [
           {
            "marker": {
             "colorbar": {
              "outlinewidth": 0,
              "ticks": ""
             }
            },
            "type": "scatterternary"
           }
          ],
          "surface": [
           {
            "colorbar": {
             "outlinewidth": 0,
             "ticks": ""
            },
            "colorscale": [
             [
              0,
              "#0d0887"
             ],
             [
              0.1111111111111111,
              "#46039f"
             ],
             [
              0.2222222222222222,
              "#7201a8"
             ],
             [
              0.3333333333333333,
              "#9c179e"
             ],
             [
              0.4444444444444444,
              "#bd3786"
             ],
             [
              0.5555555555555556,
              "#d8576b"
             ],
             [
              0.6666666666666666,
              "#ed7953"
             ],
             [
              0.7777777777777778,
              "#fb9f3a"
             ],
             [
              0.8888888888888888,
              "#fdca26"
             ],
             [
              1,
              "#f0f921"
             ]
            ],
            "type": "surface"
           }
          ],
          "table": [
           {
            "cells": {
             "fill": {
              "color": "#EBF0F8"
             },
             "line": {
              "color": "white"
             }
            },
            "header": {
             "fill": {
              "color": "#C8D4E3"
             },
             "line": {
              "color": "white"
             }
            },
            "type": "table"
           }
          ]
         },
         "layout": {
          "annotationdefaults": {
           "arrowcolor": "#2a3f5f",
           "arrowhead": 0,
           "arrowwidth": 1
          },
          "autotypenumbers": "strict",
          "coloraxis": {
           "colorbar": {
            "outlinewidth": 0,
            "ticks": ""
           }
          },
          "colorscale": {
           "diverging": [
            [
             0,
             "#8e0152"
            ],
            [
             0.1,
             "#c51b7d"
            ],
            [
             0.2,
             "#de77ae"
            ],
            [
             0.3,
             "#f1b6da"
            ],
            [
             0.4,
             "#fde0ef"
            ],
            [
             0.5,
             "#f7f7f7"
            ],
            [
             0.6,
             "#e6f5d0"
            ],
            [
             0.7,
             "#b8e186"
            ],
            [
             0.8,
             "#7fbc41"
            ],
            [
             0.9,
             "#4d9221"
            ],
            [
             1,
             "#276419"
            ]
           ],
           "sequential": [
            [
             0,
             "#0d0887"
            ],
            [
             0.1111111111111111,
             "#46039f"
            ],
            [
             0.2222222222222222,
             "#7201a8"
            ],
            [
             0.3333333333333333,
             "#9c179e"
            ],
            [
             0.4444444444444444,
             "#bd3786"
            ],
            [
             0.5555555555555556,
             "#d8576b"
            ],
            [
             0.6666666666666666,
             "#ed7953"
            ],
            [
             0.7777777777777778,
             "#fb9f3a"
            ],
            [
             0.8888888888888888,
             "#fdca26"
            ],
            [
             1,
             "#f0f921"
            ]
           ],
           "sequentialminus": [
            [
             0,
             "#0d0887"
            ],
            [
             0.1111111111111111,
             "#46039f"
            ],
            [
             0.2222222222222222,
             "#7201a8"
            ],
            [
             0.3333333333333333,
             "#9c179e"
            ],
            [
             0.4444444444444444,
             "#bd3786"
            ],
            [
             0.5555555555555556,
             "#d8576b"
            ],
            [
             0.6666666666666666,
             "#ed7953"
            ],
            [
             0.7777777777777778,
             "#fb9f3a"
            ],
            [
             0.8888888888888888,
             "#fdca26"
            ],
            [
             1,
             "#f0f921"
            ]
           ]
          },
          "colorway": [
           "#636efa",
           "#EF553B",
           "#00cc96",
           "#ab63fa",
           "#FFA15A",
           "#19d3f3",
           "#FF6692",
           "#B6E880",
           "#FF97FF",
           "#FECB52"
          ],
          "font": {
           "color": "#2a3f5f"
          },
          "geo": {
           "bgcolor": "white",
           "lakecolor": "white",
           "landcolor": "#E5ECF6",
           "showlakes": true,
           "showland": true,
           "subunitcolor": "white"
          },
          "hoverlabel": {
           "align": "left"
          },
          "hovermode": "closest",
          "mapbox": {
           "style": "light"
          },
          "paper_bgcolor": "white",
          "plot_bgcolor": "#E5ECF6",
          "polar": {
           "angularaxis": {
            "gridcolor": "white",
            "linecolor": "white",
            "ticks": ""
           },
           "bgcolor": "#E5ECF6",
           "radialaxis": {
            "gridcolor": "white",
            "linecolor": "white",
            "ticks": ""
           }
          },
          "scene": {
           "xaxis": {
            "backgroundcolor": "#E5ECF6",
            "gridcolor": "white",
            "gridwidth": 2,
            "linecolor": "white",
            "showbackground": true,
            "ticks": "",
            "zerolinecolor": "white"
           },
           "yaxis": {
            "backgroundcolor": "#E5ECF6",
            "gridcolor": "white",
            "gridwidth": 2,
            "linecolor": "white",
            "showbackground": true,
            "ticks": "",
            "zerolinecolor": "white"
           },
           "zaxis": {
            "backgroundcolor": "#E5ECF6",
            "gridcolor": "white",
            "gridwidth": 2,
            "linecolor": "white",
            "showbackground": true,
            "ticks": "",
            "zerolinecolor": "white"
           }
          },
          "shapedefaults": {
           "line": {
            "color": "#2a3f5f"
           }
          },
          "ternary": {
           "aaxis": {
            "gridcolor": "white",
            "linecolor": "white",
            "ticks": ""
           },
           "baxis": {
            "gridcolor": "white",
            "linecolor": "white",
            "ticks": ""
           },
           "bgcolor": "#E5ECF6",
           "caxis": {
            "gridcolor": "white",
            "linecolor": "white",
            "ticks": ""
           }
          },
          "title": {
           "x": 0.05
          },
          "xaxis": {
           "automargin": true,
           "gridcolor": "white",
           "linecolor": "white",
           "ticks": "",
           "title": {
            "standoff": 15
           },
           "zerolinecolor": "white",
           "zerolinewidth": 2
          },
          "yaxis": {
           "automargin": true,
           "gridcolor": "white",
           "linecolor": "white",
           "ticks": "",
           "title": {
            "standoff": 15
           },
           "zerolinecolor": "white",
           "zerolinewidth": 2
          }
         }
        },
        "title": {
         "text": " Важнейшие признаки (бейзлайн CatBoost)"
        },
        "xaxis": {
         "anchor": "y",
         "domain": [
          0,
          1
         ],
         "title": {
          "text": "Влияние"
         }
        },
        "yaxis": {
         "anchor": "x",
         "domain": [
          0,
          1
         ],
         "title": {
          "text": "Признак"
         }
        }
       }
      }
     },
     "metadata": {},
     "output_type": "display_data"
    }
   ],
   "source": [
    "# Важность признаков от log-модели\n",
    "log_importances = model_with_log.get_feature_importance(prettified=True)\n",
    "top_log = log_importances.sort_values(\"Importances\", ascending=False)\n",
    "feature_importance_plot(top_log)"
   ]
  },
  {
   "cell_type": "markdown",
   "id": "aafc2bf5",
   "metadata": {},
   "source": [
    "### Кросс-валидация внутри CatBoost\n",
    "\n",
    "Для подбора гиперпараметров используется встроенная функция `catboost.cv()`, \n",
    "которая проводит K-фолдовую кросс-валидацию (в данном случае 3-fold). \n",
    "Это позволяет получать устойчивую метрику RMSE и снижает риск переобучения при оптимизации.\n"
   ]
  },
  {
   "cell_type": "code",
   "execution_count": 12,
   "id": "b973a951",
   "metadata": {},
   "outputs": [
    {
     "name": "stderr",
     "output_type": "stream",
     "text": [
      "[I 2025-08-03 15:24:05,847] A new study created in memory with name: Cat_boost_optuna\n"
     ]
    },
    {
     "name": "stdout",
     "output_type": "stream",
     "text": [
      "Training on fold [0/3]\n",
      "Training on fold [0/3]\n",
      "Training on fold [0/3]\n"
     ]
    },
    {
     "data": {
      "application/vnd.jupyter.widget-view+json": {
       "model_id": "ea7e064706a74bae909c97b0a40703fa",
       "version_major": 2,
       "version_minor": 0
      },
      "text/plain": [
       "MetricVisualizer(layout=Layout(align_self='stretch', height='500px'))"
      ]
     },
     "metadata": {},
     "output_type": "display_data"
    },
    {
     "data": {
      "application/vnd.jupyter.widget-view+json": {
       "model_id": "4eefa3160c1d42ccb645cd04050f551f",
       "version_major": 2,
       "version_minor": 0
      },
      "text/plain": [
       "MetricVisualizer(layout=Layout(align_self='stretch', height='500px'))"
      ]
     },
     "metadata": {},
     "output_type": "display_data"
    },
    {
     "data": {
      "application/vnd.jupyter.widget-view+json": {
       "model_id": "84d4752d85b74865979703abe2bd8134",
       "version_major": 2,
       "version_minor": 0
      },
      "text/plain": [
       "MetricVisualizer(layout=Layout(align_self='stretch', height='500px'))"
      ]
     },
     "metadata": {},
     "output_type": "display_data"
    },
    {
     "name": "stdout",
     "output_type": "stream",
     "text": [
      "Training on fold [0/3]\n"
     ]
    },
    {
     "data": {
      "application/vnd.jupyter.widget-view+json": {
       "model_id": "1feca8c1aefa477dadd009214db1899a",
       "version_major": 2,
       "version_minor": 0
      },
      "text/plain": [
       "MetricVisualizer(layout=Layout(align_self='stretch', height='500px'))"
      ]
     },
     "metadata": {},
     "output_type": "display_data"
    },
    {
     "data": {
      "application/vnd.jupyter.widget-view+json": {
       "model_id": "4e6e0d5463fd4547b1f017bc702e6003",
       "version_major": 2,
       "version_minor": 0
      },
      "text/plain": [
       "MetricVisualizer(layout=Layout(align_self='stretch', height='500px'))"
      ]
     },
     "metadata": {},
     "output_type": "display_data"
    },
    {
     "data": {
      "application/vnd.jupyter.widget-view+json": {
       "model_id": "168a0365bb514195ab09eac4ef362c08",
       "version_major": 2,
       "version_minor": 0
      },
      "text/plain": [
       "MetricVisualizer(layout=Layout(align_self='stretch', height='500px'))"
      ]
     },
     "metadata": {},
     "output_type": "display_data"
    },
    {
     "data": {
      "application/vnd.jupyter.widget-view+json": {
       "model_id": "3db253c6d75e4a619a09ba2a2fc0636c",
       "version_major": 2,
       "version_minor": 0
      },
      "text/plain": [
       "MetricVisualizer(layout=Layout(align_self='stretch', height='500px'))"
      ]
     },
     "metadata": {},
     "output_type": "display_data"
    },
    {
     "name": "stdout",
     "output_type": "stream",
     "text": [
      "Training on fold [0/3]\n",
      "Training on fold [0/3]\n",
      "Training on fold [0/3]\n"
     ]
    },
    {
     "data": {
      "application/vnd.jupyter.widget-view+json": {
       "model_id": "4df63f7efdb6447f8fac52870f1418d2",
       "version_major": 2,
       "version_minor": 0
      },
      "text/plain": [
       "MetricVisualizer(layout=Layout(align_self='stretch', height='500px'))"
      ]
     },
     "metadata": {},
     "output_type": "display_data"
    },
    {
     "name": "stdout",
     "output_type": "stream",
     "text": [
      "Training on fold [0/3]\n",
      "\n",
      "bestTest = 4340638.111\n",
      "bestIteration = 51\n",
      "\n",
      "Training on fold [1/3]\n",
      "\n",
      "bestTest = 4073139.688\n",
      "bestIteration = 103\n",
      "\n",
      "Training on fold [1/3]\n",
      "\n",
      "bestTest = 3904220.384\n",
      "bestIteration = 187\n",
      "\n",
      "Training on fold [1/3]\n",
      "\n",
      "bestTest = 3581005.598\n",
      "bestIteration = 83\n",
      "\n",
      "Training on fold [2/3]\n",
      "\n",
      "bestTest = 3483364.421\n",
      "bestIteration = 152\n",
      "\n",
      "Training on fold [2/3]\n",
      "\n",
      "bestTest = 3668094.733\n",
      "bestIteration = 162\n",
      "\n",
      "Training on fold [2/3]\n"
     ]
    },
    {
     "name": "stderr",
     "output_type": "stream",
     "text": [
      "[I 2025-08-03 15:24:49,875] Trial 4 finished with value: 3794027.483639628 and parameters: {'iterations': 689, 'depth': 5, 'learning_rate': 0.29926151408646895, 'l2_leaf_reg': 3.100248389909951, 'random_strength': 0.38549262674567125, 'bootstrap_type': 'Bernoulli', 'subsample': 0.7157216214971105}. Best is trial 4 with value: 3794027.483639628.\n"
     ]
    },
    {
     "name": "stdout",
     "output_type": "stream",
     "text": [
      "\n",
      "bestTest = 3577864.755\n",
      "bestIteration = 32\n",
      "\n"
     ]
    },
    {
     "data": {
      "application/vnd.jupyter.widget-view+json": {
       "model_id": "c6bce074b34148f78da568233ed569d6",
       "version_major": 2,
       "version_minor": 0
      },
      "text/plain": [
       "MetricVisualizer(layout=Layout(align_self='stretch', height='500px'))"
      ]
     },
     "metadata": {},
     "output_type": "display_data"
    },
    {
     "name": "stdout",
     "output_type": "stream",
     "text": [
      "Training on fold [0/3]\n",
      "\n",
      "bestTest = 4120978.521\n",
      "bestIteration = 265\n",
      "\n",
      "Training on fold [1/3]\n"
     ]
    },
    {
     "name": "stderr",
     "output_type": "stream",
     "text": [
      "[I 2025-08-03 15:25:04,358] Trial 6 finished with value: 3760052.550702544 and parameters: {'iterations': 427, 'depth': 6, 'learning_rate': 0.1622342980644453, 'l2_leaf_reg': 0.27059195648316325, 'random_strength': 2.3248452978580568e-08, 'bootstrap_type': 'Bernoulli', 'subsample': 0.930287880365079}. Best is trial 6 with value: 3760052.550702544.\n"
     ]
    },
    {
     "name": "stdout",
     "output_type": "stream",
     "text": [
      "\n",
      "bestTest = 3331637.697\n",
      "bestIteration = 157\n",
      "\n"
     ]
    },
    {
     "data": {
      "application/vnd.jupyter.widget-view+json": {
       "model_id": "164433f717294a31a960a876f4e9edb9",
       "version_major": 2,
       "version_minor": 0
      },
      "text/plain": [
       "MetricVisualizer(layout=Layout(align_self='stretch', height='500px'))"
      ]
     },
     "metadata": {},
     "output_type": "display_data"
    },
    {
     "name": "stdout",
     "output_type": "stream",
     "text": [
      "Training on fold [0/3]\n",
      "\n",
      "bestTest = 4122537.265\n",
      "bestIteration = 320\n",
      "\n",
      "Training on fold [1/3]\n"
     ]
    },
    {
     "name": "stderr",
     "output_type": "stream",
     "text": [
      "[I 2025-08-03 15:25:11,921] Trial 2 finished with value: 3574154.151036117 and parameters: {'iterations': 947, 'depth': 4, 'learning_rate': 0.10578966523263557, 'l2_leaf_reg': 6.247771697970118, 'random_strength': 0.0012439764463802446, 'bootstrap_type': 'Bernoulli', 'subsample': 0.7468980819914346}. Best is trial 2 with value: 3574154.151036117.\n"
     ]
    },
    {
     "name": "stdout",
     "output_type": "stream",
     "text": [
      "\n",
      "bestTest = 3320224.168\n",
      "bestIteration = 352\n",
      "\n"
     ]
    },
    {
     "data": {
      "application/vnd.jupyter.widget-view+json": {
       "model_id": "2c106c0fc0f44103a519326d8e03f115",
       "version_major": 2,
       "version_minor": 0
      },
      "text/plain": [
       "MetricVisualizer(layout=Layout(align_self='stretch', height='500px'))"
      ]
     },
     "metadata": {},
     "output_type": "display_data"
    },
    {
     "name": "stdout",
     "output_type": "stream",
     "text": [
      "Training on fold [0/3]\n",
      "\n",
      "bestTest = 3904638.877\n",
      "bestIteration = 546\n",
      "\n",
      "Training on fold [1/3]\n",
      "\n",
      "bestTest = 3508978.117\n",
      "bestIteration = 332\n",
      "\n",
      "Training on fold [2/3]\n",
      "\n",
      "bestTest = 4121513.115\n",
      "bestIteration = 697\n",
      "\n",
      "Training on fold [1/3]\n",
      "\n",
      "bestTest = 3593855.534\n",
      "bestIteration = 221\n",
      "\n",
      "Training on fold [2/3]\n",
      "\n",
      "bestTest = 3953334.104\n",
      "bestIteration = 726\n",
      "\n",
      "Training on fold [1/3]\n",
      "\n",
      "bestTest = 4374295.885\n",
      "bestIteration = 579\n",
      "\n",
      "Training on fold [1/3]\n",
      "\n",
      "bestTest = 4315633.72\n",
      "bestIteration = 347\n",
      "\n",
      "Training on fold [1/3]\n",
      "\n",
      "bestTest = 4510655.557\n",
      "bestIteration = 532\n",
      "\n",
      "Training on fold [1/3]\n",
      "\n",
      "bestTest = 3466195.991\n",
      "bestIteration = 547\n",
      "\n",
      "Training on fold [2/3]\n"
     ]
    },
    {
     "name": "stderr",
     "output_type": "stream",
     "text": [
      "[I 2025-08-03 15:26:39,698] Trial 7 finished with value: 3659491.955069206 and parameters: {'iterations': 766, 'depth': 6, 'learning_rate': 0.06549750325326545, 'l2_leaf_reg': 0.20351646398848625, 'random_strength': 0.001072593750889413, 'bootstrap_type': 'Bernoulli', 'subsample': 0.9330398425154913}. Best is trial 2 with value: 3574154.151036117.\n"
     ]
    },
    {
     "name": "stdout",
     "output_type": "stream",
     "text": [
      "\n",
      "bestTest = 3330510.329\n",
      "bestIteration = 383\n",
      "\n"
     ]
    },
    {
     "data": {
      "application/vnd.jupyter.widget-view+json": {
       "model_id": "acda5ff6f1684091a7653834ea1a97c7",
       "version_major": 2,
       "version_minor": 0
      },
      "text/plain": [
       "MetricVisualizer(layout=Layout(align_self='stretch', height='500px'))"
      ]
     },
     "metadata": {},
     "output_type": "display_data"
    },
    {
     "name": "stdout",
     "output_type": "stream",
     "text": [
      "Training on fold [0/3]\n",
      "\n",
      "bestTest = 3603056.074\n",
      "bestIteration = 725\n",
      "\n",
      "Training on fold [2/3]\n"
     ]
    },
    {
     "name": "stderr",
     "output_type": "stream",
     "text": [
      "[I 2025-08-03 15:27:03,770] Trial 8 finished with value: 3593449.964421813 and parameters: {'iterations': 548, 'depth': 4, 'learning_rate': 0.018598047126999872, 'l2_leaf_reg': 1.1739703225796891, 'random_strength': 0.03244595711278904, 'bootstrap_type': 'Bernoulli', 'subsample': 0.956112221586774}. Best is trial 2 with value: 3574154.151036117.\n"
     ]
    },
    {
     "name": "stdout",
     "output_type": "stream",
     "text": [
      "\n",
      "bestTest = 3409207.537\n",
      "bestIteration = 547\n",
      "\n"
     ]
    },
    {
     "data": {
      "application/vnd.jupyter.widget-view+json": {
       "model_id": "e0d07a7d21f044f5b25b7e65278f1ec4",
       "version_major": 2,
       "version_minor": 0
      },
      "text/plain": [
       "MetricVisualizer(layout=Layout(align_self='stretch', height='500px'))"
      ]
     },
     "metadata": {},
     "output_type": "display_data"
    },
    {
     "name": "stdout",
     "output_type": "stream",
     "text": [
      "Training on fold [0/3]\n",
      "\n",
      "bestTest = 3626148.365\n",
      "bestIteration = 347\n",
      "\n",
      "Training on fold [2/3]\n",
      "\n",
      "bestTest = 3954994.509\n",
      "bestIteration = 378\n",
      "\n",
      "Training on fold [1/3]\n",
      "\n",
      "bestTest = 3556563.212\n",
      "bestIteration = 697\n",
      "\n",
      "Training on fold [2/3]\n",
      "\n",
      "bestTest = 4057612.525\n",
      "bestIteration = 465\n",
      "\n",
      "Training on fold [1/3]\n"
     ]
    },
    {
     "name": "stderr",
     "output_type": "stream",
     "text": [
      "[I 2025-08-03 15:27:32,045] Trial 1 finished with value: 3694533.49912584 and parameters: {'iterations': 554, 'depth': 7, 'learning_rate': 0.03487636426800474, 'l2_leaf_reg': 0.3033702511420161, 'random_strength': 0.45881322343215597, 'bootstrap_type': 'Bernoulli', 'subsample': 0.8455652616692412}. Best is trial 2 with value: 3574154.151036117.\n"
     ]
    },
    {
     "name": "stdout",
     "output_type": "stream",
     "text": [
      "\n",
      "bestTest = 3360164.953\n",
      "bestIteration = 480\n",
      "\n"
     ]
    },
    {
     "data": {
      "application/vnd.jupyter.widget-view+json": {
       "model_id": "3fe99a119d77484184c45ac70c7c1004",
       "version_major": 2,
       "version_minor": 0
      },
      "text/plain": [
       "MetricVisualizer(layout=Layout(align_self='stretch', height='500px'))"
      ]
     },
     "metadata": {},
     "output_type": "display_data"
    },
    {
     "name": "stdout",
     "output_type": "stream",
     "text": [
      "Training on fold [0/3]\n"
     ]
    },
    {
     "name": "stderr",
     "output_type": "stream",
     "text": [
      "[I 2025-08-03 15:27:36,908] Trial 10 finished with value: 3683889.8050012183 and parameters: {'iterations': 727, 'depth': 3, 'learning_rate': 0.010948669148065492, 'l2_leaf_reg': 1.2052212456895122, 'random_strength': 6.352982840867135e-09, 'bootstrap_type': 'Bernoulli', 'subsample': 0.5172429095569262}. Best is trial 2 with value: 3574154.151036117.\n"
     ]
    },
    {
     "name": "stdout",
     "output_type": "stream",
     "text": [
      "\n",
      "bestTest = 3495093.025\n",
      "bestIteration = 726\n",
      "\n"
     ]
    },
    {
     "data": {
      "application/vnd.jupyter.widget-view+json": {
       "model_id": "ff45f75e34344b2296976787459488bf",
       "version_major": 2,
       "version_minor": 0
      },
      "text/plain": [
       "MetricVisualizer(layout=Layout(align_self='stretch', height='500px'))"
      ]
     },
     "metadata": {},
     "output_type": "display_data"
    },
    {
     "name": "stdout",
     "output_type": "stream",
     "text": [
      "Training on fold [0/3]\n",
      "\n",
      "bestTest = 3939805.522\n",
      "bestIteration = 257\n",
      "\n",
      "Training on fold [1/3]\n",
      "\n",
      "bestTest = 3936764.752\n",
      "bestIteration = 155\n",
      "\n",
      "Training on fold [1/3]\n",
      "\n",
      "bestTest = 3627085.429\n",
      "bestIteration = 378\n",
      "\n",
      "Training on fold [2/3]\n",
      "\n",
      "bestTest = 3663800.902\n",
      "bestIteration = 465\n",
      "\n",
      "Training on fold [2/3]\n",
      "\n",
      "bestTest = 3647524.281\n",
      "bestIteration = 579\n",
      "\n",
      "Training on fold [2/3]\n",
      "\n",
      "bestTest = 3469660.506\n",
      "bestIteration = 129\n",
      "\n",
      "Training on fold [2/3]\n"
     ]
    },
    {
     "name": "stderr",
     "output_type": "stream",
     "text": [
      "[I 2025-08-03 15:28:07,501] Trial 9 finished with value: 3796806.802976612 and parameters: {'iterations': 348, 'depth': 7, 'learning_rate': 0.017139487851472623, 'l2_leaf_reg': 0.1401981702834649, 'random_strength': 9.049143589421929e-07, 'bootstrap_type': 'Bernoulli', 'subsample': 0.6976486926219789}. Best is trial 2 with value: 3574154.151036117.\n"
     ]
    },
    {
     "name": "stdout",
     "output_type": "stream",
     "text": [
      "\n",
      "bestTest = 3448638.324\n",
      "bestIteration = 347\n",
      "\n"
     ]
    },
    {
     "data": {
      "application/vnd.jupyter.widget-view+json": {
       "model_id": "d912085c59fd40b4af6279e8ca75cbcb",
       "version_major": 2,
       "version_minor": 0
      },
      "text/plain": [
       "MetricVisualizer(layout=Layout(align_self='stretch', height='500px'))"
      ]
     },
     "metadata": {},
     "output_type": "display_data"
    },
    {
     "name": "stdout",
     "output_type": "stream",
     "text": [
      "Training on fold [0/3]\n",
      "\n",
      "bestTest = 3497435.457\n",
      "bestIteration = 337\n",
      "\n",
      "Training on fold [2/3]\n"
     ]
    },
    {
     "name": "stderr",
     "output_type": "stream",
     "text": [
      "[I 2025-08-03 15:28:15,284] Trial 14 finished with value: 3609659.6427091695 and parameters: {'iterations': 521, 'depth': 4, 'learning_rate': 0.09246240601070828, 'l2_leaf_reg': 0.2403334885888479, 'random_strength': 2.1770386316922408e-05, 'bootstrap_type': 'Bernoulli', 'subsample': 0.8291198058876286}. Best is trial 2 with value: 3574154.151036117.\n"
     ]
    },
    {
     "name": "stdout",
     "output_type": "stream",
     "text": [
      "\n",
      "bestTest = 3390468.113\n",
      "bestIteration = 113\n",
      "\n"
     ]
    },
    {
     "data": {
      "application/vnd.jupyter.widget-view+json": {
       "model_id": "12219f460ff24a709de64d281fdd8ca9",
       "version_major": 2,
       "version_minor": 0
      },
      "text/plain": [
       "MetricVisualizer(layout=Layout(align_self='stretch', height='500px'))"
      ]
     },
     "metadata": {},
     "output_type": "display_data"
    },
    {
     "name": "stdout",
     "output_type": "stream",
     "text": [
      "Training on fold [0/3]\n"
     ]
    },
    {
     "name": "stderr",
     "output_type": "stream",
     "text": [
      "[I 2025-08-03 15:28:23,512] Trial 13 finished with value: 3647774.854044951 and parameters: {'iterations': 990, 'depth': 3, 'learning_rate': 0.045651064820327235, 'l2_leaf_reg': 1.3377069659300471, 'random_strength': 3.708848490907758e-05, 'bootstrap_type': 'Bernoulli', 'subsample': 0.9506391961594002}. Best is trial 2 with value: 3574154.151036117.\n"
     ]
    },
    {
     "name": "stdout",
     "output_type": "stream",
     "text": [
      "\n",
      "bestTest = 3493758.317\n",
      "bestIteration = 175\n",
      "\n"
     ]
    },
    {
     "data": {
      "application/vnd.jupyter.widget-view+json": {
       "model_id": "6605e9d6a16e46fe91d6fc241da0cea9",
       "version_major": 2,
       "version_minor": 0
      },
      "text/plain": [
       "MetricVisualizer(layout=Layout(align_self='stretch', height='500px'))"
      ]
     },
     "metadata": {},
     "output_type": "display_data"
    },
    {
     "name": "stdout",
     "output_type": "stream",
     "text": [
      "Training on fold [0/3]\n"
     ]
    },
    {
     "name": "stderr",
     "output_type": "stream",
     "text": [
      "[I 2025-08-03 15:28:33,491] Trial 12 finished with value: 3750495.4722588994 and parameters: {'iterations': 466, 'depth': 3, 'learning_rate': 0.012957865960953397, 'l2_leaf_reg': 1.0508179238163045, 'random_strength': 6.210224130852569e-09, 'bootstrap_type': 'Bernoulli', 'subsample': 0.7094771816801351}. Best is trial 2 with value: 3574154.151036117.\n"
     ]
    },
    {
     "name": "stdout",
     "output_type": "stream",
     "text": [
      "\n",
      "bestTest = 3529099.236\n",
      "bestIteration = 461\n",
      "\n"
     ]
    },
    {
     "data": {
      "application/vnd.jupyter.widget-view+json": {
       "model_id": "89295cd6785546e5b379cf6a195ddd32",
       "version_major": 2,
       "version_minor": 0
      },
      "text/plain": [
       "MetricVisualizer(layout=Layout(align_self='stretch', height='500px'))"
      ]
     },
     "metadata": {},
     "output_type": "display_data"
    },
    {
     "name": "stdout",
     "output_type": "stream",
     "text": [
      "Training on fold [0/3]\n",
      "\n",
      "bestTest = 3652305.072\n",
      "bestIteration = 647\n",
      "\n",
      "Training on fold [2/3]\n"
     ]
    },
    {
     "name": "stderr",
     "output_type": "stream",
     "text": [
      "[I 2025-08-03 15:28:41,244] Trial 11 finished with value: 3675186.504691202 and parameters: {'iterations': 379, 'depth': 5, 'learning_rate': 0.02163639141000701, 'l2_leaf_reg': 0.15154408493127175, 'random_strength': 1.0689863961338584, 'bootstrap_type': 'Bernoulli', 'subsample': 0.9872217607142946}. Best is trial 2 with value: 3574154.151036117.\n"
     ]
    },
    {
     "name": "stdout",
     "output_type": "stream",
     "text": [
      "\n",
      "bestTest = 3443479.576\n",
      "bestIteration = 378\n",
      "\n"
     ]
    },
    {
     "data": {
      "application/vnd.jupyter.widget-view+json": {
       "model_id": "6c785f2823fe46ffb1ad334014f681e7",
       "version_major": 2,
       "version_minor": 0
      },
      "text/plain": [
       "MetricVisualizer(layout=Layout(align_self='stretch', height='500px'))"
      ]
     },
     "metadata": {},
     "output_type": "display_data"
    },
    {
     "name": "stdout",
     "output_type": "stream",
     "text": [
      "Training on fold [0/3]\n",
      "\n",
      "bestTest = 4164786.454\n",
      "bestIteration = 155\n",
      "\n",
      "Training on fold [1/3]\n",
      "\n",
      "bestTest = 4853308.125\n",
      "bestIteration = 173\n",
      "\n",
      "Training on fold [1/3]\n",
      "\n",
      "bestTest = 3836845.978\n",
      "bestIteration = 157\n",
      "\n",
      "Training on fold [1/3]\n"
     ]
    },
    {
     "name": "stderr",
     "output_type": "stream",
     "text": [
      "[I 2025-08-03 15:29:01,248] Trial 3 finished with value: 3693096.2197742523 and parameters: {'iterations': 698, 'depth': 6, 'learning_rate': 0.011014087487038254, 'l2_leaf_reg': 3.7784939801151425, 'random_strength': 2.0199390356232474e-09, 'bootstrap_type': 'Bernoulli', 'subsample': 0.5331781598259426}. Best is trial 2 with value: 3574154.151036117.\n"
     ]
    },
    {
     "name": "stdout",
     "output_type": "stream",
     "text": [
      "\n",
      "bestTest = 3401212.332\n",
      "bestIteration = 697\n",
      "\n"
     ]
    },
    {
     "data": {
      "application/vnd.jupyter.widget-view+json": {
       "model_id": "6d4337a34dd24a4a87251c4224c2a8f0",
       "version_major": 2,
       "version_minor": 0
      },
      "text/plain": [
       "MetricVisualizer(layout=Layout(align_self='stretch', height='500px'))"
      ]
     },
     "metadata": {},
     "output_type": "display_data"
    },
    {
     "name": "stdout",
     "output_type": "stream",
     "text": [
      "Training on fold [0/3]\n",
      "\n",
      "bestTest = 3812178.127\n",
      "bestIteration = 72\n",
      "\n",
      "Training on fold [2/3]\n",
      "\n",
      "bestTest = 4046088.209\n",
      "bestIteration = 125\n",
      "\n",
      "Training on fold [1/3]\n",
      "\n",
      "bestTest = 3552029.433\n",
      "bestIteration = 226\n",
      "\n",
      "Training on fold [2/3]\n",
      "\n",
      "bestTest = 3452264.441\n",
      "bestIteration = 189\n",
      "\n",
      "Training on fold [2/3]\n",
      "\n",
      "bestTest = 3554605.504\n",
      "bestIteration = 146\n",
      "\n",
      "Training on fold [2/3]\n"
     ]
    },
    {
     "name": "stderr",
     "output_type": "stream",
     "text": [
      "[I 2025-08-03 15:29:39,690] Trial 16 finished with value: 3684449.780090473 and parameters: {'iterations': 557, 'depth': 6, 'learning_rate': 0.10834785699140068, 'l2_leaf_reg': 1.2602579397628544, 'random_strength': 4.8617871200125616e-05, 'bootstrap_type': 'Bernoulli', 'subsample': 0.7947720465515068}. Best is trial 2 with value: 3574154.151036117.\n"
     ]
    },
    {
     "name": "stdout",
     "output_type": "stream",
     "text": [
      "\n",
      "bestTest = 3320630.664\n",
      "bestIteration = 136\n",
      "\n"
     ]
    },
    {
     "data": {
      "application/vnd.jupyter.widget-view+json": {
       "model_id": "55e66cc1cb4a4d4e92d51761221647f4",
       "version_major": 2,
       "version_minor": 0
      },
      "text/plain": [
       "MetricVisualizer(layout=Layout(align_self='stretch', height='500px'))"
      ]
     },
     "metadata": {},
     "output_type": "display_data"
    },
    {
     "name": "stdout",
     "output_type": "stream",
     "text": [
      "Training on fold [0/3]\n"
     ]
    },
    {
     "name": "stderr",
     "output_type": "stream",
     "text": [
      "[I 2025-08-03 15:29:41,251] Trial 19 finished with value: 3539421.1179592465 and parameters: {'iterations': 916, 'depth': 4, 'learning_rate': 0.1104653452300219, 'l2_leaf_reg': 6.6795576678732145, 'random_strength': 0.0046868309173475975, 'bootstrap_type': 'Bernoulli', 'subsample': 0.607635126463493}. Best is trial 19 with value: 3539421.1179592465.\n"
     ]
    },
    {
     "name": "stdout",
     "output_type": "stream",
     "text": [
      "\n",
      "bestTest = 3317447.434\n",
      "bestIteration = 209\n",
      "\n"
     ]
    },
    {
     "data": {
      "application/vnd.jupyter.widget-view+json": {
       "model_id": "cfe1a65b20954c0caf62dc704e161c7d",
       "version_major": 2,
       "version_minor": 0
      },
      "text/plain": [
       "MetricVisualizer(layout=Layout(align_self='stretch', height='500px'))"
      ]
     },
     "metadata": {},
     "output_type": "display_data"
    },
    {
     "name": "stdout",
     "output_type": "stream",
     "text": [
      "Training on fold [0/3]\n",
      "\n",
      "bestTest = 4330804.888\n",
      "bestIteration = 375\n",
      "\n",
      "Training on fold [1/3]\n",
      "\n",
      "bestTest = 3914920.643\n",
      "bestIteration = 133\n",
      "\n",
      "Training on fold [1/3]\n"
     ]
    },
    {
     "name": "stderr",
     "output_type": "stream",
     "text": [
      "[I 2025-08-03 15:29:56,433] Trial 15 finished with value: 4086621.8063980895 and parameters: {'iterations': 918, 'depth': 8, 'learning_rate': 0.12405464598626868, 'l2_leaf_reg': 0.5087751479272029, 'random_strength': 4.8531312856150735e-05, 'bootstrap_type': 'Bernoulli', 'subsample': 0.7732132047326636}. Best is trial 19 with value: 3539421.1179592465.\n"
     ]
    },
    {
     "name": "stdout",
     "output_type": "stream",
     "text": [
      "\n",
      "bestTest = 3581065.468\n",
      "bestIteration = 182\n",
      "\n"
     ]
    },
    {
     "data": {
      "application/vnd.jupyter.widget-view+json": {
       "model_id": "fa8e962a84d94a2a95ec83c1b0e764a3",
       "version_major": 2,
       "version_minor": 0
      },
      "text/plain": [
       "MetricVisualizer(layout=Layout(align_self='stretch', height='500px'))"
      ]
     },
     "metadata": {},
     "output_type": "display_data"
    },
    {
     "name": "stdout",
     "output_type": "stream",
     "text": [
      "Training on fold [0/3]\n"
     ]
    },
    {
     "name": "stderr",
     "output_type": "stream",
     "text": [
      "[I 2025-08-03 15:30:03,093] Trial 20 finished with value: 3667453.388524259 and parameters: {'iterations': 890, 'depth': 4, 'learning_rate': 0.11294467241484586, 'l2_leaf_reg': 6.750361398333148, 'random_strength': 0.0058518518429485815, 'bootstrap_type': 'Bernoulli', 'subsample': 0.8073728589027909}. Best is trial 19 with value: 3539421.1179592465.\n"
     ]
    },
    {
     "name": "stdout",
     "output_type": "stream",
     "text": [
      "\n",
      "bestTest = 3380959.263\n",
      "bestIteration = 329\n",
      "\n"
     ]
    },
    {
     "data": {
      "application/vnd.jupyter.widget-view+json": {
       "model_id": "7cc0574167a04351b132e6c16828d72c",
       "version_major": 2,
       "version_minor": 0
      },
      "text/plain": [
       "MetricVisualizer(layout=Layout(align_self='stretch', height='500px'))"
      ]
     },
     "metadata": {},
     "output_type": "display_data"
    },
    {
     "name": "stdout",
     "output_type": "stream",
     "text": [
      "Training on fold [0/3]\n",
      "\n",
      "bestTest = 4048063.958\n",
      "bestIteration = 101\n",
      "\n",
      "Training on fold [1/3]\n",
      "\n",
      "bestTest = 3480750.871\n",
      "bestIteration = 191\n",
      "\n",
      "Training on fold [2/3]\n",
      "\n",
      "bestTest = 3977374.356\n",
      "bestIteration = 94\n",
      "\n",
      "Training on fold [1/3]\n"
     ]
    },
    {
     "name": "stderr",
     "output_type": "stream",
     "text": [
      "[I 2025-08-03 15:30:15,100] Trial 0 finished with value: 3839382.5675540045 and parameters: {'iterations': 580, 'depth': 8, 'learning_rate': 0.01884167985348308, 'l2_leaf_reg': 5.181136648823172, 'random_strength': 3.6844508629749316e-09, 'bootstrap_type': 'Bernoulli', 'subsample': 0.6747640913441821}. Best is trial 19 with value: 3539421.1179592465.\n"
     ]
    },
    {
     "name": "stdout",
     "output_type": "stream",
     "text": [
      "\n",
      "bestTest = 3496249.184\n",
      "bestIteration = 577\n",
      "\n"
     ]
    },
    {
     "data": {
      "application/vnd.jupyter.widget-view+json": {
       "model_id": "330857e9c0264ee6b40148f9fca0ec2c",
       "version_major": 2,
       "version_minor": 0
      },
      "text/plain": [
       "MetricVisualizer(layout=Layout(align_self='stretch', height='500px'))"
      ]
     },
     "metadata": {},
     "output_type": "display_data"
    },
    {
     "name": "stdout",
     "output_type": "stream",
     "text": [
      "Training on fold [0/3]\n",
      "\n",
      "bestTest = 3919845.077\n",
      "bestIteration = 895\n",
      "\n",
      "Training on fold [1/3]\n",
      "\n",
      "bestTest = 3581849.348\n",
      "bestIteration = 148\n",
      "\n",
      "Training on fold [2/3]\n"
     ]
    },
    {
     "name": "stderr",
     "output_type": "stream",
     "text": [
      "[I 2025-08-03 15:30:24,468] Trial 22 finished with value: 3598883.2554549817 and parameters: {'iterations': 978, 'depth': 4, 'learning_rate': 0.1857880256189406, 'l2_leaf_reg': 9.106950709070455, 'random_strength': 0.0037579517812203816, 'bootstrap_type': 'Bernoulli', 'subsample': 0.6144533518312941}. Best is trial 19 with value: 3539421.1179592465.\n"
     ]
    },
    {
     "name": "stdout",
     "output_type": "stream",
     "text": [
      "\n",
      "bestTest = 3371976.581\n",
      "bestIteration = 113\n",
      "\n"
     ]
    },
    {
     "data": {
      "application/vnd.jupyter.widget-view+json": {
       "model_id": "695bc84ac9844e50a11d764907136e6a",
       "version_major": 2,
       "version_minor": 0
      },
      "text/plain": [
       "MetricVisualizer(layout=Layout(align_self='stretch', height='500px'))"
      ]
     },
     "metadata": {},
     "output_type": "display_data"
    },
    {
     "name": "stdout",
     "output_type": "stream",
     "text": [
      "Training on fold [0/3]\n",
      "\n",
      "bestTest = 3430295.148\n",
      "bestIteration = 162\n",
      "\n",
      "Training on fold [2/3]\n"
     ]
    },
    {
     "name": "stderr",
     "output_type": "stream",
     "text": [
      "[I 2025-08-03 15:30:31,479] Trial 5 finished with value: 3916071.692004547 and parameters: {'iterations': 950, 'depth': 8, 'learning_rate': 0.026132704606667986, 'l2_leaf_reg': 0.9782657789406659, 'random_strength': 9.027033890838125e-07, 'bootstrap_type': 'Bernoulli', 'subsample': 0.5821571590341315}. Best is trial 19 with value: 3539421.1179592465.\n"
     ]
    },
    {
     "name": "stdout",
     "output_type": "stream",
     "text": [
      "\n",
      "bestTest = 3582737.007\n",
      "bestIteration = 564\n",
      "\n"
     ]
    },
    {
     "data": {
      "application/vnd.jupyter.widget-view+json": {
       "model_id": "7395491a0bce4e698b6361bc8d01b3ea",
       "version_major": 2,
       "version_minor": 0
      },
      "text/plain": [
       "MetricVisualizer(layout=Layout(align_self='stretch', height='500px'))"
      ]
     },
     "metadata": {},
     "output_type": "display_data"
    },
    {
     "name": "stdout",
     "output_type": "stream",
     "text": [
      "Training on fold [0/3]\n",
      "\n",
      "bestTest = 3828048.477\n",
      "bestIteration = 193\n",
      "\n",
      "Training on fold [1/3]\n"
     ]
    },
    {
     "name": "stderr",
     "output_type": "stream",
     "text": [
      "[I 2025-08-03 15:30:34,915] Trial 23 finished with value: 3649835.4849179233 and parameters: {'iterations': 840, 'depth': 4, 'learning_rate': 0.24105788736808784, 'l2_leaf_reg': 9.517360124009109, 'random_strength': 0.004227551092255943, 'bootstrap_type': 'Bernoulli', 'subsample': 0.6218364938136872}. Best is trial 19 with value: 3539421.1179592465.\n"
     ]
    },
    {
     "name": "stdout",
     "output_type": "stream",
     "text": [
      "\n",
      "bestTest = 3288613.032\n",
      "bestIteration = 178\n",
      "\n"
     ]
    },
    {
     "data": {
      "application/vnd.jupyter.widget-view+json": {
       "model_id": "078461e9040b4e5fad2325c057afbca9",
       "version_major": 2,
       "version_minor": 0
      },
      "text/plain": [
       "MetricVisualizer(layout=Layout(align_self='stretch', height='500px'))"
      ]
     },
     "metadata": {},
     "output_type": "display_data"
    },
    {
     "name": "stdout",
     "output_type": "stream",
     "text": [
      "Training on fold [0/3]\n",
      "\n",
      "bestTest = 3880462.857\n",
      "bestIteration = 721\n",
      "\n",
      "Training on fold [1/3]\n",
      "\n",
      "bestTest = 3805291.029\n",
      "bestIteration = 337\n",
      "\n",
      "Training on fold [2/3]\n"
     ]
    },
    {
     "name": "stderr",
     "output_type": "stream",
     "text": [
      "[I 2025-08-03 15:30:49,013] Trial 24 finished with value: 3646907.7328673624 and parameters: {'iterations': 820, 'depth': 4, 'learning_rate': 0.2135634599965326, 'l2_leaf_reg': 9.878658084752379, 'random_strength': 0.0010414994646425983, 'bootstrap_type': 'Bernoulli', 'subsample': 0.6118690688787172}. Best is trial 19 with value: 3539421.1179592465.\n"
     ]
    },
    {
     "name": "stdout",
     "output_type": "stream",
     "text": [
      "\n",
      "bestTest = 3501353.436\n",
      "bestIteration = 206\n",
      "\n"
     ]
    },
    {
     "data": {
      "application/vnd.jupyter.widget-view+json": {
       "model_id": "664468e475f94dc6b64f3b7ec32e9f2d",
       "version_major": 2,
       "version_minor": 0
      },
      "text/plain": [
       "MetricVisualizer(layout=Layout(align_self='stretch', height='500px'))"
      ]
     },
     "metadata": {},
     "output_type": "display_data"
    },
    {
     "name": "stdout",
     "output_type": "stream",
     "text": [
      "Training on fold [0/3]\n",
      "\n",
      "bestTest = 3491398.651\n",
      "bestIteration = 166\n",
      "\n",
      "Training on fold [2/3]\n",
      "\n",
      "bestTest = 3954025.907\n",
      "bestIteration = 277\n",
      "\n",
      "Training on fold [1/3]\n"
     ]
    },
    {
     "name": "stderr",
     "output_type": "stream",
     "text": [
      "[I 2025-08-03 15:31:04,360] Trial 25 finished with value: 3608430.2827359713 and parameters: {'iterations': 817, 'depth': 4, 'learning_rate': 0.22245449074541768, 'l2_leaf_reg': 9.605192421593397, 'random_strength': 0.0007524157905245568, 'bootstrap_type': 'Bernoulli', 'subsample': 0.6191870537574544}. Best is trial 19 with value: 3539421.1179592465.\n"
     ]
    },
    {
     "name": "stdout",
     "output_type": "stream",
     "text": [
      "\n",
      "bestTest = 3485405.295\n",
      "bestIteration = 142\n",
      "\n"
     ]
    },
    {
     "name": "stderr",
     "output_type": "stream",
     "text": [
      "[I 2025-08-03 15:31:46,001] Trial 17 finished with value: 3933071.6953855357 and parameters: {'iterations': 993, 'depth': 8, 'learning_rate': 0.1245229716849046, 'l2_leaf_reg': 8.562988474764973, 'random_strength': 9.072150978105514, 'bootstrap_type': 'Bernoulli', 'subsample': 0.5967935878438344}. Best is trial 19 with value: 3539421.1179592465.\n",
      "[I 2025-08-03 15:32:02,876] Trial 28 finished with value: 3577151.9088646695 and parameters: {'iterations': 841, 'depth': 5, 'learning_rate': 0.0687087951125665, 'l2_leaf_reg': 4.1285908336810415, 'random_strength': 0.04721747788661575, 'bootstrap_type': 'Bernoulli', 'subsample': 0.849346836885618}. Best is trial 19 with value: 3539421.1179592465.\n",
      "[I 2025-08-03 15:32:07,420] Trial 27 finished with value: 3631563.604846368 and parameters: {'iterations': 811, 'depth': 5, 'learning_rate': 0.06786035194699469, 'l2_leaf_reg': 2.22246226443285, 'random_strength': 8.862410009254928, 'bootstrap_type': 'Bernoulli', 'subsample': 0.6320409894106083}. Best is trial 19 with value: 3539421.1179592465.\n",
      "[I 2025-08-03 15:32:07,903] Trial 21 finished with value: 3553881.955064986 and parameters: {'iterations': 863, 'depth': 4, 'learning_rate': 0.031979191499126584, 'l2_leaf_reg': 6.427314101001247, 'random_strength': 0.005824693623165691, 'bootstrap_type': 'Bernoulli', 'subsample': 0.6157496395865913}. Best is trial 19 with value: 3539421.1179592465.\n",
      "[I 2025-08-03 15:32:09,794] Trial 29 finished with value: 3568769.816335147 and parameters: {'iterations': 608, 'depth': 5, 'learning_rate': 0.07568972860672925, 'l2_leaf_reg': 2.4067676223094208, 'random_strength': 0.047112956399330046, 'bootstrap_type': 'Bernoulli', 'subsample': 0.851960899047909}. Best is trial 19 with value: 3539421.1179592465.\n",
      "[I 2025-08-03 15:32:29,967] Trial 18 finished with value: 3554605.591686759 and parameters: {'iterations': 908, 'depth': 5, 'learning_rate': 0.02535818584446263, 'l2_leaf_reg': 8.633151544194844, 'random_strength': 0.010111270689342842, 'bootstrap_type': 'Bernoulli', 'subsample': 0.6110671841440186}. Best is trial 19 with value: 3539421.1179592465.\n",
      "[I 2025-08-03 15:32:32,302] Trial 26 finished with value: 3667199.8176748324 and parameters: {'iterations': 803, 'depth': 5, 'learning_rate': 0.07050274966854865, 'l2_leaf_reg': 2.3467441390936674, 'random_strength': 6.1026496628081475, 'bootstrap_type': 'Bernoulli', 'subsample': 0.6115490714120272}. Best is trial 19 with value: 3539421.1179592465.\n"
     ]
    },
    {
     "name": "stdout",
     "output_type": "stream",
     "text": [
      "Best trial: {'iterations': 916, 'depth': 4, 'learning_rate': 0.1104653452300219, 'l2_leaf_reg': 6.6795576678732145, 'random_strength': 0.0046868309173475975, 'bootstrap_type': 'Bernoulli', 'subsample': 0.607635126463493}\n"
     ]
    },
    {
     "name": "stderr",
     "output_type": "stream",
     "text": [
      "C:\\Users\\User\\AppData\\Local\\Temp\\ipykernel_23452\\1109909836.py:42: ExperimentalWarning:\n",
      "\n",
      "plot_optimization_history is experimental (supported from v2.2.0). The interface can change in the future.\n",
      "\n"
     ]
    },
    {
     "data": {
      "image/png": "[encoded data removed]",
      "text/plain": [
       "<Figure size 640x480 with 1 Axes>"
      ]
     },
     "metadata": {},
     "output_type": "display_data"
    },
    {
     "name": "stdout",
     "output_type": "stream",
     "text": [
      " Лучшие параметры: {'iterations': 916, 'depth': 4, 'learning_rate': 0.1104653452300219, 'l2_leaf_reg': 6.6795576678732145, 'random_strength': 0.0046868309173475975, 'bootstrap_type': 'Bernoulli', 'subsample': 0.607635126463493}\n",
      " Лучшее RMSE: 3539421.1179592465\n"
     ]
    }
   ],
   "source": [
    "\n",
    "\n",
    "def objective(trial, X_train, y_train):\n",
    "\n",
    "    params = {\n",
    "        \"iterations\": trial.suggest_int(\"iterations\", 300, 1000),\n",
    "        \"depth\": trial.suggest_int(\"depth\", 3, 8),\n",
    "        \"learning_rate\": trial.suggest_float(\"learning_rate\", 0.01, 0.3, log = True),\n",
    "        \"l2_leaf_reg\": trial.suggest_float(\"l2_leaf_reg\", 0.1, 10.0, log=True),\n",
    "        \"random_strength\": trial.suggest_float(\"random_strength\", 1e-9, 10.0, log=True),\n",
    "        \"bootstrap_type\": trial.suggest_categorical(\"bootstrap_type\", [\"Bernoulli\"]),\n",
    "        \"loss_function\": \"RMSE\",\n",
    "        \"eval_metric\": \"RMSE\",\n",
    "        \"verbose\": 0,\n",
    "        \"random_state\": random_state,\n",
    "        \"cat_features\": cat_features,\n",
    "        \"allow_writing_files\": False, \n",
    "        \"subsample\": trial.suggest_float(\"subsample\", 0.5, 1)\n",
    "    }\n",
    "\n",
    "    cv_data = cv(\n",
    "            Pool(X_train, y_train, cat_features=cat_features),\n",
    "            params,\n",
    "            fold_count=3,\n",
    "            verbose=False,\n",
    "            plot=True,\n",
    "            early_stopping_rounds=30    #если метрика не улучшается, то через 30 шагов остновится\n",
    "            \n",
    "        )\n",
    "    \n",
    "    # Возвращаем минимальное RMSE\n",
    "    return cv_data['test-RMSE-mean'].min()\n",
    "\n",
    "def optimize_catboost(X_train, y_train, n_trials=30):\n",
    "    study = optuna.create_study(study_name = 'Cat_boost_optuna',direction='minimize')\n",
    "    study.optimize(lambda trial: objective(trial, X_train, y_train), n_trials=n_trials, n_jobs=-1)\n",
    "\n",
    "    print(\"Best trial:\", study.best_trial.params) \n",
    "\n",
    "    plot_optimization_history(study)\n",
    "    return study\n",
    "\n",
    "def plot_optimization_history(study):\n",
    "    optuna.visualization.matplotlib.plot_optimization_history(study)\n",
    "    plt.title(\"Optimization History\")\n",
    "    plt.show()\n",
    "\n",
    "    \n",
    "\n",
    "# Разделение признаков и целевой переменной\n",
    "X_train, X_test, y_train, y_test = train_test_split(\n",
    "    df[features], df[TARGET], test_size=0.2, random_state=random_state)\n",
    "\n",
    "# Оптимизация гиперпараметров\n",
    "study = optimize_catboost(X_train, y_train)\n",
    "\n",
    "#  Лучшие параметры и метрика\n",
    "print(\" Лучшие параметры:\", study.best_params)\n",
    "print(\" Лучшее RMSE:\", study.best_value)\n"
   ]
  },
  {
   "cell_type": "code",
   "execution_count": null,
   "id": "234ae013",
   "metadata": {},
   "outputs": [
    {
     "data": {
      "application/vnd.plotly.v1+json": {
       "config": {
        "plotlyServerURL": "https://plot.ly"
       },
       "data": [
        {
         "mode": "lines+markers",
         "name": "RMSE per trial",
         "type": "scatter",
         "x": [
          0,
          1,
          2,
          3,
          4,
          5,
          6,
          7,
          8,
          9,
          10,
          11,
          12,
          13,
          14,
          15,
          16,
          17,
          18,
          19,
          20,
          21,
          22,
          23,
          24,
          25,
          26,
          27,
          28,
          29
         ],
         "y": [
          4021321.146208972,
          3796539.9072327875,
          3581800.0803687107,
          3572891.74714239,
          4329328.888745432,
          3666844.745689251,
          3608167.2563674687,
          3619080.2114992035,
          3871639.9606939442,
          3878906.7987638507,
          3755905.4042732264,
          3858180.328724509,
          3614343.1217735503,
          3800396.930941072,
          3714972.168501887,
          3894284.67717278,
          3718827.211213182,
          3749504.2391910315,
          3588152.8710723207,
          3627999.492637562,
          3552494.1171078235,
          3558288.3289739876,
          3545228.9317202023,
          3534508.566414366,
          3518527.5522192656,
          3771540.638107596,
          3620838.5097012348,
          3841179.227876259,
          3569615.571761769,
          3551243.16629915
         ]
        }
       ],
       "layout": {
        "height": 400,
        "template": {
         "data": {
          "bar": [
           {
            "error_x": {
             "color": "#2a3f5f"
            },
            "error_y": {
             "color": "#2a3f5f"
            },
            "marker": {
             "line": {
              "color": "#E5ECF6",
              "width": 0.5
             },
             "pattern": {
              "fillmode": "overlay",
              "size": 10,
              "solidity": 0.2
             }
            },
            "type": "bar"
           }
          ],
          "barpolar": [
           {
            "marker": {
             "line": {
              "color": "#E5ECF6",
              "width": 0.5
             },
             "pattern": {
              "fillmode": "overlay",
              "size": 10,
              "solidity": 0.2
             }
            },
            "type": "barpolar"
           }
          ],
          "carpet": [
           {
            "aaxis": {
             "endlinecolor": "#2a3f5f",
             "gridcolor": "white",
             "linecolor": "white",
             "minorgridcolor": "white",
             "startlinecolor": "#2a3f5f"
            },
            "baxis": {
             "endlinecolor": "#2a3f5f",
             "gridcolor": "white",
             "linecolor": "white",
             "minorgridcolor": "white",
             "startlinecolor": "#2a3f5f"
            },
            "type": "carpet"
           }
          ],
          "choropleth": [
           {
            "colorbar": {
             "outlinewidth": 0,
             "ticks": ""
            },
            "type": "choropleth"
           }
          ],
          "contour": [
           {
            "colorbar": {
             "outlinewidth": 0,
             "ticks": ""
            },
            "colorscale": [
             [
              0,
              "#0d0887"
             ],
             [
              0.1111111111111111,
              "#46039f"
             ],
             [
              0.2222222222222222,
              "#7201a8"
             ],
             [
              0.3333333333333333,
              "#9c179e"
             ],
             [
              0.4444444444444444,
              "#bd3786"
             ],
             [
              0.5555555555555556,
              "#d8576b"
             ],
             [
              0.6666666666666666,
              "#ed7953"
             ],
             [
              0.7777777777777778,
              "#fb9f3a"
             ],
             [
              0.8888888888888888,
              "#fdca26"
             ],
             [
              1,
              "#f0f921"
             ]
            ],
            "type": "contour"
           }
          ],
          "contourcarpet": [
           {
            "colorbar": {
             "outlinewidth": 0,
             "ticks": ""
            },
            "type": "contourcarpet"
           }
          ],
          "heatmap": [
           {
            "colorbar": {
             "outlinewidth": 0,
             "ticks": ""
            },
            "colorscale": [
             [
              0,
              "#0d0887"
             ],
             [
              0.1111111111111111,
              "#46039f"
             ],
             [
              0.2222222222222222,
              "#7201a8"
             ],
             [
              0.3333333333333333,
              "#9c179e"
             ],
             [
              0.4444444444444444,
              "#bd3786"
             ],
             [
              0.5555555555555556,
              "#d8576b"
             ],
             [
              0.6666666666666666,
              "#ed7953"
             ],
             [
              0.7777777777777778,
              "#fb9f3a"
             ],
             [
              0.8888888888888888,
              "#fdca26"
             ],
             [
              1,
              "#f0f921"
             ]
            ],
            "type": "heatmap"
           }
          ],
          "heatmapgl": [
           {
            "colorbar": {
             "outlinewidth": 0,
             "ticks": ""
            },
            "colorscale": [
             [
              0,
              "#0d0887"
             ],
             [
              0.1111111111111111,
              "#46039f"
             ],
             [
              0.2222222222222222,
              "#7201a8"
             ],
             [
              0.3333333333333333,
              "#9c179e"
             ],
             [
              0.4444444444444444,
              "#bd3786"
             ],
             [
              0.5555555555555556,
              "#d8576b"
             ],
             [
              0.6666666666666666,
              "#ed7953"
             ],
             [
              0.7777777777777778,
              "#fb9f3a"
             ],
             [
              0.8888888888888888,
              "#fdca26"
             ],
             [
              1,
              "#f0f921"
             ]
            ],
            "type": "heatmapgl"
           }
          ],
          "histogram": [
           {
            "marker": {
             "pattern": {
              "fillmode": "overlay",
              "size": 10,
              "solidity": 0.2
             }
            },
            "type": "histogram"
           }
          ],
          "histogram2d": [
           {
            "colorbar": {
             "outlinewidth": 0,
             "ticks": ""
            },
            "colorscale": [
             [
              0,
              "#0d0887"
             ],
             [
              0.1111111111111111,
              "#46039f"
             ],
             [
              0.2222222222222222,
              "#7201a8"
             ],
             [
              0.3333333333333333,
              "#9c179e"
             ],
             [
              0.4444444444444444,
              "#bd3786"
             ],
             [
              0.5555555555555556,
              "#d8576b"
             ],
             [
              0.6666666666666666,
              "#ed7953"
             ],
             [
              0.7777777777777778,
              "#fb9f3a"
             ],
             [
              0.8888888888888888,
              "#fdca26"
             ],
             [
              1,
              "#f0f921"
             ]
            ],
            "type": "histogram2d"
           }
          ],
          "histogram2dcontour": [
           {
            "colorbar": {
             "outlinewidth": 0,
             "ticks": ""
            },
            "colorscale": [
             [
              0,
              "#0d0887"
             ],
             [
              0.1111111111111111,
              "#46039f"
             ],
             [
              0.2222222222222222,
              "#7201a8"
             ],
             [
              0.3333333333333333,
              "#9c179e"
             ],
             [
              0.4444444444444444,
              "#bd3786"
             ],
             [
              0.5555555555555556,
              "#d8576b"
             ],
             [
              0.6666666666666666,
              "#ed7953"
             ],
             [
              0.7777777777777778,
              "#fb9f3a"
             ],
             [
              0.8888888888888888,
              "#fdca26"
             ],
             [
              1,
              "#f0f921"
             ]
            ],
            "type": "histogram2dcontour"
           }
          ],
          "mesh3d": [
           {
            "colorbar": {
             "outlinewidth": 0,
             "ticks": ""
            },
            "type": "mesh3d"
           }
          ],
          "parcoords": [
           {
            "line": {
             "colorbar": {
              "outlinewidth": 0,
              "ticks": ""
             }
            },
            "type": "parcoords"
           }
          ],
          "pie": [
           {
            "automargin": true,
            "type": "pie"
           }
          ],
          "scatter": [
           {
            "fillpattern": {
             "fillmode": "overlay",
             "size": 10,
             "solidity": 0.2
            },
            "type": "scatter"
           }
          ],
          "scatter3d": [
           {
            "line": {
             "colorbar": {
              "outlinewidth": 0,
              "ticks": ""
             }
            },
            "marker": {
             "colorbar": {
              "outlinewidth": 0,
              "ticks": ""
             }
            },
            "type": "scatter3d"
           }
          ],
          "scattercarpet": [
           {
            "marker": {
             "colorbar": {
              "outlinewidth": 0,
              "ticks": ""
             }
            },
            "type": "scattercarpet"
           }
          ],
          "scattergeo": [
           {
            "marker": {
             "colorbar": {
              "outlinewidth": 0,
              "ticks": ""
             }
            },
            "type": "scattergeo"
           }
          ],
          "scattergl": [
           {
            "marker": {
             "colorbar": {
              "outlinewidth": 0,
              "ticks": ""
             }
            },
            "type": "scattergl"
           }
          ],
          "scattermapbox": [
           {
            "marker": {
             "colorbar": {
              "outlinewidth": 0,
              "ticks": ""
             }
            },
            "type": "scattermapbox"
           }
          ],
          "scatterpolar": [
           {
            "marker": {
             "colorbar": {
              "outlinewidth": 0,
              "ticks": ""
             }
            },
            "type": "scatterpolar"
           }
          ],
          "scatterpolargl": [
           {
            "marker": {
             "colorbar": {
              "outlinewidth": 0,
              "ticks": ""
             }
            },
            "type": "scatterpolargl"
           }
          ],
          "scatterternary": [
           {
            "marker": {
             "colorbar": {
              "outlinewidth": 0,
              "ticks": ""
             }
            },
            "type": "scatterternary"
           }
          ],
          "surface": [
           {
            "colorbar": {
             "outlinewidth": 0,
             "ticks": ""
            },
            "colorscale": [
             [
              0,
              "#0d0887"
             ],
             [
              0.1111111111111111,
              "#46039f"
             ],
             [
              0.2222222222222222,
              "#7201a8"
             ],
             [
              0.3333333333333333,
              "#9c179e"
             ],
             [
              0.4444444444444444,
              "#bd3786"
             ],
             [
              0.5555555555555556,
              "#d8576b"
             ],
             [
              0.6666666666666666,
              "#ed7953"
             ],
             [
              0.7777777777777778,
              "#fb9f3a"
             ],
             [
              0.8888888888888888,
              "#fdca26"
             ],
             [
              1,
              "#f0f921"
             ]
            ],
            "type": "surface"
           }
          ],
          "table": [
           {
            "cells": {
             "fill": {
              "color": "#EBF0F8"
             },
             "line": {
              "color": "white"
             }
            },
            "header": {
             "fill": {
              "color": "#C8D4E3"
             },
             "line": {
              "color": "white"
             }
            },
            "type": "table"
           }
          ]
         },
         "layout": {
          "annotationdefaults": {
           "arrowcolor": "#2a3f5f",
           "arrowhead": 0,
           "arrowwidth": 1
          },
          "autotypenumbers": "strict",
          "coloraxis": {
           "colorbar": {
            "outlinewidth": 0,
            "ticks": ""
           }
          },
          "colorscale": {
           "diverging": [
            [
             0,
             "#8e0152"
            ],
            [
             0.1,
             "#c51b7d"
            ],
            [
             0.2,
             "#de77ae"
            ],
            [
             0.3,
             "#f1b6da"
            ],
            [
             0.4,
             "#fde0ef"
            ],
            [
             0.5,
             "#f7f7f7"
            ],
            [
             0.6,
             "#e6f5d0"
            ],
            [
             0.7,
             "#b8e186"
            ],
            [
             0.8,
             "#7fbc41"
            ],
            [
             0.9,
             "#4d9221"
            ],
            [
             1,
             "#276419"
            ]
           ],
           "sequential": [
            [
             0,
             "#0d0887"
            ],
            [
             0.1111111111111111,
             "#46039f"
            ],
            [
             0.2222222222222222,
             "#7201a8"
            ],
            [
             0.3333333333333333,
             "#9c179e"
            ],
            [
             0.4444444444444444,
             "#bd3786"
            ],
            [
             0.5555555555555556,
             "#d8576b"
            ],
            [
             0.6666666666666666,
             "#ed7953"
            ],
            [
             0.7777777777777778,
             "#fb9f3a"
            ],
            [
             0.8888888888888888,
             "#fdca26"
            ],
            [
             1,
             "#f0f921"
            ]
           ],
           "sequentialminus": [
            [
             0,
             "#0d0887"
            ],
            [
             0.1111111111111111,
             "#46039f"
            ],
            [
             0.2222222222222222,
             "#7201a8"
            ],
            [
             0.3333333333333333,
             "#9c179e"
            ],
            [
             0.4444444444444444,
             "#bd3786"
            ],
            [
             0.5555555555555556,
             "#d8576b"
            ],
            [
             0.6666666666666666,
             "#ed7953"
            ],
            [
             0.7777777777777778,
             "#fb9f3a"
            ],
            [
             0.8888888888888888,
             "#fdca26"
            ],
            [
             1,
             "#f0f921"
            ]
           ]
          },
          "colorway": [
           "#636efa",
           "#EF553B",
           "#00cc96",
           "#ab63fa",
           "#FFA15A",
           "#19d3f3",
           "#FF6692",
           "#B6E880",
           "#FF97FF",
           "#FECB52"
          ],
          "font": {
           "color": "#2a3f5f"
          },
          "geo": {
           "bgcolor": "white",
           "lakecolor": "white",
           "landcolor": "#E5ECF6",
           "showlakes": true,
           "showland": true,
           "subunitcolor": "white"
          },
          "hoverlabel": {
           "align": "left"
          },
          "hovermode": "closest",
          "mapbox": {
           "style": "light"
          },
          "paper_bgcolor": "white",
          "plot_bgcolor": "#E5ECF6",
          "polar": {
           "angularaxis": {
            "gridcolor": "white",
            "linecolor": "white",
            "ticks": ""
           },
           "bgcolor": "#E5ECF6",
           "radialaxis": {
            "gridcolor": "white",
            "linecolor": "white",
            "ticks": ""
           }
          },
          "scene": {
           "xaxis": {
            "backgroundcolor": "#E5ECF6",
            "gridcolor": "white",
            "gridwidth": 2,
            "linecolor": "white",
            "showbackground": true,
            "ticks": "",
            "zerolinecolor": "white"
           },
           "yaxis": {
            "backgroundcolor": "#E5ECF6",
            "gridcolor": "white",
            "gridwidth": 2,
            "linecolor": "white",
            "showbackground": true,
            "ticks": "",
            "zerolinecolor": "white"
           },
           "zaxis": {
            "backgroundcolor": "#E5ECF6",
            "gridcolor": "white",
            "gridwidth": 2,
            "linecolor": "white",
            "showbackground": true,
            "ticks": "",
            "zerolinecolor": "white"
           }
          },
          "shapedefaults": {
           "line": {
            "color": "#2a3f5f"
           }
          },
          "ternary": {
           "aaxis": {
            "gridcolor": "white",
            "linecolor": "white",
            "ticks": ""
           },
           "baxis": {
            "gridcolor": "white",
            "linecolor": "white",
            "ticks": ""
           },
           "bgcolor": "#E5ECF6",
           "caxis": {
            "gridcolor": "white",
            "linecolor": "white",
            "ticks": ""
           }
          },
          "title": {
           "x": 0.05
          },
          "xaxis": {
           "automargin": true,
           "gridcolor": "white",
           "linecolor": "white",
           "ticks": "",
           "title": {
            "standoff": 15
           },
           "zerolinecolor": "white",
           "zerolinewidth": 2
          },
          "yaxis": {
           "automargin": true,
           "gridcolor": "white",
           "linecolor": "white",
           "ticks": "",
           "title": {
            "standoff": 15
           },
           "zerolinecolor": "white",
           "zerolinewidth": 2
          }
         }
        },
        "title": {
         "text": " История оптимизации (Optuna)"
        },
        "width": 800,
        "xaxis": {
         "title": {
          "text": "Номер итерации (trial)"
         }
        },
        "yaxis": {
         "title": {
          "text": "RMSE"
         }
        }
       }
      }
     },
     "metadata": {},
     "output_type": "display_data"
    }
   ],
   "source": [
    "import plotly.graph_objects as go\n",
    "\n",
    "# Извлекаем историю значений\n",
    "trials = study.trials_dataframe()\n",
    "trials = trials[trials[\"state\"] == \"COMPLETE\"]\n",
    "\n",
    "fig = go.Figure()\n",
    "fig.add_trace(go.Scatter(\n",
    "    x=trials[\"number\"],\n",
    "    y=trials[\"value\"],\n",
    "    mode=\"lines+markers\",\n",
    "    name=\"RMSE per trial\"\n",
    "))\n",
    "\n",
    "fig.update_layout(\n",
    "    title=\" История оптимизации (Optuna)\",\n",
    "    xaxis_title=\"Номер итерации (trial)\",\n",
    "    yaxis_title=\"RMSE\",\n",
    "    height=400,\n",
    "    width=800\n",
    ")\n",
    "\n",
    "fig.show()\n"
   ]
  },
  {
   "cell_type": "code",
   "execution_count": 13,
   "id": "747fffb8",
   "metadata": {},
   "outputs": [
    {
     "name": "stdout",
     "output_type": "stream",
     "text": [
      "0:\tlearn: 7846090.9471379\ttotal: 19.5ms\tremaining: 17.9s\n",
      "1:\tlearn: 7354164.0181974\ttotal: 36.4ms\tremaining: 16.6s\n",
      "2:\tlearn: 6941181.2923899\ttotal: 56.8ms\tremaining: 17.3s\n",
      "3:\tlearn: 6589417.9702061\ttotal: 78.4ms\tremaining: 17.9s\n",
      "4:\tlearn: 6264464.9052619\ttotal: 97.1ms\tremaining: 17.7s\n",
      "5:\tlearn: 6003318.6177632\ttotal: 111ms\tremaining: 16.8s\n",
      "6:\tlearn: 5753943.5242946\ttotal: 129ms\tremaining: 16.7s\n",
      "7:\tlearn: 5534403.5246615\ttotal: 147ms\tremaining: 16.7s\n",
      "8:\tlearn: 5345491.3430042\ttotal: 172ms\tremaining: 17.3s\n",
      "9:\tlearn: 5162068.3639080\ttotal: 197ms\tremaining: 17.8s\n",
      "10:\tlearn: 4968970.8671599\ttotal: 218ms\tremaining: 17.9s\n",
      "11:\tlearn: 4811101.9669217\ttotal: 239ms\tremaining: 18s\n",
      "12:\tlearn: 4680768.7870888\ttotal: 266ms\tremaining: 18.5s\n",
      "13:\tlearn: 4560206.8018360\ttotal: 288ms\tremaining: 18.6s\n",
      "14:\tlearn: 4427923.2366343\ttotal: 306ms\tremaining: 18.4s\n",
      "15:\tlearn: 4320767.5851843\ttotal: 327ms\tremaining: 18.4s\n",
      "16:\tlearn: 4216472.6420222\ttotal: 346ms\tremaining: 18.3s\n",
      "17:\tlearn: 4124119.2882556\ttotal: 366ms\tremaining: 18.3s\n",
      "18:\tlearn: 4060861.9376770\ttotal: 384ms\tremaining: 18.1s\n",
      "19:\tlearn: 3994272.5365293\ttotal: 402ms\tremaining: 18s\n",
      "20:\tlearn: 3930476.6081264\ttotal: 420ms\tremaining: 17.9s\n",
      "21:\tlearn: 3861174.0484562\ttotal: 438ms\tremaining: 17.8s\n",
      "22:\tlearn: 3809585.3844969\ttotal: 456ms\tremaining: 17.7s\n",
      "23:\tlearn: 3759941.1186175\ttotal: 477ms\tremaining: 17.7s\n",
      "24:\tlearn: 3720123.5511084\ttotal: 503ms\tremaining: 17.9s\n",
      "25:\tlearn: 3670361.1995685\ttotal: 522ms\tremaining: 17.9s\n",
      "26:\tlearn: 3629850.9377378\ttotal: 541ms\tremaining: 17.8s\n",
      "27:\tlearn: 3592121.4305798\ttotal: 566ms\tremaining: 17.9s\n",
      "28:\tlearn: 3554965.0281558\ttotal: 588ms\tremaining: 18s\n",
      "29:\tlearn: 3525113.5767812\ttotal: 607ms\tremaining: 17.9s\n",
      "30:\tlearn: 3501716.6425311\ttotal: 625ms\tremaining: 17.8s\n",
      "31:\tlearn: 3467662.4094816\ttotal: 642ms\tremaining: 17.7s\n",
      "32:\tlearn: 3465911.0659012\ttotal: 662ms\tremaining: 17.7s\n",
      "33:\tlearn: 3442344.6574497\ttotal: 680ms\tremaining: 17.6s\n",
      "34:\tlearn: 3432560.0043038\ttotal: 702ms\tremaining: 17.7s\n",
      "35:\tlearn: 3426187.0680543\ttotal: 724ms\tremaining: 17.7s\n",
      "36:\tlearn: 3395044.2765281\ttotal: 745ms\tremaining: 17.7s\n",
      "37:\tlearn: 3376277.0603726\ttotal: 765ms\tremaining: 17.7s\n",
      "38:\tlearn: 3367595.9964708\ttotal: 785ms\tremaining: 17.7s\n",
      "39:\tlearn: 3352515.5794928\ttotal: 805ms\tremaining: 17.6s\n",
      "40:\tlearn: 3334000.8962013\ttotal: 823ms\tremaining: 17.6s\n",
      "41:\tlearn: 3317451.4218704\ttotal: 842ms\tremaining: 17.5s\n",
      "42:\tlearn: 3316001.0388632\ttotal: 861ms\tremaining: 17.5s\n",
      "43:\tlearn: 3295041.1904162\ttotal: 883ms\tremaining: 17.5s\n",
      "44:\tlearn: 3281695.8533779\ttotal: 907ms\tremaining: 17.6s\n",
      "45:\tlearn: 3272877.3378780\ttotal: 934ms\tremaining: 17.7s\n",
      "46:\tlearn: 3271668.9142161\ttotal: 960ms\tremaining: 17.7s\n",
      "47:\tlearn: 3269498.8015600\ttotal: 989ms\tremaining: 17.9s\n",
      "48:\tlearn: 3251559.2454351\ttotal: 1.01s\tremaining: 18s\n",
      "49:\tlearn: 3248687.7415910\ttotal: 1.04s\tremaining: 17.9s\n",
      "50:\tlearn: 3231003.1730706\ttotal: 1.06s\tremaining: 17.9s\n",
      "51:\tlearn: 3224415.7115019\ttotal: 1.08s\tremaining: 17.9s\n",
      "52:\tlearn: 3209354.8444298\ttotal: 1.09s\tremaining: 17.8s\n",
      "53:\tlearn: 3209073.9288479\ttotal: 1.12s\tremaining: 17.8s\n",
      "54:\tlearn: 3207723.3256363\ttotal: 1.14s\tremaining: 17.9s\n",
      "55:\tlearn: 3191749.3115160\ttotal: 1.17s\tremaining: 17.9s\n",
      "56:\tlearn: 3182637.6430677\ttotal: 1.19s\tremaining: 18s\n",
      "57:\tlearn: 3172476.9612069\ttotal: 1.22s\tremaining: 18s\n",
      "58:\tlearn: 3164436.8184135\ttotal: 1.24s\tremaining: 18s\n",
      "59:\tlearn: 3155096.5544456\ttotal: 1.26s\tremaining: 17.9s\n",
      "60:\tlearn: 3145782.9203251\ttotal: 1.27s\tremaining: 17.9s\n",
      "61:\tlearn: 3141983.6689823\ttotal: 1.29s\tremaining: 17.8s\n",
      "62:\tlearn: 3133746.2214377\ttotal: 1.32s\tremaining: 17.8s\n",
      "63:\tlearn: 3125494.2295047\ttotal: 1.34s\tremaining: 17.9s\n",
      "64:\tlearn: 3115293.1643299\ttotal: 1.36s\tremaining: 17.8s\n",
      "65:\tlearn: 3107706.8800814\ttotal: 1.38s\tremaining: 17.8s\n",
      "66:\tlearn: 3106648.2847204\ttotal: 1.4s\tremaining: 17.8s\n",
      "67:\tlearn: 3105560.7179882\ttotal: 1.42s\tremaining: 17.7s\n",
      "68:\tlearn: 3096162.6686699\ttotal: 1.44s\tremaining: 17.7s\n",
      "69:\tlearn: 3094893.4692704\ttotal: 1.46s\tremaining: 17.6s\n",
      "70:\tlearn: 3091625.9829153\ttotal: 1.48s\tremaining: 17.6s\n",
      "71:\tlearn: 3078975.0713738\ttotal: 1.5s\tremaining: 17.6s\n",
      "72:\tlearn: 3067927.3069841\ttotal: 1.52s\tremaining: 17.6s\n",
      "73:\tlearn: 3067088.0323713\ttotal: 1.54s\tremaining: 17.6s\n",
      "74:\tlearn: 3066335.3159177\ttotal: 1.57s\tremaining: 17.6s\n",
      "75:\tlearn: 3065657.2535780\ttotal: 1.59s\tremaining: 17.6s\n",
      "76:\tlearn: 3062607.0690146\ttotal: 1.61s\tremaining: 17.6s\n",
      "77:\tlearn: 3061773.6737389\ttotal: 1.63s\tremaining: 17.5s\n",
      "78:\tlearn: 3060525.9781205\ttotal: 1.65s\tremaining: 17.5s\n",
      "79:\tlearn: 3048514.7547739\ttotal: 1.67s\tremaining: 17.4s\n",
      "80:\tlearn: 3047399.8131283\ttotal: 1.68s\tremaining: 17.4s\n",
      "81:\tlearn: 3036273.9494948\ttotal: 1.7s\tremaining: 17.3s\n",
      "82:\tlearn: 3033122.6954994\ttotal: 1.72s\tremaining: 17.3s\n",
      "83:\tlearn: 3031449.3638682\ttotal: 1.74s\tremaining: 17.3s\n",
      "84:\tlearn: 3030759.9404159\ttotal: 1.77s\tremaining: 17.3s\n",
      "85:\tlearn: 3026244.9917631\ttotal: 1.79s\tremaining: 17.3s\n",
      "86:\tlearn: 3025525.2379884\ttotal: 1.82s\tremaining: 17.3s\n",
      "87:\tlearn: 3024648.6863731\ttotal: 1.83s\tremaining: 17.3s\n",
      "88:\tlearn: 3023894.5026686\ttotal: 1.85s\tremaining: 17.2s\n",
      "89:\tlearn: 3020417.5232404\ttotal: 1.87s\tremaining: 17.2s\n",
      "90:\tlearn: 3009040.8842471\ttotal: 1.89s\tremaining: 17.2s\n",
      "91:\tlearn: 3008414.6756446\ttotal: 1.91s\tremaining: 17.1s\n",
      "92:\tlearn: 2998104.6678425\ttotal: 1.94s\tremaining: 17.1s\n",
      "93:\tlearn: 2997744.8221261\ttotal: 1.95s\tremaining: 17.1s\n",
      "94:\tlearn: 2994305.4134363\ttotal: 1.97s\tremaining: 17.1s\n",
      "95:\tlearn: 2992449.3545270\ttotal: 2s\tremaining: 17.1s\n",
      "96:\tlearn: 2992423.8432375\ttotal: 2.02s\tremaining: 17.1s\n",
      "97:\tlearn: 2984298.3470771\ttotal: 2.05s\tremaining: 17.1s\n",
      "98:\tlearn: 2967542.8208450\ttotal: 2.07s\tremaining: 17.1s\n",
      "99:\tlearn: 2963648.3729643\ttotal: 2.1s\tremaining: 17.1s\n",
      "100:\tlearn: 2953347.4311716\ttotal: 2.12s\tremaining: 17.1s\n",
      "101:\tlearn: 2949770.8818788\ttotal: 2.13s\tremaining: 17s\n",
      "102:\tlearn: 2942740.0798328\ttotal: 2.15s\tremaining: 17s\n",
      "103:\tlearn: 2940268.8003690\ttotal: 2.17s\tremaining: 16.9s\n",
      "104:\tlearn: 2937306.3073835\ttotal: 2.19s\tremaining: 16.9s\n",
      "105:\tlearn: 2936780.0949066\ttotal: 2.21s\tremaining: 16.9s\n",
      "106:\tlearn: 2931875.7805370\ttotal: 2.23s\tremaining: 16.9s\n",
      "107:\tlearn: 2927857.2075888\ttotal: 2.25s\tremaining: 16.8s\n",
      "108:\tlearn: 2925120.8726041\ttotal: 2.27s\tremaining: 16.8s\n",
      "109:\tlearn: 2923106.2547854\ttotal: 2.3s\tremaining: 16.9s\n",
      "110:\tlearn: 2921644.7340902\ttotal: 2.32s\tremaining: 16.9s\n",
      "111:\tlearn: 2915185.2471396\ttotal: 2.34s\tremaining: 16.8s\n",
      "112:\tlearn: 2908224.2063321\ttotal: 2.36s\tremaining: 16.8s\n",
      "113:\tlearn: 2901967.1977025\ttotal: 2.38s\tremaining: 16.7s\n",
      "114:\tlearn: 2900673.6840677\ttotal: 2.4s\tremaining: 16.7s\n",
      "115:\tlearn: 2897852.6080355\ttotal: 2.42s\tremaining: 16.7s\n",
      "116:\tlearn: 2892360.3582086\ttotal: 2.44s\tremaining: 16.7s\n",
      "117:\tlearn: 2888082.3253852\ttotal: 2.46s\tremaining: 16.6s\n",
      "118:\tlearn: 2884264.8590062\ttotal: 2.48s\tremaining: 16.6s\n",
      "119:\tlearn: 2878339.1008249\ttotal: 2.5s\tremaining: 16.6s\n",
      "120:\tlearn: 2873063.8681799\ttotal: 2.52s\tremaining: 16.6s\n",
      "121:\tlearn: 2867681.0423109\ttotal: 2.54s\tremaining: 16.5s\n",
      "122:\tlearn: 2855080.7513847\ttotal: 2.56s\tremaining: 16.5s\n",
      "123:\tlearn: 2843353.3972334\ttotal: 2.58s\tremaining: 16.5s\n",
      "124:\tlearn: 2836426.9846036\ttotal: 2.6s\tremaining: 16.4s\n",
      "125:\tlearn: 2827619.5599849\ttotal: 2.62s\tremaining: 16.4s\n",
      "126:\tlearn: 2827339.5539528\ttotal: 2.64s\tremaining: 16.4s\n",
      "127:\tlearn: 2826061.6514631\ttotal: 2.67s\tremaining: 16.4s\n",
      "128:\tlearn: 2824234.1993340\ttotal: 2.69s\tremaining: 16.4s\n",
      "129:\tlearn: 2818749.9755276\ttotal: 2.72s\tremaining: 16.5s\n",
      "130:\tlearn: 2817840.8719551\ttotal: 2.74s\tremaining: 16.4s\n",
      "131:\tlearn: 2815262.1242987\ttotal: 2.77s\tremaining: 16.4s\n",
      "132:\tlearn: 2809029.0277127\ttotal: 2.79s\tremaining: 16.4s\n",
      "133:\tlearn: 2806064.1565460\ttotal: 2.82s\tremaining: 16.4s\n",
      "134:\tlearn: 2797657.4237489\ttotal: 2.84s\tremaining: 16.5s\n",
      "135:\tlearn: 2790151.7515775\ttotal: 2.87s\tremaining: 16.5s\n",
      "136:\tlearn: 2786492.8410316\ttotal: 2.89s\tremaining: 16.5s\n",
      "137:\tlearn: 2783321.1039288\ttotal: 2.92s\tremaining: 16.5s\n",
      "138:\tlearn: 2781167.5965013\ttotal: 2.94s\tremaining: 16.5s\n",
      "139:\tlearn: 2778085.9238628\ttotal: 2.97s\tremaining: 16.4s\n",
      "140:\tlearn: 2769446.3315239\ttotal: 2.99s\tremaining: 16.4s\n",
      "141:\tlearn: 2762163.7306008\ttotal: 3.01s\tremaining: 16.4s\n",
      "142:\tlearn: 2761299.2787641\ttotal: 3.03s\tremaining: 16.4s\n",
      "143:\tlearn: 2752413.2021949\ttotal: 3.05s\tremaining: 16.4s\n",
      "144:\tlearn: 2740734.6876951\ttotal: 3.07s\tremaining: 16.3s\n",
      "145:\tlearn: 2739586.3704912\ttotal: 3.09s\tremaining: 16.3s\n",
      "146:\tlearn: 2738021.5896111\ttotal: 3.13s\tremaining: 16.4s\n",
      "147:\tlearn: 2737332.4541112\ttotal: 3.17s\tremaining: 16.4s\n",
      "148:\tlearn: 2736970.4193301\ttotal: 3.2s\tremaining: 16.5s\n",
      "149:\tlearn: 2734860.9011448\ttotal: 3.23s\tremaining: 16.5s\n",
      "150:\tlearn: 2731493.2806269\ttotal: 3.25s\tremaining: 16.5s\n",
      "151:\tlearn: 2724610.9392324\ttotal: 3.27s\tremaining: 16.5s\n",
      "152:\tlearn: 2721154.7855523\ttotal: 3.3s\tremaining: 16.5s\n",
      "153:\tlearn: 2717941.4378618\ttotal: 3.32s\tremaining: 16.4s\n",
      "154:\tlearn: 2714197.0049710\ttotal: 3.34s\tremaining: 16.4s\n",
      "155:\tlearn: 2711572.4397965\ttotal: 3.37s\tremaining: 16.4s\n",
      "156:\tlearn: 2702863.2499626\ttotal: 3.39s\tremaining: 16.4s\n",
      "157:\tlearn: 2701745.1778023\ttotal: 3.42s\tremaining: 16.4s\n",
      "158:\tlearn: 2701474.1214063\ttotal: 3.44s\tremaining: 16.4s\n",
      "159:\tlearn: 2693123.6429194\ttotal: 3.46s\tremaining: 16.3s\n",
      "160:\tlearn: 2692285.1354637\ttotal: 3.48s\tremaining: 16.3s\n",
      "161:\tlearn: 2684579.9638358\ttotal: 3.51s\tremaining: 16.3s\n",
      "162:\tlearn: 2683673.9148014\ttotal: 3.52s\tremaining: 16.3s\n",
      "163:\tlearn: 2677244.6531074\ttotal: 3.55s\tremaining: 16.3s\n",
      "164:\tlearn: 2675251.2549770\ttotal: 3.57s\tremaining: 16.2s\n",
      "165:\tlearn: 2671160.0461335\ttotal: 3.59s\tremaining: 16.2s\n",
      "166:\tlearn: 2670547.1079909\ttotal: 3.62s\tremaining: 16.2s\n",
      "167:\tlearn: 2669683.9019544\ttotal: 3.64s\tremaining: 16.2s\n",
      "168:\tlearn: 2668451.7027846\ttotal: 3.66s\tremaining: 16.2s\n",
      "169:\tlearn: 2662771.7420831\ttotal: 3.69s\tremaining: 16.2s\n",
      "170:\tlearn: 2658876.1224586\ttotal: 3.71s\tremaining: 16.2s\n",
      "171:\tlearn: 2656489.3631152\ttotal: 3.73s\tremaining: 16.1s\n",
      "172:\tlearn: 2655112.6517938\ttotal: 3.75s\tremaining: 16.1s\n",
      "173:\tlearn: 2652691.2894554\ttotal: 3.77s\tremaining: 16.1s\n",
      "174:\tlearn: 2648694.5266536\ttotal: 3.8s\tremaining: 16.1s\n",
      "175:\tlearn: 2647260.9252717\ttotal: 3.82s\tremaining: 16.1s\n",
      "176:\tlearn: 2644875.6636426\ttotal: 3.84s\tremaining: 16s\n",
      "177:\tlearn: 2640278.9112555\ttotal: 3.86s\tremaining: 16s\n",
      "178:\tlearn: 2639641.2529074\ttotal: 3.88s\tremaining: 16s\n",
      "179:\tlearn: 2639069.4731360\ttotal: 3.91s\tremaining: 16s\n",
      "180:\tlearn: 2628489.5723227\ttotal: 3.93s\tremaining: 16s\n",
      "181:\tlearn: 2627465.1282355\ttotal: 3.95s\tremaining: 15.9s\n",
      "182:\tlearn: 2625382.0480407\ttotal: 3.98s\tremaining: 15.9s\n",
      "183:\tlearn: 2624956.2371534\ttotal: 4s\tremaining: 15.9s\n",
      "184:\tlearn: 2621938.7166255\ttotal: 4.01s\tremaining: 15.9s\n",
      "185:\tlearn: 2619605.1589429\ttotal: 4.03s\tremaining: 15.8s\n",
      "186:\tlearn: 2616194.5743008\ttotal: 4.05s\tremaining: 15.8s\n",
      "187:\tlearn: 2614166.3420121\ttotal: 4.07s\tremaining: 15.8s\n",
      "188:\tlearn: 2613703.8703854\ttotal: 4.09s\tremaining: 15.7s\n",
      "189:\tlearn: 2609348.5341458\ttotal: 4.11s\tremaining: 15.7s\n",
      "190:\tlearn: 2602331.5316763\ttotal: 4.13s\tremaining: 15.7s\n",
      "191:\tlearn: 2598300.7277631\ttotal: 4.15s\tremaining: 15.6s\n",
      "192:\tlearn: 2591835.6340954\ttotal: 4.17s\tremaining: 15.6s\n",
      "193:\tlearn: 2590654.2997522\ttotal: 4.24s\tremaining: 15.8s\n",
      "194:\tlearn: 2587002.5734361\ttotal: 4.3s\tremaining: 15.9s\n",
      "195:\tlearn: 2586588.3840527\ttotal: 4.33s\tremaining: 15.9s\n",
      "196:\tlearn: 2585422.7815958\ttotal: 4.35s\tremaining: 15.9s\n",
      "197:\tlearn: 2578392.0660972\ttotal: 4.38s\tremaining: 15.9s\n",
      "198:\tlearn: 2573187.9110436\ttotal: 4.39s\tremaining: 15.8s\n",
      "199:\tlearn: 2570232.9920562\ttotal: 4.41s\tremaining: 15.8s\n",
      "200:\tlearn: 2569538.8070016\ttotal: 4.43s\tremaining: 15.7s\n",
      "201:\tlearn: 2563132.1291380\ttotal: 4.45s\tremaining: 15.7s\n",
      "202:\tlearn: 2560228.1189451\ttotal: 4.46s\tremaining: 15.7s\n",
      "203:\tlearn: 2557879.5474521\ttotal: 4.48s\tremaining: 15.6s\n",
      "204:\tlearn: 2552704.0652393\ttotal: 4.5s\tremaining: 15.6s\n",
      "205:\tlearn: 2544211.9436030\ttotal: 4.52s\tremaining: 15.6s\n",
      "206:\tlearn: 2540160.4984326\ttotal: 4.54s\tremaining: 15.5s\n",
      "207:\tlearn: 2533365.1865247\ttotal: 4.56s\tremaining: 15.5s\n",
      "208:\tlearn: 2532069.0384044\ttotal: 4.58s\tremaining: 15.5s\n",
      "209:\tlearn: 2521658.1044369\ttotal: 4.6s\tremaining: 15.5s\n",
      "210:\tlearn: 2519526.5250022\ttotal: 4.62s\tremaining: 15.4s\n",
      "211:\tlearn: 2515982.5968673\ttotal: 4.64s\tremaining: 15.4s\n",
      "212:\tlearn: 2512062.4099795\ttotal: 4.66s\tremaining: 15.4s\n",
      "213:\tlearn: 2507875.7797343\ttotal: 4.68s\tremaining: 15.4s\n",
      "214:\tlearn: 2503616.0139178\ttotal: 4.7s\tremaining: 15.3s\n",
      "215:\tlearn: 2502764.6482396\ttotal: 4.72s\tremaining: 15.3s\n",
      "216:\tlearn: 2502480.5605509\ttotal: 4.74s\tremaining: 15.3s\n",
      "217:\tlearn: 2502348.4583559\ttotal: 4.76s\tremaining: 15.2s\n",
      "218:\tlearn: 2501850.4060939\ttotal: 4.78s\tremaining: 15.2s\n",
      "219:\tlearn: 2496283.2174623\ttotal: 4.8s\tremaining: 15.2s\n",
      "220:\tlearn: 2493174.5284168\ttotal: 4.82s\tremaining: 15.1s\n",
      "221:\tlearn: 2487200.3448294\ttotal: 4.84s\tremaining: 15.1s\n",
      "222:\tlearn: 2483974.9712552\ttotal: 4.85s\tremaining: 15.1s\n",
      "223:\tlearn: 2482267.3288611\ttotal: 4.88s\tremaining: 15.1s\n",
      "224:\tlearn: 2476433.1462068\ttotal: 4.89s\tremaining: 15s\n",
      "225:\tlearn: 2468709.0750080\ttotal: 4.91s\tremaining: 15s\n",
      "226:\tlearn: 2466897.9426696\ttotal: 4.93s\tremaining: 15s\n",
      "227:\tlearn: 2465260.3447603\ttotal: 4.95s\tremaining: 14.9s\n",
      "228:\tlearn: 2463243.7254818\ttotal: 4.97s\tremaining: 14.9s\n",
      "229:\tlearn: 2460167.1772491\ttotal: 4.99s\tremaining: 14.9s\n",
      "230:\tlearn: 2458293.8525115\ttotal: 5.04s\tremaining: 14.9s\n",
      "231:\tlearn: 2457281.1362401\ttotal: 5.06s\tremaining: 14.9s\n",
      "232:\tlearn: 2455661.8016255\ttotal: 5.08s\tremaining: 14.9s\n",
      "233:\tlearn: 2454720.5492420\ttotal: 5.09s\tremaining: 14.8s\n",
      "234:\tlearn: 2448713.6712781\ttotal: 5.11s\tremaining: 14.8s\n",
      "235:\tlearn: 2447478.6049164\ttotal: 5.13s\tremaining: 14.8s\n",
      "236:\tlearn: 2441097.4067268\ttotal: 5.16s\tremaining: 14.8s\n",
      "237:\tlearn: 2440905.3277558\ttotal: 5.18s\tremaining: 14.7s\n",
      "238:\tlearn: 2435538.8018858\ttotal: 5.2s\tremaining: 14.7s\n",
      "239:\tlearn: 2434052.5113052\ttotal: 5.22s\tremaining: 14.7s\n",
      "240:\tlearn: 2424058.0215171\ttotal: 5.24s\tremaining: 14.7s\n",
      "241:\tlearn: 2423122.3496885\ttotal: 5.26s\tremaining: 14.7s\n",
      "242:\tlearn: 2418905.4633168\ttotal: 5.28s\tremaining: 14.6s\n",
      "243:\tlearn: 2414363.5103062\ttotal: 5.3s\tremaining: 14.6s\n",
      "244:\tlearn: 2412146.6305985\ttotal: 5.32s\tremaining: 14.6s\n",
      "245:\tlearn: 2411803.7815468\ttotal: 5.34s\tremaining: 14.5s\n",
      "246:\tlearn: 2409891.9883842\ttotal: 5.36s\tremaining: 14.5s\n",
      "247:\tlearn: 2407958.9618134\ttotal: 5.39s\tremaining: 14.5s\n",
      "248:\tlearn: 2405598.6388072\ttotal: 5.43s\tremaining: 14.5s\n",
      "249:\tlearn: 2403801.4890185\ttotal: 5.46s\tremaining: 14.5s\n",
      "250:\tlearn: 2400072.6230392\ttotal: 5.48s\tremaining: 14.5s\n",
      "251:\tlearn: 2397516.7718129\ttotal: 5.5s\tremaining: 14.5s\n",
      "252:\tlearn: 2397286.7075276\ttotal: 5.52s\tremaining: 14.5s\n",
      "253:\tlearn: 2394566.9039469\ttotal: 5.54s\tremaining: 14.5s\n",
      "254:\tlearn: 2392673.9681853\ttotal: 5.57s\tremaining: 14.4s\n",
      "255:\tlearn: 2390441.7781686\ttotal: 5.59s\tremaining: 14.4s\n",
      "256:\tlearn: 2385006.8855869\ttotal: 5.61s\tremaining: 14.4s\n",
      "257:\tlearn: 2381253.1573034\ttotal: 5.63s\tremaining: 14.4s\n",
      "258:\tlearn: 2378922.6551674\ttotal: 5.66s\tremaining: 14.4s\n",
      "259:\tlearn: 2376500.5573613\ttotal: 5.68s\tremaining: 14.3s\n",
      "260:\tlearn: 2371853.5594514\ttotal: 5.7s\tremaining: 14.3s\n",
      "261:\tlearn: 2368540.0187961\ttotal: 5.72s\tremaining: 14.3s\n",
      "262:\tlearn: 2366291.9771561\ttotal: 5.74s\tremaining: 14.3s\n",
      "263:\tlearn: 2359724.1733632\ttotal: 5.76s\tremaining: 14.2s\n",
      "264:\tlearn: 2358338.0182162\ttotal: 5.78s\tremaining: 14.2s\n",
      "265:\tlearn: 2356837.2487681\ttotal: 5.79s\tremaining: 14.2s\n",
      "266:\tlearn: 2352863.7716306\ttotal: 5.81s\tremaining: 14.1s\n",
      "267:\tlearn: 2352557.9973152\ttotal: 5.83s\tremaining: 14.1s\n",
      "268:\tlearn: 2351251.2246549\ttotal: 5.86s\tremaining: 14.1s\n",
      "269:\tlearn: 2346247.5741695\ttotal: 5.88s\tremaining: 14.1s\n",
      "270:\tlearn: 2341684.8295960\ttotal: 5.89s\tremaining: 14s\n",
      "271:\tlearn: 2341526.4971242\ttotal: 5.91s\tremaining: 14s\n",
      "272:\tlearn: 2340052.6347858\ttotal: 5.93s\tremaining: 14s\n",
      "273:\tlearn: 2335081.0211766\ttotal: 5.95s\tremaining: 14s\n",
      "274:\tlearn: 2327462.8045206\ttotal: 5.97s\tremaining: 13.9s\n",
      "275:\tlearn: 2322886.8602207\ttotal: 5.99s\tremaining: 13.9s\n",
      "276:\tlearn: 2319167.2447526\ttotal: 6.01s\tremaining: 13.9s\n",
      "277:\tlearn: 2316457.2321904\ttotal: 6.03s\tremaining: 13.8s\n",
      "278:\tlearn: 2315593.6029943\ttotal: 6.04s\tremaining: 13.8s\n",
      "279:\tlearn: 2313144.6661453\ttotal: 6.07s\tremaining: 13.8s\n",
      "280:\tlearn: 2311960.7888890\ttotal: 6.09s\tremaining: 13.8s\n",
      "281:\tlearn: 2311021.1542868\ttotal: 6.11s\tremaining: 13.7s\n",
      "282:\tlearn: 2308657.3790979\ttotal: 6.12s\tremaining: 13.7s\n",
      "283:\tlearn: 2308169.7451739\ttotal: 6.14s\tremaining: 13.7s\n",
      "284:\tlearn: 2304060.5490823\ttotal: 6.16s\tremaining: 13.6s\n",
      "285:\tlearn: 2303252.4103813\ttotal: 6.18s\tremaining: 13.6s\n",
      "286:\tlearn: 2302181.9126520\ttotal: 6.2s\tremaining: 13.6s\n",
      "287:\tlearn: 2297657.1027844\ttotal: 6.22s\tremaining: 13.6s\n",
      "288:\tlearn: 2297444.4885918\ttotal: 6.24s\tremaining: 13.5s\n",
      "289:\tlearn: 2292745.2826837\ttotal: 6.26s\tremaining: 13.5s\n",
      "290:\tlearn: 2287299.6279833\ttotal: 6.28s\tremaining: 13.5s\n",
      "291:\tlearn: 2286541.0018665\ttotal: 6.3s\tremaining: 13.5s\n",
      "292:\tlearn: 2286207.6319935\ttotal: 6.32s\tremaining: 13.4s\n",
      "293:\tlearn: 2283540.3956556\ttotal: 6.34s\tremaining: 13.4s\n",
      "294:\tlearn: 2279779.9163358\ttotal: 6.36s\tremaining: 13.4s\n",
      "295:\tlearn: 2277895.4431018\ttotal: 6.38s\tremaining: 13.4s\n",
      "296:\tlearn: 2274924.9253036\ttotal: 6.39s\tremaining: 13.3s\n",
      "297:\tlearn: 2274448.7360527\ttotal: 6.41s\tremaining: 13.3s\n",
      "298:\tlearn: 2270063.0512997\ttotal: 6.43s\tremaining: 13.3s\n",
      "299:\tlearn: 2265392.8970918\ttotal: 6.45s\tremaining: 13.2s\n",
      "300:\tlearn: 2265201.7118567\ttotal: 6.47s\tremaining: 13.2s\n",
      "301:\tlearn: 2263413.0903052\ttotal: 6.53s\tremaining: 13.3s\n",
      "302:\tlearn: 2262591.9702286\ttotal: 6.55s\tremaining: 13.3s\n",
      "303:\tlearn: 2261017.1184271\ttotal: 6.57s\tremaining: 13.2s\n",
      "304:\tlearn: 2259517.8455998\ttotal: 6.59s\tremaining: 13.2s\n",
      "305:\tlearn: 2258323.8898252\ttotal: 6.61s\tremaining: 13.2s\n",
      "306:\tlearn: 2257389.2193192\ttotal: 6.63s\tremaining: 13.2s\n",
      "307:\tlearn: 2257255.6379215\ttotal: 6.65s\tremaining: 13.1s\n",
      "308:\tlearn: 2255951.1262945\ttotal: 6.66s\tremaining: 13.1s\n",
      "309:\tlearn: 2253941.9928983\ttotal: 6.68s\tremaining: 13.1s\n",
      "310:\tlearn: 2251086.7938949\ttotal: 6.71s\tremaining: 13s\n",
      "311:\tlearn: 2245006.1255569\ttotal: 6.72s\tremaining: 13s\n",
      "312:\tlearn: 2243161.3502954\ttotal: 6.74s\tremaining: 13s\n",
      "313:\tlearn: 2240742.4420375\ttotal: 6.76s\tremaining: 13s\n",
      "314:\tlearn: 2240015.6257382\ttotal: 6.78s\tremaining: 12.9s\n",
      "315:\tlearn: 2239796.3099478\ttotal: 6.8s\tremaining: 12.9s\n",
      "316:\tlearn: 2236536.9538394\ttotal: 6.82s\tremaining: 12.9s\n",
      "317:\tlearn: 2234978.1241084\ttotal: 6.83s\tremaining: 12.8s\n",
      "318:\tlearn: 2234350.9574344\ttotal: 6.85s\tremaining: 12.8s\n",
      "319:\tlearn: 2234029.9411366\ttotal: 6.87s\tremaining: 12.8s\n",
      "320:\tlearn: 2231192.0454791\ttotal: 6.89s\tremaining: 12.8s\n",
      "321:\tlearn: 2224074.6180466\ttotal: 6.92s\tremaining: 12.8s\n",
      "322:\tlearn: 2223267.2358314\ttotal: 6.94s\tremaining: 12.7s\n",
      "323:\tlearn: 2220354.8421724\ttotal: 6.96s\tremaining: 12.7s\n",
      "324:\tlearn: 2218823.9071078\ttotal: 6.97s\tremaining: 12.7s\n",
      "325:\tlearn: 2214589.7286745\ttotal: 6.99s\tremaining: 12.7s\n",
      "326:\tlearn: 2211130.2757987\ttotal: 7.01s\tremaining: 12.6s\n",
      "327:\tlearn: 2210543.3698660\ttotal: 7.03s\tremaining: 12.6s\n",
      "328:\tlearn: 2205977.6719497\ttotal: 7.05s\tremaining: 12.6s\n",
      "329:\tlearn: 2202404.0949125\ttotal: 7.06s\tremaining: 12.5s\n",
      "330:\tlearn: 2198790.4257145\ttotal: 7.08s\tremaining: 12.5s\n",
      "331:\tlearn: 2197187.1903909\ttotal: 7.1s\tremaining: 12.5s\n",
      "332:\tlearn: 2195554.7507683\ttotal: 7.12s\tremaining: 12.5s\n",
      "333:\tlearn: 2191965.2192351\ttotal: 7.14s\tremaining: 12.4s\n",
      "334:\tlearn: 2189033.1041266\ttotal: 7.16s\tremaining: 12.4s\n",
      "335:\tlearn: 2186975.1399450\ttotal: 7.18s\tremaining: 12.4s\n",
      "336:\tlearn: 2181713.0888994\ttotal: 7.2s\tremaining: 12.4s\n",
      "337:\tlearn: 2181324.8517475\ttotal: 7.21s\tremaining: 12.3s\n",
      "338:\tlearn: 2180492.7098284\ttotal: 7.23s\tremaining: 12.3s\n",
      "339:\tlearn: 2178631.9571382\ttotal: 7.25s\tremaining: 12.3s\n",
      "340:\tlearn: 2175631.0626459\ttotal: 7.27s\tremaining: 12.3s\n",
      "341:\tlearn: 2172717.9677859\ttotal: 7.29s\tremaining: 12.2s\n",
      "342:\tlearn: 2171982.6413272\ttotal: 7.3s\tremaining: 12.2s\n",
      "343:\tlearn: 2166977.3030621\ttotal: 7.32s\tremaining: 12.2s\n",
      "344:\tlearn: 2166856.1517659\ttotal: 7.34s\tremaining: 12.1s\n",
      "345:\tlearn: 2165211.7076194\ttotal: 7.36s\tremaining: 12.1s\n",
      "346:\tlearn: 2163941.6941625\ttotal: 7.38s\tremaining: 12.1s\n",
      "347:\tlearn: 2161063.8199133\ttotal: 7.4s\tremaining: 12.1s\n",
      "348:\tlearn: 2159326.0765665\ttotal: 7.42s\tremaining: 12s\n",
      "349:\tlearn: 2158134.6509378\ttotal: 7.43s\tremaining: 12s\n",
      "350:\tlearn: 2157377.1638446\ttotal: 7.46s\tremaining: 12s\n",
      "351:\tlearn: 2154311.5480110\ttotal: 7.48s\tremaining: 12s\n",
      "352:\tlearn: 2154077.6231215\ttotal: 7.5s\tremaining: 12s\n",
      "353:\tlearn: 2152815.1801312\ttotal: 7.53s\tremaining: 11.9s\n",
      "354:\tlearn: 2149228.9591080\ttotal: 7.55s\tremaining: 11.9s\n",
      "355:\tlearn: 2148258.2709404\ttotal: 7.57s\tremaining: 11.9s\n",
      "356:\tlearn: 2144673.8011338\ttotal: 7.59s\tremaining: 11.9s\n",
      "357:\tlearn: 2143447.7284492\ttotal: 7.63s\tremaining: 11.9s\n",
      "358:\tlearn: 2141747.6755867\ttotal: 7.66s\tremaining: 11.9s\n",
      "359:\tlearn: 2138362.7789253\ttotal: 7.69s\tremaining: 11.9s\n",
      "360:\tlearn: 2137784.5507242\ttotal: 7.71s\tremaining: 11.9s\n",
      "361:\tlearn: 2137352.7889390\ttotal: 7.74s\tremaining: 11.8s\n",
      "362:\tlearn: 2136957.2594283\ttotal: 7.75s\tremaining: 11.8s\n",
      "363:\tlearn: 2134003.6057060\ttotal: 7.78s\tremaining: 11.8s\n",
      "364:\tlearn: 2129746.9161152\ttotal: 7.8s\tremaining: 11.8s\n",
      "365:\tlearn: 2127675.1850987\ttotal: 7.82s\tremaining: 11.8s\n",
      "366:\tlearn: 2123237.5076725\ttotal: 7.85s\tremaining: 11.7s\n",
      "367:\tlearn: 2123066.5120669\ttotal: 7.87s\tremaining: 11.7s\n",
      "368:\tlearn: 2121210.7328290\ttotal: 7.89s\tremaining: 11.7s\n",
      "369:\tlearn: 2120956.9167803\ttotal: 7.92s\tremaining: 11.7s\n",
      "370:\tlearn: 2118042.9744841\ttotal: 7.94s\tremaining: 11.7s\n",
      "371:\tlearn: 2117476.5400152\ttotal: 7.96s\tremaining: 11.6s\n",
      "372:\tlearn: 2116303.7587861\ttotal: 7.98s\tremaining: 11.6s\n",
      "373:\tlearn: 2115871.2717359\ttotal: 8.01s\tremaining: 11.6s\n",
      "374:\tlearn: 2114943.9903161\ttotal: 8.04s\tremaining: 11.6s\n",
      "375:\tlearn: 2109911.3563414\ttotal: 8.06s\tremaining: 11.6s\n",
      "376:\tlearn: 2107925.0868575\ttotal: 8.08s\tremaining: 11.6s\n",
      "377:\tlearn: 2104150.6063214\ttotal: 8.1s\tremaining: 11.5s\n",
      "378:\tlearn: 2099941.2047639\ttotal: 8.12s\tremaining: 11.5s\n",
      "379:\tlearn: 2098676.6629105\ttotal: 8.14s\tremaining: 11.5s\n",
      "380:\tlearn: 2095449.5724882\ttotal: 8.16s\tremaining: 11.5s\n",
      "381:\tlearn: 2091868.9406835\ttotal: 8.18s\tremaining: 11.4s\n",
      "382:\tlearn: 2091623.4331142\ttotal: 8.2s\tremaining: 11.4s\n",
      "383:\tlearn: 2090846.1846887\ttotal: 8.22s\tremaining: 11.4s\n",
      "384:\tlearn: 2090092.0799380\ttotal: 8.24s\tremaining: 11.4s\n",
      "385:\tlearn: 2089006.6037344\ttotal: 8.26s\tremaining: 11.3s\n",
      "386:\tlearn: 2086837.6009825\ttotal: 8.28s\tremaining: 11.3s\n",
      "387:\tlearn: 2085962.7512251\ttotal: 8.3s\tremaining: 11.3s\n",
      "388:\tlearn: 2083751.9150462\ttotal: 8.32s\tremaining: 11.3s\n",
      "389:\tlearn: 2082759.0765268\ttotal: 8.34s\tremaining: 11.2s\n",
      "390:\tlearn: 2080004.4324113\ttotal: 8.36s\tremaining: 11.2s\n",
      "391:\tlearn: 2077348.6174350\ttotal: 8.38s\tremaining: 11.2s\n",
      "392:\tlearn: 2077082.9206792\ttotal: 8.39s\tremaining: 11.2s\n",
      "393:\tlearn: 2074263.1939611\ttotal: 8.41s\tremaining: 11.1s\n",
      "394:\tlearn: 2073724.2973022\ttotal: 8.43s\tremaining: 11.1s\n",
      "395:\tlearn: 2069920.8309128\ttotal: 8.45s\tremaining: 11.1s\n",
      "396:\tlearn: 2069665.7226787\ttotal: 8.47s\tremaining: 11.1s\n",
      "397:\tlearn: 2068590.4603443\ttotal: 8.49s\tremaining: 11s\n",
      "398:\tlearn: 2067184.4675439\ttotal: 8.51s\tremaining: 11s\n",
      "399:\tlearn: 2063705.8750858\ttotal: 8.53s\tremaining: 11s\n",
      "400:\tlearn: 2062885.8415454\ttotal: 8.54s\tremaining: 11s\n",
      "401:\tlearn: 2061468.4519653\ttotal: 8.56s\tremaining: 10.9s\n",
      "402:\tlearn: 2057039.4797145\ttotal: 8.58s\tremaining: 10.9s\n",
      "403:\tlearn: 2053102.3034033\ttotal: 8.6s\tremaining: 10.9s\n",
      "404:\tlearn: 2047577.2070760\ttotal: 8.62s\tremaining: 10.9s\n",
      "405:\tlearn: 2045650.9571877\ttotal: 8.63s\tremaining: 10.8s\n",
      "406:\tlearn: 2043806.8019724\ttotal: 8.65s\tremaining: 10.8s\n",
      "407:\tlearn: 2043066.6333153\ttotal: 8.68s\tremaining: 10.8s\n",
      "408:\tlearn: 2041972.2559958\ttotal: 8.71s\tremaining: 10.8s\n",
      "409:\tlearn: 2040245.2098444\ttotal: 8.73s\tremaining: 10.8s\n",
      "410:\tlearn: 2039226.7190892\ttotal: 8.76s\tremaining: 10.8s\n",
      "411:\tlearn: 2037274.5139482\ttotal: 8.78s\tremaining: 10.7s\n",
      "412:\tlearn: 2036828.0361203\ttotal: 8.81s\tremaining: 10.7s\n",
      "413:\tlearn: 2034649.8561683\ttotal: 8.83s\tremaining: 10.7s\n",
      "414:\tlearn: 2033898.1036181\ttotal: 8.85s\tremaining: 10.7s\n",
      "415:\tlearn: 2032749.7159323\ttotal: 8.87s\tremaining: 10.7s\n",
      "416:\tlearn: 2030441.3247808\ttotal: 8.88s\tremaining: 10.6s\n",
      "417:\tlearn: 2029701.9079451\ttotal: 8.9s\tremaining: 10.6s\n",
      "418:\tlearn: 2026656.2615087\ttotal: 8.93s\tremaining: 10.6s\n",
      "419:\tlearn: 2026012.3012406\ttotal: 8.94s\tremaining: 10.6s\n",
      "420:\tlearn: 2022629.5894813\ttotal: 8.96s\tremaining: 10.5s\n",
      "421:\tlearn: 2022250.5377905\ttotal: 8.98s\tremaining: 10.5s\n",
      "422:\tlearn: 2020175.8640030\ttotal: 9s\tremaining: 10.5s\n",
      "423:\tlearn: 2017882.2040910\ttotal: 9.02s\tremaining: 10.5s\n",
      "424:\tlearn: 2017502.9376130\ttotal: 9.04s\tremaining: 10.4s\n",
      "425:\tlearn: 2016693.7867522\ttotal: 9.06s\tremaining: 10.4s\n",
      "426:\tlearn: 2015903.4673398\ttotal: 9.07s\tremaining: 10.4s\n",
      "427:\tlearn: 2014508.2652277\ttotal: 9.09s\tremaining: 10.4s\n",
      "428:\tlearn: 2009778.0709081\ttotal: 9.11s\tremaining: 10.3s\n",
      "429:\tlearn: 2006263.9799824\ttotal: 9.13s\tremaining: 10.3s\n",
      "430:\tlearn: 2005353.9500332\ttotal: 9.15s\tremaining: 10.3s\n",
      "431:\tlearn: 2005235.6496298\ttotal: 9.18s\tremaining: 10.3s\n",
      "432:\tlearn: 2004521.8402431\ttotal: 9.2s\tremaining: 10.3s\n",
      "433:\tlearn: 2003447.6965258\ttotal: 9.22s\tremaining: 10.2s\n",
      "434:\tlearn: 1998532.1075649\ttotal: 9.25s\tremaining: 10.2s\n",
      "435:\tlearn: 1995297.6835240\ttotal: 9.27s\tremaining: 10.2s\n",
      "436:\tlearn: 1994437.4127200\ttotal: 9.29s\tremaining: 10.2s\n",
      "437:\tlearn: 1992181.8261055\ttotal: 9.31s\tremaining: 10.2s\n",
      "438:\tlearn: 1991120.4488206\ttotal: 9.33s\tremaining: 10.1s\n",
      "439:\tlearn: 1988828.1295938\ttotal: 9.35s\tremaining: 10.1s\n",
      "440:\tlearn: 1988062.7820357\ttotal: 9.37s\tremaining: 10.1s\n",
      "441:\tlearn: 1986045.2185991\ttotal: 9.39s\tremaining: 10.1s\n",
      "442:\tlearn: 1983856.6567071\ttotal: 9.41s\tremaining: 10s\n",
      "443:\tlearn: 1983115.8183060\ttotal: 9.42s\tremaining: 10s\n",
      "444:\tlearn: 1980691.8408589\ttotal: 9.44s\tremaining: 9.99s\n",
      "445:\tlearn: 1980050.4567009\ttotal: 9.46s\tremaining: 9.97s\n",
      "446:\tlearn: 1977591.3493805\ttotal: 9.48s\tremaining: 9.95s\n",
      "447:\tlearn: 1973917.8111461\ttotal: 9.5s\tremaining: 9.92s\n",
      "448:\tlearn: 1973260.4107873\ttotal: 9.52s\tremaining: 9.9s\n",
      "449:\tlearn: 1970622.0356263\ttotal: 9.54s\tremaining: 9.88s\n",
      "450:\tlearn: 1969631.3159890\ttotal: 9.56s\tremaining: 9.86s\n",
      "451:\tlearn: 1967161.2024831\ttotal: 9.58s\tremaining: 9.84s\n",
      "452:\tlearn: 1963471.8123098\ttotal: 9.61s\tremaining: 9.82s\n",
      "453:\tlearn: 1962740.6282779\ttotal: 9.63s\tremaining: 9.8s\n",
      "454:\tlearn: 1960672.3190845\ttotal: 9.65s\tremaining: 9.78s\n",
      "455:\tlearn: 1960338.1924974\ttotal: 9.67s\tremaining: 9.75s\n",
      "456:\tlearn: 1959391.3202393\ttotal: 9.68s\tremaining: 9.73s\n",
      "457:\tlearn: 1955752.6413501\ttotal: 9.7s\tremaining: 9.7s\n",
      "458:\tlearn: 1954736.3429607\ttotal: 9.72s\tremaining: 9.68s\n",
      "459:\tlearn: 1953727.5051558\ttotal: 9.74s\tremaining: 9.65s\n",
      "460:\tlearn: 1953651.3037268\ttotal: 9.76s\tremaining: 9.63s\n",
      "461:\tlearn: 1953110.7503556\ttotal: 9.78s\tremaining: 9.62s\n",
      "462:\tlearn: 1950643.4101030\ttotal: 9.81s\tremaining: 9.6s\n",
      "463:\tlearn: 1948005.6736385\ttotal: 9.83s\tremaining: 9.58s\n",
      "464:\tlearn: 1945570.7951484\ttotal: 9.86s\tremaining: 9.56s\n",
      "465:\tlearn: 1943062.8950051\ttotal: 9.89s\tremaining: 9.55s\n",
      "466:\tlearn: 1940162.5611008\ttotal: 9.91s\tremaining: 9.53s\n",
      "467:\tlearn: 1938548.3643366\ttotal: 9.93s\tremaining: 9.51s\n",
      "468:\tlearn: 1937314.7666698\ttotal: 9.95s\tremaining: 9.48s\n",
      "469:\tlearn: 1934071.2905551\ttotal: 9.97s\tremaining: 9.46s\n",
      "470:\tlearn: 1931658.1201628\ttotal: 10s\tremaining: 9.45s\n",
      "471:\tlearn: 1929712.9869050\ttotal: 10s\tremaining: 9.43s\n",
      "472:\tlearn: 1928807.6016806\ttotal: 10s\tremaining: 9.4s\n",
      "473:\tlearn: 1924742.8591359\ttotal: 10.1s\tremaining: 9.38s\n",
      "474:\tlearn: 1921682.7116524\ttotal: 10.1s\tremaining: 9.36s\n",
      "475:\tlearn: 1921105.0114518\ttotal: 10.1s\tremaining: 9.34s\n",
      "476:\tlearn: 1919614.1965561\ttotal: 10.1s\tremaining: 9.32s\n",
      "477:\tlearn: 1917465.0011595\ttotal: 10.2s\tremaining: 9.3s\n",
      "478:\tlearn: 1914939.5969015\ttotal: 10.2s\tremaining: 9.28s\n",
      "479:\tlearn: 1912391.0984251\ttotal: 10.2s\tremaining: 9.26s\n",
      "480:\tlearn: 1912131.4477735\ttotal: 10.2s\tremaining: 9.24s\n",
      "481:\tlearn: 1911582.3515987\ttotal: 10.2s\tremaining: 9.22s\n",
      "482:\tlearn: 1909303.0601797\ttotal: 10.3s\tremaining: 9.2s\n",
      "483:\tlearn: 1908690.0327280\ttotal: 10.3s\tremaining: 9.17s\n",
      "484:\tlearn: 1908223.6523000\ttotal: 10.3s\tremaining: 9.15s\n",
      "485:\tlearn: 1907227.5219526\ttotal: 10.3s\tremaining: 9.14s\n",
      "486:\tlearn: 1906008.6844827\ttotal: 10.3s\tremaining: 9.12s\n",
      "487:\tlearn: 1903132.1488327\ttotal: 10.4s\tremaining: 9.09s\n",
      "488:\tlearn: 1902782.6379393\ttotal: 10.4s\tremaining: 9.07s\n",
      "489:\tlearn: 1901734.7884868\ttotal: 10.4s\tremaining: 9.04s\n",
      "490:\tlearn: 1899244.6146544\ttotal: 10.4s\tremaining: 9.03s\n",
      "491:\tlearn: 1896690.3475807\ttotal: 10.4s\tremaining: 9s\n",
      "492:\tlearn: 1892726.8213978\ttotal: 10.5s\tremaining: 8.98s\n",
      "493:\tlearn: 1891286.9567764\ttotal: 10.5s\tremaining: 8.96s\n",
      "494:\tlearn: 1889706.3111845\ttotal: 10.5s\tremaining: 8.93s\n",
      "495:\tlearn: 1888807.6175662\ttotal: 10.5s\tremaining: 8.91s\n",
      "496:\tlearn: 1886372.4498792\ttotal: 10.5s\tremaining: 8.88s\n",
      "497:\tlearn: 1885416.0884376\ttotal: 10.6s\tremaining: 8.86s\n",
      "498:\tlearn: 1884998.6529593\ttotal: 10.6s\tremaining: 8.84s\n",
      "499:\tlearn: 1883868.1162348\ttotal: 10.6s\tremaining: 8.81s\n",
      "500:\tlearn: 1883461.8698158\ttotal: 10.6s\tremaining: 8.79s\n",
      "501:\tlearn: 1881892.0295283\ttotal: 10.6s\tremaining: 8.77s\n",
      "502:\tlearn: 1879404.6147631\ttotal: 10.7s\tremaining: 8.75s\n",
      "503:\tlearn: 1877950.1534952\ttotal: 10.7s\tremaining: 8.72s\n",
      "504:\tlearn: 1875166.0351942\ttotal: 10.7s\tremaining: 8.7s\n",
      "505:\tlearn: 1869581.9344654\ttotal: 10.7s\tremaining: 8.68s\n",
      "506:\tlearn: 1866416.0008693\ttotal: 10.7s\tremaining: 8.65s\n",
      "507:\tlearn: 1865429.6793536\ttotal: 10.7s\tremaining: 8.63s\n",
      "508:\tlearn: 1864412.5580517\ttotal: 10.8s\tremaining: 8.61s\n",
      "509:\tlearn: 1861819.5297902\ttotal: 10.8s\tremaining: 8.58s\n",
      "510:\tlearn: 1861349.9046127\ttotal: 10.8s\tremaining: 8.56s\n",
      "511:\tlearn: 1858881.5420754\ttotal: 10.8s\tremaining: 8.54s\n",
      "512:\tlearn: 1855715.8587440\ttotal: 10.8s\tremaining: 8.52s\n",
      "513:\tlearn: 1854938.5521140\ttotal: 10.9s\tremaining: 8.5s\n",
      "514:\tlearn: 1852741.7626778\ttotal: 10.9s\tremaining: 8.48s\n",
      "515:\tlearn: 1851548.0663012\ttotal: 10.9s\tremaining: 8.46s\n",
      "516:\tlearn: 1849019.4920184\ttotal: 10.9s\tremaining: 8.44s\n",
      "517:\tlearn: 1848254.4305249\ttotal: 11s\tremaining: 8.42s\n",
      "518:\tlearn: 1846328.6798558\ttotal: 11s\tremaining: 8.4s\n",
      "519:\tlearn: 1843792.1700686\ttotal: 11s\tremaining: 8.38s\n",
      "520:\tlearn: 1842887.5750927\ttotal: 11s\tremaining: 8.35s\n",
      "521:\tlearn: 1839259.6243718\ttotal: 11s\tremaining: 8.33s\n",
      "522:\tlearn: 1838716.0598037\ttotal: 11.1s\tremaining: 8.32s\n",
      "523:\tlearn: 1837824.6315748\ttotal: 11.1s\tremaining: 8.3s\n",
      "524:\tlearn: 1834938.6052232\ttotal: 11.1s\tremaining: 8.28s\n",
      "525:\tlearn: 1832694.5393933\ttotal: 11.1s\tremaining: 8.26s\n",
      "526:\tlearn: 1831748.5620525\ttotal: 11.2s\tremaining: 8.23s\n",
      "527:\tlearn: 1831229.2689594\ttotal: 11.2s\tremaining: 8.21s\n",
      "528:\tlearn: 1829393.3571170\ttotal: 11.2s\tremaining: 8.19s\n",
      "529:\tlearn: 1829088.0094760\ttotal: 11.2s\tremaining: 8.16s\n",
      "530:\tlearn: 1828243.2702648\ttotal: 11.2s\tremaining: 8.14s\n",
      "531:\tlearn: 1825321.6215856\ttotal: 11.2s\tremaining: 8.12s\n",
      "532:\tlearn: 1823947.0884218\ttotal: 11.3s\tremaining: 8.1s\n",
      "533:\tlearn: 1821314.8498754\ttotal: 11.3s\tremaining: 8.07s\n",
      "534:\tlearn: 1820755.6483297\ttotal: 11.3s\tremaining: 8.05s\n",
      "535:\tlearn: 1819025.7814259\ttotal: 11.3s\tremaining: 8.03s\n",
      "536:\tlearn: 1816549.3019025\ttotal: 11.3s\tremaining: 8s\n",
      "537:\tlearn: 1814358.5385551\ttotal: 11.4s\tremaining: 7.98s\n",
      "538:\tlearn: 1811588.4599138\ttotal: 11.4s\tremaining: 7.96s\n",
      "539:\tlearn: 1811092.9844162\ttotal: 11.4s\tremaining: 7.93s\n",
      "540:\tlearn: 1808323.9817285\ttotal: 11.4s\tremaining: 7.91s\n",
      "541:\tlearn: 1805612.8144206\ttotal: 11.4s\tremaining: 7.89s\n",
      "542:\tlearn: 1804086.5208608\ttotal: 11.5s\tremaining: 7.87s\n",
      "543:\tlearn: 1802022.2434053\ttotal: 11.5s\tremaining: 7.85s\n",
      "544:\tlearn: 1798898.5092074\ttotal: 11.5s\tremaining: 7.83s\n",
      "545:\tlearn: 1798118.4478588\ttotal: 11.5s\tremaining: 7.81s\n",
      "546:\tlearn: 1797023.0089897\ttotal: 11.6s\tremaining: 7.79s\n",
      "547:\tlearn: 1796695.0910737\ttotal: 11.6s\tremaining: 7.77s\n",
      "548:\tlearn: 1794710.7226327\ttotal: 11.6s\tremaining: 7.75s\n",
      "549:\tlearn: 1792235.3372716\ttotal: 11.6s\tremaining: 7.72s\n",
      "550:\tlearn: 1790984.1696282\ttotal: 11.6s\tremaining: 7.7s\n",
      "551:\tlearn: 1789231.4015847\ttotal: 11.6s\tremaining: 7.67s\n",
      "552:\tlearn: 1786899.1594375\ttotal: 11.7s\tremaining: 7.65s\n",
      "553:\tlearn: 1786097.6318375\ttotal: 11.7s\tremaining: 7.63s\n",
      "554:\tlearn: 1782881.1642000\ttotal: 11.7s\tremaining: 7.61s\n",
      "555:\tlearn: 1781434.9176123\ttotal: 11.7s\tremaining: 7.58s\n",
      "556:\tlearn: 1779610.7766325\ttotal: 11.7s\tremaining: 7.56s\n",
      "557:\tlearn: 1779038.4855249\ttotal: 11.8s\tremaining: 7.54s\n",
      "558:\tlearn: 1776986.2683692\ttotal: 11.8s\tremaining: 7.52s\n",
      "559:\tlearn: 1774956.8344773\ttotal: 11.8s\tremaining: 7.5s\n",
      "560:\tlearn: 1771292.2426472\ttotal: 11.8s\tremaining: 7.48s\n",
      "561:\tlearn: 1768824.8556310\ttotal: 11.8s\tremaining: 7.46s\n",
      "562:\tlearn: 1767815.1950564\ttotal: 11.9s\tremaining: 7.43s\n",
      "563:\tlearn: 1767182.3760939\ttotal: 11.9s\tremaining: 7.41s\n",
      "564:\tlearn: 1765684.0337280\ttotal: 11.9s\tremaining: 7.39s\n",
      "565:\tlearn: 1764278.3475093\ttotal: 11.9s\tremaining: 7.38s\n",
      "566:\tlearn: 1763537.2909358\ttotal: 11.9s\tremaining: 7.35s\n",
      "567:\tlearn: 1763473.6320177\ttotal: 12s\tremaining: 7.33s\n",
      "568:\tlearn: 1762941.7965801\ttotal: 12s\tremaining: 7.31s\n",
      "569:\tlearn: 1761992.3963766\ttotal: 12s\tremaining: 7.29s\n",
      "570:\tlearn: 1760243.5535921\ttotal: 12s\tremaining: 7.27s\n",
      "571:\tlearn: 1758086.3058037\ttotal: 12.1s\tremaining: 7.25s\n",
      "572:\tlearn: 1757933.5314298\ttotal: 12.1s\tremaining: 7.23s\n",
      "573:\tlearn: 1756854.5097171\ttotal: 12.1s\tremaining: 7.21s\n",
      "574:\tlearn: 1754572.9801558\ttotal: 12.1s\tremaining: 7.19s\n",
      "575:\tlearn: 1754215.3083293\ttotal: 12.1s\tremaining: 7.17s\n",
      "576:\tlearn: 1753972.3221255\ttotal: 12.2s\tremaining: 7.14s\n",
      "577:\tlearn: 1753399.4903386\ttotal: 12.2s\tremaining: 7.12s\n",
      "578:\tlearn: 1753071.8034198\ttotal: 12.2s\tremaining: 7.1s\n",
      "579:\tlearn: 1749795.2502016\ttotal: 12.2s\tremaining: 7.08s\n",
      "580:\tlearn: 1747569.1290671\ttotal: 12.2s\tremaining: 7.06s\n",
      "581:\tlearn: 1747235.4443278\ttotal: 12.3s\tremaining: 7.04s\n",
      "582:\tlearn: 1745339.5054302\ttotal: 12.3s\tremaining: 7.01s\n",
      "583:\tlearn: 1743652.8735338\ttotal: 12.3s\tremaining: 6.99s\n",
      "584:\tlearn: 1741525.6117665\ttotal: 12.3s\tremaining: 6.97s\n",
      "585:\tlearn: 1740562.6144645\ttotal: 12.3s\tremaining: 6.95s\n",
      "586:\tlearn: 1738756.3625125\ttotal: 12.4s\tremaining: 6.92s\n",
      "587:\tlearn: 1737850.4952242\ttotal: 12.4s\tremaining: 6.9s\n",
      "588:\tlearn: 1737394.3089135\ttotal: 12.4s\tremaining: 6.88s\n",
      "589:\tlearn: 1734316.4034161\ttotal: 12.4s\tremaining: 6.86s\n",
      "590:\tlearn: 1730853.4392818\ttotal: 12.4s\tremaining: 6.84s\n",
      "591:\tlearn: 1728712.6212035\ttotal: 12.5s\tremaining: 6.82s\n",
      "592:\tlearn: 1725922.3853799\ttotal: 12.5s\tremaining: 6.79s\n",
      "593:\tlearn: 1724710.3265266\ttotal: 12.5s\tremaining: 6.77s\n",
      "594:\tlearn: 1724462.5250815\ttotal: 12.5s\tremaining: 6.75s\n",
      "595:\tlearn: 1723132.2700515\ttotal: 12.5s\tremaining: 6.73s\n",
      "596:\tlearn: 1723042.6532002\ttotal: 12.6s\tremaining: 6.71s\n",
      "597:\tlearn: 1720654.6490111\ttotal: 12.6s\tremaining: 6.68s\n",
      "598:\tlearn: 1718648.6246999\ttotal: 12.6s\tremaining: 6.66s\n",
      "599:\tlearn: 1717694.5577200\ttotal: 12.6s\tremaining: 6.64s\n",
      "600:\tlearn: 1716780.1308132\ttotal: 12.6s\tremaining: 6.62s\n",
      "601:\tlearn: 1714951.3612313\ttotal: 12.7s\tremaining: 6.6s\n",
      "602:\tlearn: 1712996.8031619\ttotal: 12.7s\tremaining: 6.58s\n",
      "603:\tlearn: 1711579.8562199\ttotal: 12.7s\tremaining: 6.55s\n",
      "604:\tlearn: 1710985.3934682\ttotal: 12.7s\tremaining: 6.53s\n",
      "605:\tlearn: 1708889.0128175\ttotal: 12.7s\tremaining: 6.51s\n",
      "606:\tlearn: 1708077.6133977\ttotal: 12.7s\tremaining: 6.49s\n",
      "607:\tlearn: 1704422.5494599\ttotal: 12.8s\tremaining: 6.47s\n",
      "608:\tlearn: 1703846.7267126\ttotal: 12.8s\tremaining: 6.45s\n",
      "609:\tlearn: 1701554.8713366\ttotal: 12.8s\tremaining: 6.42s\n",
      "610:\tlearn: 1700507.7481117\ttotal: 12.8s\tremaining: 6.4s\n",
      "611:\tlearn: 1700027.0857884\ttotal: 12.9s\tremaining: 6.38s\n",
      "612:\tlearn: 1698581.4984332\ttotal: 12.9s\tremaining: 6.36s\n",
      "613:\tlearn: 1696930.5518523\ttotal: 12.9s\tremaining: 6.34s\n",
      "614:\tlearn: 1695608.2441937\ttotal: 12.9s\tremaining: 6.32s\n",
      "615:\tlearn: 1693145.1374204\ttotal: 12.9s\tremaining: 6.3s\n",
      "616:\tlearn: 1690789.0007696\ttotal: 12.9s\tremaining: 6.27s\n",
      "617:\tlearn: 1690671.9387142\ttotal: 13s\tremaining: 6.25s\n",
      "618:\tlearn: 1687599.8854267\ttotal: 13s\tremaining: 6.23s\n",
      "619:\tlearn: 1686870.8229388\ttotal: 13s\tremaining: 6.21s\n",
      "620:\tlearn: 1686689.0556338\ttotal: 13s\tremaining: 6.19s\n",
      "621:\tlearn: 1684634.9068000\ttotal: 13s\tremaining: 6.17s\n",
      "622:\tlearn: 1682827.9362964\ttotal: 13.1s\tremaining: 6.15s\n",
      "623:\tlearn: 1682351.8642372\ttotal: 13.1s\tremaining: 6.13s\n",
      "624:\tlearn: 1681568.2109494\ttotal: 13.1s\tremaining: 6.11s\n",
      "625:\tlearn: 1680101.8256286\ttotal: 13.1s\tremaining: 6.09s\n",
      "626:\tlearn: 1679024.8358073\ttotal: 13.2s\tremaining: 6.07s\n",
      "627:\tlearn: 1676610.8279943\ttotal: 13.2s\tremaining: 6.05s\n",
      "628:\tlearn: 1674738.8154387\ttotal: 13.2s\tremaining: 6.03s\n",
      "629:\tlearn: 1674042.7874549\ttotal: 13.2s\tremaining: 6.01s\n",
      "630:\tlearn: 1673301.3897955\ttotal: 13.3s\tremaining: 5.98s\n",
      "631:\tlearn: 1671073.6482163\ttotal: 13.3s\tremaining: 5.96s\n",
      "632:\tlearn: 1669242.8706888\ttotal: 13.3s\tremaining: 5.94s\n",
      "633:\tlearn: 1668815.0126012\ttotal: 13.3s\tremaining: 5.92s\n",
      "634:\tlearn: 1667327.6778796\ttotal: 13.3s\tremaining: 5.91s\n",
      "635:\tlearn: 1665302.0257314\ttotal: 13.4s\tremaining: 5.88s\n",
      "636:\tlearn: 1663023.8876307\ttotal: 13.4s\tremaining: 5.86s\n",
      "637:\tlearn: 1662478.3728173\ttotal: 13.4s\tremaining: 5.84s\n",
      "638:\tlearn: 1660934.3131080\ttotal: 13.4s\tremaining: 5.82s\n",
      "639:\tlearn: 1658360.5507305\ttotal: 13.4s\tremaining: 5.79s\n",
      "640:\tlearn: 1657233.5937780\ttotal: 13.5s\tremaining: 5.77s\n",
      "641:\tlearn: 1655912.7385615\ttotal: 13.5s\tremaining: 5.75s\n",
      "642:\tlearn: 1654680.0364987\ttotal: 13.5s\tremaining: 5.73s\n",
      "643:\tlearn: 1652706.0339283\ttotal: 13.5s\tremaining: 5.71s\n",
      "644:\tlearn: 1652536.8268834\ttotal: 13.5s\tremaining: 5.69s\n",
      "645:\tlearn: 1652237.7923601\ttotal: 13.6s\tremaining: 5.67s\n",
      "646:\tlearn: 1650772.9405914\ttotal: 13.6s\tremaining: 5.64s\n",
      "647:\tlearn: 1650380.2223115\ttotal: 13.6s\tremaining: 5.62s\n",
      "648:\tlearn: 1650186.5394495\ttotal: 13.6s\tremaining: 5.6s\n",
      "649:\tlearn: 1649431.5933379\ttotal: 13.6s\tremaining: 5.58s\n",
      "650:\tlearn: 1648166.7052170\ttotal: 13.6s\tremaining: 5.55s\n",
      "651:\tlearn: 1645828.2077903\ttotal: 13.7s\tremaining: 5.53s\n",
      "652:\tlearn: 1644553.0041276\ttotal: 13.7s\tremaining: 5.51s\n",
      "653:\tlearn: 1643105.6171138\ttotal: 13.7s\tremaining: 5.49s\n",
      "654:\tlearn: 1640893.9311846\ttotal: 13.7s\tremaining: 5.47s\n",
      "655:\tlearn: 1639769.3071505\ttotal: 13.7s\tremaining: 5.45s\n",
      "656:\tlearn: 1638196.1501826\ttotal: 13.8s\tremaining: 5.43s\n",
      "657:\tlearn: 1637509.8697024\ttotal: 13.8s\tremaining: 5.4s\n",
      "658:\tlearn: 1636740.8980819\ttotal: 13.8s\tremaining: 5.38s\n",
      "659:\tlearn: 1635472.5650137\ttotal: 13.8s\tremaining: 5.36s\n",
      "660:\tlearn: 1633487.4949629\ttotal: 13.8s\tremaining: 5.34s\n",
      "661:\tlearn: 1631596.3429248\ttotal: 13.9s\tremaining: 5.32s\n",
      "662:\tlearn: 1631510.2862874\ttotal: 13.9s\tremaining: 5.3s\n",
      "663:\tlearn: 1631092.5556808\ttotal: 13.9s\tremaining: 5.28s\n",
      "664:\tlearn: 1629174.1903107\ttotal: 13.9s\tremaining: 5.25s\n",
      "665:\tlearn: 1626643.2517934\ttotal: 13.9s\tremaining: 5.23s\n",
      "666:\tlearn: 1625413.1294681\ttotal: 14s\tremaining: 5.21s\n",
      "667:\tlearn: 1623615.5857202\ttotal: 14s\tremaining: 5.19s\n",
      "668:\tlearn: 1622634.1318863\ttotal: 14s\tremaining: 5.17s\n",
      "669:\tlearn: 1621876.0667994\ttotal: 14s\tremaining: 5.15s\n",
      "670:\tlearn: 1620482.2318500\ttotal: 14s\tremaining: 5.12s\n",
      "671:\tlearn: 1618283.6064446\ttotal: 14.1s\tremaining: 5.11s\n",
      "672:\tlearn: 1617085.4730228\ttotal: 14.1s\tremaining: 5.09s\n",
      "673:\tlearn: 1616463.4454818\ttotal: 14.1s\tremaining: 5.06s\n",
      "674:\tlearn: 1615699.6602472\ttotal: 14.1s\tremaining: 5.04s\n",
      "675:\tlearn: 1612064.8315822\ttotal: 14.1s\tremaining: 5.02s\n",
      "676:\tlearn: 1611739.5347176\ttotal: 14.2s\tremaining: 5s\n",
      "677:\tlearn: 1611510.2983466\ttotal: 14.2s\tremaining: 5s\n",
      "678:\tlearn: 1611177.7211570\ttotal: 14.3s\tremaining: 4.99s\n",
      "679:\tlearn: 1610101.1049754\ttotal: 14.4s\tremaining: 4.99s\n",
      "680:\tlearn: 1608575.9428078\ttotal: 14.4s\tremaining: 4.97s\n",
      "681:\tlearn: 1607029.3772308\ttotal: 14.4s\tremaining: 4.95s\n",
      "682:\tlearn: 1604916.2699365\ttotal: 14.5s\tremaining: 4.93s\n",
      "683:\tlearn: 1603448.9817315\ttotal: 14.5s\tremaining: 4.91s\n",
      "684:\tlearn: 1601344.6689654\ttotal: 14.5s\tremaining: 4.9s\n",
      "685:\tlearn: 1599335.0298727\ttotal: 14.6s\tremaining: 4.88s\n",
      "686:\tlearn: 1598793.3129703\ttotal: 14.6s\tremaining: 4.86s\n",
      "687:\tlearn: 1597845.4750043\ttotal: 14.6s\tremaining: 4.84s\n",
      "688:\tlearn: 1597746.2131537\ttotal: 14.6s\tremaining: 4.82s\n",
      "689:\tlearn: 1596635.5474002\ttotal: 14.7s\tremaining: 4.8s\n",
      "690:\tlearn: 1595542.0645832\ttotal: 14.7s\tremaining: 4.78s\n",
      "691:\tlearn: 1594366.0141424\ttotal: 14.7s\tremaining: 4.76s\n",
      "692:\tlearn: 1592490.0778571\ttotal: 14.7s\tremaining: 4.74s\n",
      "693:\tlearn: 1591598.0403194\ttotal: 14.7s\tremaining: 4.71s\n",
      "694:\tlearn: 1590713.3188934\ttotal: 14.8s\tremaining: 4.69s\n",
      "695:\tlearn: 1589313.0882972\ttotal: 14.8s\tremaining: 4.67s\n",
      "696:\tlearn: 1587679.4878423\ttotal: 14.8s\tremaining: 4.66s\n",
      "697:\tlearn: 1587376.3160177\ttotal: 14.8s\tremaining: 4.63s\n",
      "698:\tlearn: 1586208.8776941\ttotal: 14.9s\tremaining: 4.61s\n",
      "699:\tlearn: 1586115.4242331\ttotal: 14.9s\tremaining: 4.59s\n",
      "700:\tlearn: 1585617.3060510\ttotal: 14.9s\tremaining: 4.57s\n",
      "701:\tlearn: 1583516.3019780\ttotal: 14.9s\tremaining: 4.55s\n",
      "702:\tlearn: 1582646.4942751\ttotal: 14.9s\tremaining: 4.53s\n",
      "703:\tlearn: 1582099.9130488\ttotal: 15s\tremaining: 4.51s\n",
      "704:\tlearn: 1580991.3326492\ttotal: 15s\tremaining: 4.48s\n",
      "705:\tlearn: 1579205.9152918\ttotal: 15s\tremaining: 4.46s\n",
      "706:\tlearn: 1577977.7797074\ttotal: 15s\tremaining: 4.44s\n",
      "707:\tlearn: 1577151.6626917\ttotal: 15s\tremaining: 4.42s\n",
      "708:\tlearn: 1575411.3512066\ttotal: 15.1s\tremaining: 4.4s\n",
      "709:\tlearn: 1574912.7090880\ttotal: 15.1s\tremaining: 4.38s\n",
      "710:\tlearn: 1572003.2341423\ttotal: 15.1s\tremaining: 4.35s\n",
      "711:\tlearn: 1569765.5126605\ttotal: 15.1s\tremaining: 4.33s\n",
      "712:\tlearn: 1568804.8230339\ttotal: 15.1s\tremaining: 4.31s\n",
      "713:\tlearn: 1568374.5531804\ttotal: 15.2s\tremaining: 4.29s\n",
      "714:\tlearn: 1567699.3660420\ttotal: 15.2s\tremaining: 4.27s\n",
      "715:\tlearn: 1566013.6917393\ttotal: 15.2s\tremaining: 4.24s\n",
      "716:\tlearn: 1564845.3531341\ttotal: 15.2s\tremaining: 4.22s\n",
      "717:\tlearn: 1563378.9381506\ttotal: 15.2s\tremaining: 4.2s\n",
      "718:\tlearn: 1561049.6447520\ttotal: 15.3s\tremaining: 4.2s\n",
      "719:\tlearn: 1560319.9557748\ttotal: 15.4s\tremaining: 4.19s\n",
      "720:\tlearn: 1557626.0297296\ttotal: 15.5s\tremaining: 4.2s\n",
      "721:\tlearn: 1555689.6405179\ttotal: 15.6s\tremaining: 4.18s\n",
      "722:\tlearn: 1553889.1326920\ttotal: 15.6s\tremaining: 4.18s\n",
      "723:\tlearn: 1553568.7870760\ttotal: 15.7s\tremaining: 4.17s\n",
      "724:\tlearn: 1552467.9463123\ttotal: 15.8s\tremaining: 4.15s\n",
      "725:\tlearn: 1552136.9248625\ttotal: 15.8s\tremaining: 4.13s\n",
      "726:\tlearn: 1550393.6045918\ttotal: 15.8s\tremaining: 4.11s\n",
      "727:\tlearn: 1549716.5509100\ttotal: 15.8s\tremaining: 4.09s\n",
      "728:\tlearn: 1548664.7626584\ttotal: 15.9s\tremaining: 4.07s\n",
      "729:\tlearn: 1548325.3626774\ttotal: 15.9s\tremaining: 4.05s\n",
      "730:\tlearn: 1547939.6153705\ttotal: 15.9s\tremaining: 4.03s\n",
      "731:\tlearn: 1546662.9477393\ttotal: 15.9s\tremaining: 4s\n",
      "732:\tlearn: 1545669.6032533\ttotal: 16s\tremaining: 3.98s\n",
      "733:\tlearn: 1543158.5754501\ttotal: 16s\tremaining: 3.96s\n",
      "734:\tlearn: 1542100.9173227\ttotal: 16s\tremaining: 3.94s\n",
      "735:\tlearn: 1538917.2410296\ttotal: 16s\tremaining: 3.92s\n",
      "736:\tlearn: 1537555.6407795\ttotal: 16s\tremaining: 3.9s\n",
      "737:\tlearn: 1534196.4263629\ttotal: 16.1s\tremaining: 3.88s\n",
      "738:\tlearn: 1533436.9034558\ttotal: 16.1s\tremaining: 3.87s\n",
      "739:\tlearn: 1533300.7115292\ttotal: 16.2s\tremaining: 3.84s\n",
      "740:\tlearn: 1531887.9227316\ttotal: 16.2s\tremaining: 3.82s\n",
      "741:\tlearn: 1530747.0001698\ttotal: 16.2s\tremaining: 3.8s\n",
      "742:\tlearn: 1529555.3433338\ttotal: 16.2s\tremaining: 3.78s\n",
      "743:\tlearn: 1528631.4231904\ttotal: 16.3s\tremaining: 3.76s\n",
      "744:\tlearn: 1527862.2271663\ttotal: 16.3s\tremaining: 3.74s\n",
      "745:\tlearn: 1527179.9688064\ttotal: 16.3s\tremaining: 3.72s\n",
      "746:\tlearn: 1525695.7965987\ttotal: 16.3s\tremaining: 3.7s\n",
      "747:\tlearn: 1524981.1432622\ttotal: 16.4s\tremaining: 3.67s\n",
      "748:\tlearn: 1522868.9790999\ttotal: 16.4s\tremaining: 3.65s\n",
      "749:\tlearn: 1521852.2890525\ttotal: 16.4s\tremaining: 3.63s\n",
      "750:\tlearn: 1520984.5834196\ttotal: 16.4s\tremaining: 3.61s\n",
      "751:\tlearn: 1519261.0984885\ttotal: 16.5s\tremaining: 3.59s\n",
      "752:\tlearn: 1517783.4804002\ttotal: 16.5s\tremaining: 3.56s\n",
      "753:\tlearn: 1516855.9005057\ttotal: 16.5s\tremaining: 3.54s\n",
      "754:\tlearn: 1515885.6774141\ttotal: 16.5s\tremaining: 3.52s\n",
      "755:\tlearn: 1515671.2438784\ttotal: 16.5s\tremaining: 3.5s\n",
      "756:\tlearn: 1515477.7971375\ttotal: 16.6s\tremaining: 3.48s\n",
      "757:\tlearn: 1515202.9951315\ttotal: 16.6s\tremaining: 3.46s\n",
      "758:\tlearn: 1514772.1091934\ttotal: 16.6s\tremaining: 3.43s\n",
      "759:\tlearn: 1513064.9546360\ttotal: 16.6s\tremaining: 3.41s\n",
      "760:\tlearn: 1512257.7330892\ttotal: 16.7s\tremaining: 3.39s\n",
      "761:\tlearn: 1510883.3798268\ttotal: 16.7s\tremaining: 3.37s\n",
      "762:\tlearn: 1510576.5304456\ttotal: 16.7s\tremaining: 3.35s\n",
      "763:\tlearn: 1508506.3538862\ttotal: 16.7s\tremaining: 3.33s\n",
      "764:\tlearn: 1505610.3011552\ttotal: 16.8s\tremaining: 3.31s\n",
      "765:\tlearn: 1505235.1694548\ttotal: 16.8s\tremaining: 3.29s\n",
      "766:\tlearn: 1503933.0749185\ttotal: 16.8s\tremaining: 3.27s\n",
      "767:\tlearn: 1502349.3794961\ttotal: 16.9s\tremaining: 3.25s\n",
      "768:\tlearn: 1500940.9916790\ttotal: 16.9s\tremaining: 3.23s\n",
      "769:\tlearn: 1500357.5657853\ttotal: 16.9s\tremaining: 3.21s\n",
      "770:\tlearn: 1499813.2215042\ttotal: 16.9s\tremaining: 3.19s\n",
      "771:\tlearn: 1497760.3829425\ttotal: 17s\tremaining: 3.17s\n",
      "772:\tlearn: 1497415.7765843\ttotal: 17s\tremaining: 3.14s\n",
      "773:\tlearn: 1496194.8667609\ttotal: 17s\tremaining: 3.12s\n",
      "774:\tlearn: 1495705.0770282\ttotal: 17s\tremaining: 3.1s\n",
      "775:\tlearn: 1494072.6169360\ttotal: 17.1s\tremaining: 3.08s\n",
      "776:\tlearn: 1493147.2026301\ttotal: 17.1s\tremaining: 3.06s\n",
      "777:\tlearn: 1491900.1714714\ttotal: 17.1s\tremaining: 3.04s\n",
      "778:\tlearn: 1490530.9470682\ttotal: 17.1s\tremaining: 3.01s\n",
      "779:\tlearn: 1487726.5487181\ttotal: 17.2s\tremaining: 2.99s\n",
      "780:\tlearn: 1486911.5599365\ttotal: 17.2s\tremaining: 2.97s\n",
      "781:\tlearn: 1485519.6734557\ttotal: 17.2s\tremaining: 2.95s\n",
      "782:\tlearn: 1484865.4546674\ttotal: 17.2s\tremaining: 2.92s\n",
      "783:\tlearn: 1484276.1752440\ttotal: 17.2s\tremaining: 2.9s\n",
      "784:\tlearn: 1483825.8999126\ttotal: 17.3s\tremaining: 2.88s\n",
      "785:\tlearn: 1483577.1017159\ttotal: 17.3s\tremaining: 2.86s\n",
      "786:\tlearn: 1482853.4154029\ttotal: 17.3s\tremaining: 2.84s\n",
      "787:\tlearn: 1481365.6147235\ttotal: 17.3s\tremaining: 2.81s\n",
      "788:\tlearn: 1480672.3638986\ttotal: 17.4s\tremaining: 2.79s\n",
      "789:\tlearn: 1479966.3596463\ttotal: 17.4s\tremaining: 2.77s\n",
      "790:\tlearn: 1479098.1139431\ttotal: 17.4s\tremaining: 2.75s\n",
      "791:\tlearn: 1476082.2296506\ttotal: 17.4s\tremaining: 2.73s\n",
      "792:\tlearn: 1475003.7715686\ttotal: 17.4s\tremaining: 2.71s\n",
      "793:\tlearn: 1473156.0022094\ttotal: 17.5s\tremaining: 2.68s\n",
      "794:\tlearn: 1471399.2081157\ttotal: 17.5s\tremaining: 2.66s\n",
      "795:\tlearn: 1470131.9648811\ttotal: 17.5s\tremaining: 2.64s\n",
      "796:\tlearn: 1469067.0605607\ttotal: 17.5s\tremaining: 2.62s\n",
      "797:\tlearn: 1467616.3857135\ttotal: 17.6s\tremaining: 2.6s\n",
      "798:\tlearn: 1465285.6633787\ttotal: 17.6s\tremaining: 2.57s\n",
      "799:\tlearn: 1462709.3071720\ttotal: 17.6s\tremaining: 2.55s\n",
      "800:\tlearn: 1461168.1551751\ttotal: 17.6s\tremaining: 2.53s\n",
      "801:\tlearn: 1460853.9963564\ttotal: 17.6s\tremaining: 2.51s\n",
      "802:\tlearn: 1459433.4772532\ttotal: 17.7s\tremaining: 2.49s\n",
      "803:\tlearn: 1458783.6985585\ttotal: 17.7s\tremaining: 2.46s\n",
      "804:\tlearn: 1456833.8479681\ttotal: 17.7s\tremaining: 2.44s\n",
      "805:\tlearn: 1455378.8361014\ttotal: 17.7s\tremaining: 2.42s\n",
      "806:\tlearn: 1454850.2690716\ttotal: 17.7s\tremaining: 2.4s\n",
      "807:\tlearn: 1453470.0515821\ttotal: 17.8s\tremaining: 2.38s\n",
      "808:\tlearn: 1451735.8367208\ttotal: 17.8s\tremaining: 2.35s\n",
      "809:\tlearn: 1450970.3764509\ttotal: 17.8s\tremaining: 2.33s\n",
      "810:\tlearn: 1449752.8876671\ttotal: 17.8s\tremaining: 2.31s\n",
      "811:\tlearn: 1449425.7338265\ttotal: 17.9s\tremaining: 2.29s\n",
      "812:\tlearn: 1448473.9507065\ttotal: 17.9s\tremaining: 2.26s\n",
      "813:\tlearn: 1447776.0179682\ttotal: 17.9s\tremaining: 2.24s\n",
      "814:\tlearn: 1446402.3789186\ttotal: 17.9s\tremaining: 2.22s\n",
      "815:\tlearn: 1444710.6270212\ttotal: 17.9s\tremaining: 2.2s\n",
      "816:\tlearn: 1443379.2451122\ttotal: 18s\tremaining: 2.18s\n",
      "817:\tlearn: 1441972.8658471\ttotal: 18s\tremaining: 2.15s\n",
      "818:\tlearn: 1440979.0654053\ttotal: 18s\tremaining: 2.13s\n",
      "819:\tlearn: 1439527.3233656\ttotal: 18s\tremaining: 2.11s\n",
      "820:\tlearn: 1438490.2916593\ttotal: 18.1s\tremaining: 2.09s\n",
      "821:\tlearn: 1437211.5006379\ttotal: 18.1s\tremaining: 2.07s\n",
      "822:\tlearn: 1436179.8957850\ttotal: 18.1s\tremaining: 2.04s\n",
      "823:\tlearn: 1435439.5835890\ttotal: 18.1s\tremaining: 2.02s\n",
      "824:\tlearn: 1434298.4998668\ttotal: 18.1s\tremaining: 2s\n",
      "825:\tlearn: 1433455.5651928\ttotal: 18.1s\tremaining: 1.98s\n",
      "826:\tlearn: 1432666.9863685\ttotal: 18.2s\tremaining: 1.96s\n",
      "827:\tlearn: 1431582.8217006\ttotal: 18.2s\tremaining: 1.93s\n",
      "828:\tlearn: 1430966.6088802\ttotal: 18.2s\tremaining: 1.91s\n",
      "829:\tlearn: 1429542.1237771\ttotal: 18.2s\tremaining: 1.89s\n",
      "830:\tlearn: 1428744.0239838\ttotal: 18.2s\tremaining: 1.87s\n",
      "831:\tlearn: 1427491.2446165\ttotal: 18.3s\tremaining: 1.84s\n",
      "832:\tlearn: 1426306.1372835\ttotal: 18.3s\tremaining: 1.82s\n",
      "833:\tlearn: 1425822.3146049\ttotal: 18.3s\tremaining: 1.8s\n",
      "834:\tlearn: 1425647.9825353\ttotal: 18.3s\tremaining: 1.78s\n",
      "835:\tlearn: 1425220.5816343\ttotal: 18.3s\tremaining: 1.75s\n",
      "836:\tlearn: 1425106.7346396\ttotal: 18.4s\tremaining: 1.73s\n",
      "837:\tlearn: 1423884.0796547\ttotal: 18.4s\tremaining: 1.71s\n",
      "838:\tlearn: 1423099.4711220\ttotal: 18.4s\tremaining: 1.69s\n",
      "839:\tlearn: 1422882.2697784\ttotal: 18.4s\tremaining: 1.67s\n",
      "840:\tlearn: 1421828.0354773\ttotal: 18.4s\tremaining: 1.64s\n",
      "841:\tlearn: 1421201.2522133\ttotal: 18.5s\tremaining: 1.62s\n",
      "842:\tlearn: 1419603.1787575\ttotal: 18.5s\tremaining: 1.6s\n",
      "843:\tlearn: 1418436.6469867\ttotal: 18.5s\tremaining: 1.58s\n",
      "844:\tlearn: 1418187.2426313\ttotal: 18.5s\tremaining: 1.55s\n",
      "845:\tlearn: 1417109.5909333\ttotal: 18.5s\tremaining: 1.53s\n",
      "846:\tlearn: 1416683.4433051\ttotal: 18.6s\tremaining: 1.51s\n",
      "847:\tlearn: 1415467.2649008\ttotal: 18.6s\tremaining: 1.49s\n",
      "848:\tlearn: 1414963.7501921\ttotal: 18.6s\tremaining: 1.47s\n",
      "849:\tlearn: 1413397.6715095\ttotal: 18.6s\tremaining: 1.44s\n",
      "850:\tlearn: 1411118.3218066\ttotal: 18.7s\tremaining: 1.43s\n",
      "851:\tlearn: 1409950.7804422\ttotal: 18.7s\tremaining: 1.41s\n",
      "852:\tlearn: 1408562.0750167\ttotal: 18.7s\tremaining: 1.38s\n",
      "853:\tlearn: 1407417.6635446\ttotal: 18.8s\tremaining: 1.36s\n",
      "854:\tlearn: 1406433.5831577\ttotal: 18.8s\tremaining: 1.34s\n",
      "855:\tlearn: 1405380.7028428\ttotal: 18.8s\tremaining: 1.32s\n",
      "856:\tlearn: 1404239.5765867\ttotal: 18.8s\tremaining: 1.3s\n",
      "857:\tlearn: 1402792.1665307\ttotal: 18.9s\tremaining: 1.27s\n",
      "858:\tlearn: 1401177.2144133\ttotal: 18.9s\tremaining: 1.25s\n",
      "859:\tlearn: 1399014.0307825\ttotal: 18.9s\tremaining: 1.23s\n",
      "860:\tlearn: 1397392.9658818\ttotal: 18.9s\tremaining: 1.21s\n",
      "861:\tlearn: 1397188.4902069\ttotal: 19s\tremaining: 1.19s\n",
      "862:\tlearn: 1396784.5156734\ttotal: 19s\tremaining: 1.17s\n",
      "863:\tlearn: 1395886.4140950\ttotal: 19s\tremaining: 1.14s\n",
      "864:\tlearn: 1393843.5148519\ttotal: 19s\tremaining: 1.12s\n",
      "865:\tlearn: 1392972.4892368\ttotal: 19s\tremaining: 1.1s\n",
      "866:\tlearn: 1392336.2203267\ttotal: 19.1s\tremaining: 1.08s\n",
      "867:\tlearn: 1391597.6302481\ttotal: 19.1s\tremaining: 1.05s\n",
      "868:\tlearn: 1390830.3429717\ttotal: 19.1s\tremaining: 1.03s\n",
      "869:\tlearn: 1390386.2525446\ttotal: 19.1s\tremaining: 1.01s\n",
      "870:\tlearn: 1388929.2749861\ttotal: 19.1s\tremaining: 988ms\n",
      "871:\tlearn: 1388012.8746989\ttotal: 19.1s\tremaining: 966ms\n",
      "872:\tlearn: 1387149.0946784\ttotal: 19.2s\tremaining: 944ms\n",
      "873:\tlearn: 1385485.7617996\ttotal: 19.2s\tremaining: 922ms\n",
      "874:\tlearn: 1383398.8406916\ttotal: 19.2s\tremaining: 901ms\n",
      "875:\tlearn: 1382661.6235926\ttotal: 19.2s\tremaining: 879ms\n",
      "876:\tlearn: 1380475.0776299\ttotal: 19.3s\tremaining: 857ms\n",
      "877:\tlearn: 1380391.7479324\ttotal: 19.3s\tremaining: 835ms\n",
      "878:\tlearn: 1378524.2605924\ttotal: 19.3s\tremaining: 813ms\n",
      "879:\tlearn: 1376201.3662410\ttotal: 19.3s\tremaining: 791ms\n",
      "880:\tlearn: 1375745.3857083\ttotal: 19.4s\tremaining: 770ms\n",
      "881:\tlearn: 1375281.9085797\ttotal: 19.4s\tremaining: 748ms\n",
      "882:\tlearn: 1374438.0732134\ttotal: 19.4s\tremaining: 727ms\n",
      "883:\tlearn: 1373721.1876993\ttotal: 19.5s\tremaining: 705ms\n",
      "884:\tlearn: 1373392.0314112\ttotal: 19.5s\tremaining: 683ms\n",
      "885:\tlearn: 1372428.5342829\ttotal: 19.5s\tremaining: 661ms\n",
      "886:\tlearn: 1371710.3354343\ttotal: 19.5s\tremaining: 639ms\n",
      "887:\tlearn: 1369897.3893355\ttotal: 19.6s\tremaining: 617ms\n",
      "888:\tlearn: 1369504.3951023\ttotal: 19.6s\tremaining: 594ms\n",
      "889:\tlearn: 1366842.8649118\ttotal: 19.6s\tremaining: 573ms\n",
      "890:\tlearn: 1366423.8561584\ttotal: 19.6s\tremaining: 551ms\n",
      "891:\tlearn: 1364638.7690086\ttotal: 19.7s\tremaining: 530ms\n",
      "892:\tlearn: 1362740.3046900\ttotal: 19.7s\tremaining: 508ms\n",
      "893:\tlearn: 1361974.0520291\ttotal: 19.8s\tremaining: 487ms\n",
      "894:\tlearn: 1361495.2459993\ttotal: 19.8s\tremaining: 465ms\n",
      "895:\tlearn: 1359993.4302059\ttotal: 19.8s\tremaining: 443ms\n",
      "896:\tlearn: 1358763.3548507\ttotal: 19.9s\tremaining: 421ms\n",
      "897:\tlearn: 1357498.9765987\ttotal: 19.9s\tremaining: 399ms\n",
      "898:\tlearn: 1356973.1759607\ttotal: 19.9s\tremaining: 376ms\n",
      "899:\tlearn: 1356191.0468122\ttotal: 19.9s\tremaining: 354ms\n",
      "900:\tlearn: 1354549.5866822\ttotal: 20s\tremaining: 332ms\n",
      "901:\tlearn: 1353879.7230872\ttotal: 20s\tremaining: 310ms\n",
      "902:\tlearn: 1352785.8893140\ttotal: 20.1s\tremaining: 289ms\n",
      "903:\tlearn: 1352520.2028210\ttotal: 20.1s\tremaining: 267ms\n",
      "904:\tlearn: 1351653.9861736\ttotal: 20.2s\tremaining: 245ms\n",
      "905:\tlearn: 1349808.8049005\ttotal: 20.2s\tremaining: 223ms\n",
      "906:\tlearn: 1348602.4684904\ttotal: 20.2s\tremaining: 201ms\n",
      "907:\tlearn: 1348036.4907083\ttotal: 20.2s\tremaining: 178ms\n",
      "908:\tlearn: 1346614.5829734\ttotal: 20.3s\tremaining: 156ms\n",
      "909:\tlearn: 1345045.6223829\ttotal: 20.3s\tremaining: 134ms\n",
      "910:\tlearn: 1344718.0392418\ttotal: 20.3s\tremaining: 112ms\n",
      "911:\tlearn: 1343565.4299871\ttotal: 20.3s\tremaining: 89.2ms\n",
      "912:\tlearn: 1343434.9880992\ttotal: 20.4s\tremaining: 66.9ms\n",
      "913:\tlearn: 1343075.6694555\ttotal: 20.4s\tremaining: 44.6ms\n",
      "914:\tlearn: 1341340.3333949\ttotal: 20.4s\tremaining: 22.3ms\n",
      "915:\tlearn: 1340189.7277102\ttotal: 20.4s\tremaining: 0us\n",
      " Улучшеный RMSE: 3556774.02\n",
      " Улучшеный R²: 0.8429\n",
      " Улучшеный MAE: 2361786.0767\n"
     ]
    }
   ],
   "source": [
    "best_params = study.best_params\n",
    "best_model = CatBoostRegressor(**best_params)\n",
    "best_model.fit(X_train, y_train, cat_features=cat_features)\n",
    "y_pred_best = best_model.predict(X_test)\n",
    "mae_best = mean_absolute_error(y_test, y_pred_best)\n",
    "rmse_best = root_mean_squared_error(y_test, y_pred_best)\n",
    "r2_best = r2_score(y_test, y_pred_best)\n",
    "mape_best = np.mean(np.abs((y_test - y_pred_best) / y_test)) * 100\n",
    "\n",
    "print(f\" Улучшеный RMSE: {rmse_best:.2f}\")\n",
    "print(f\" Улучшеный R²: {r2_best:.4f}\")\n",
    "print(f\" Улучшеный MAE: {mae_best:.4f}\")\n"
   ]
  },
  {
   "cell_type": "code",
   "execution_count": 14,
   "id": "cfee4d22",
   "metadata": {},
   "outputs": [
    {
     "name": "stdout",
     "output_type": "stream",
     "text": [
      " Улучшеный RMSE: 3556774.02\n",
      " Улучшеный R²: 0.8429\n",
      " Улучшеный MAE: 2361786.0767\n"
     ]
    }
   ],
   "source": [
    "print(f\" Улучшеный RMSE: {rmse_best:.2f}\")\n",
    "print(f\" Улучшеный R²: {r2_best:.4f}\")\n",
    "print(f\" Улучшеный MAE: {mae_best:.4f}\")\n"
   ]
  },
  {
   "cell_type": "code",
   "execution_count": 15,
   "id": "cb61ebc4",
   "metadata": {},
   "outputs": [
    {
     "data": {
      "text/plain": [
       "<catboost.core.CatBoostRegressor at 0x1a18b7b6b30>"
      ]
     },
     "execution_count": 15,
     "metadata": {},
     "output_type": "execute_result"
    }
   ],
   "source": [
    "final_model = CatBoostRegressor(cat_features =cat_features, verbose=0,**best_params)\n",
    "final_model.fit(df.drop(TARGET, axis=1), df[TARGET])"
   ]
  },
  {
   "cell_type": "code",
   "execution_count": 16,
   "id": "77118e56",
   "metadata": {},
   "outputs": [
    {
     "data": {
      "text/plain": [
       "['property_model.pkl']"
      ]
     },
     "execution_count": 16,
     "metadata": {},
     "output_type": "execute_result"
    }
   ],
   "source": [
    "joblib.dump(final_model, 'property_model.pkl')"
   ]
  },
  {
   "cell_type": "markdown",
   "id": "6606fb83",
   "metadata": {},
   "source": [
    "## Выводы\n",
    "\n",
    "- Модель `CatBoostRegressor` показала высокую точность на отложенной выборке (R² ≈ 0.84).\n",
    "- Предварительная очистка выбросов, отбор и конструирование признаков улучшили качество модели.\n",
    "- Использован hold-out подход. Для повышения стабильности применена кросс-валидация.\n",
    "- Полученная модель может быть применена для оценки рыночной стоимости квартиры по входным признакам.\n"
   ]
  },
  {
   "cell_type": "markdown",
   "id": "66304f28",
   "metadata": {},
   "source": [
    "<!-- from sklearn.model_selection import train_test_split\n",
    "from sklearn.metrics import mean_squared_error, r2_score\n",
    "from catboost import CatBoostRegressor\n",
    "import numpy as np\n",
    "import pandas as pd\n",
    "\n",
    "df = pd.read_csv(\"avito_clean_final.csv\")  # путь к твоему файлу\n",
    "TARGET = \"Цена\"\n",
    "features = df.drop(columns=[TARGET]).columns.tolist()\n",
    "cat_features = df[features].select_dtypes(include=[\"object\"]).columns.tolist()\n",
    "\n",
    "X_train, X_test, y_train, y_test = train_test_split(df[features], df[TARGET], test_size=0.2, random_state=42)\n",
    "\n",
    "def evaluate_model(X_tr, X_te, y_tr, y_te, cat_feats, log_target=False, label=\"\"):\n",
    "    if log_target:\n",
    "        y_tr_log = np.log1p(y_tr)\n",
    "        model = CatBoostRegressor(verbose=0, random_state=42, cat_features=cat_feats)\n",
    "        model.fit(X_tr, y_tr_log)\n",
    "        y_pred = np.expm1(model.predict(X_te))\n",
    "    else:\n",
    "        model = CatBoostRegressor(verbose=0, random_state=42, cat_features=cat_feats)\n",
    "        model.fit(X_tr, y_tr)\n",
    "        y_pred = model.predict(X_te)\n",
    "\n",
    "    rmse = mean_squared_error(y_te, y_pred, squared=False)\n",
    "    r2 = r2_score(y_te, y_pred)\n",
    "    mape = np.mean(np.abs((y_te - y_pred) / np.clip(y_te, 1e-6, None))) * 100\n",
    "\n",
    "    print(f\"📊 {label}\")\n",
    "    print(f\"✅ RMSE: {rmse:.2f}\")\n",
    "    print(f\"✅ R²: {r2:.4f}\")\n",
    "    print(f\"✅ MAPE: {mape:.2f}%\")\n",
    "    print(\"-\" * 40)\n",
    "    return model, y_pred\n",
    "\n",
    "model_raw, y_pred_raw = evaluate_model(X_train, X_test, y_train, y_test, cat_features, log_target=False, label=\"Raw Target\")\n",
    "model_log, y_pred_log = evaluate_model(X_train, X_test, y_train, y_test, cat_features, log_target=True, label=\"Log-Transformed Target\") -->\n"
   ]
  }
 ],
 "metadata": {
  "kernelspec": {
   "display_name": "Python 3",
   "language": "python",
   "name": "python3"
  },
  "language_info": {
   "codemirror_mode": {
    "name": "ipython",
    "version": 3
   },
   "file_extension": ".py",
   "mimetype": "text/x-python",
   "name": "python",
   "nbconvert_exporter": "python",
   "pygments_lexer": "ipython3",
   "version": "3.10.11"
  }
 },
 "nbformat": 4,
 "nbformat_minor": 5
}
